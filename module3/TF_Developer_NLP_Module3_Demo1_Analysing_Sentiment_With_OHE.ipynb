{
  "nbformat": 4,
  "nbformat_minor": 0,
  "metadata": {
    "colab": {
      "provenance": [],
      "collapsed_sections": [
        "ywIy09YSPc6S",
        "TXLqIHnNWYMN",
        "veUCSdQEB0FL",
        "quWimVZjbemw",
        "ROXVUovhYRWG",
        "tNqRJ0wCbXMv"
      ],
      "authorship_tag": "ABX9TyOxmazCw5kMd/Mjk7ojkRv+",
      "include_colab_link": true
    },
    "kernelspec": {
      "name": "python3",
      "display_name": "Python 3"
    },
    "language_info": {
      "name": "python"
    },
    "gpuClass": "standard"
  },
  "cells": [
    {
      "cell_type": "markdown",
      "metadata": {
        "id": "view-in-github",
        "colab_type": "text"
      },
      "source": [
        "<a href=\"https://colab.research.google.com/github/axel-sirota/tf-dev-nlp/blob/main/module3/TF_Developer_NLP_Module3_Demo1_Analysing_Sentiment_With_OHE.ipynb\" target=\"_parent\"><img src=\"https://colab.research.google.com/assets/colab-badge.svg\" alt=\"Open In Colab\"/></a>"
      ]
    },
    {
      "cell_type": "markdown",
      "source": [
        "# Analysing Sentiment"
      ],
      "metadata": {
        "id": "QlJeKdJfTPMp"
      }
    },
    {
      "cell_type": "markdown",
      "source": [
        "## Setup stuff"
      ],
      "metadata": {
        "id": "ywIy09YSPc6S"
      }
    },
    {
      "cell_type": "markdown",
      "source": [
        "Let's first import everything and load the dataset"
      ],
      "metadata": {
        "id": "epE01e6NbbMg"
      }
    },
    {
      "cell_type": "code",
      "source": [
        "!pip install textblob"
      ],
      "metadata": {
        "id": "Vny3vC29NVZ8",
        "colab": {
          "base_uri": "https://localhost:8080/"
        },
        "outputId": "d86751fc-e5ad-4971-8991-aef8235aa917"
      },
      "execution_count": 1,
      "outputs": [
        {
          "output_type": "stream",
          "name": "stdout",
          "text": [
            "Looking in indexes: https://pypi.org/simple, https://us-python.pkg.dev/colab-wheels/public/simple/\n",
            "Requirement already satisfied: textblob in /usr/local/lib/python3.8/dist-packages (0.15.3)\n",
            "Requirement already satisfied: nltk>=3.1 in /usr/local/lib/python3.8/dist-packages (from textblob) (3.7)\n",
            "Requirement already satisfied: regex>=2021.8.3 in /usr/local/lib/python3.8/dist-packages (from nltk>=3.1->textblob) (2022.6.2)\n",
            "Requirement already satisfied: joblib in /usr/local/lib/python3.8/dist-packages (from nltk>=3.1->textblob) (1.2.0)\n",
            "Requirement already satisfied: tqdm in /usr/local/lib/python3.8/dist-packages (from nltk>=3.1->textblob) (4.64.1)\n",
            "Requirement already satisfied: click in /usr/local/lib/python3.8/dist-packages (from nltk>=3.1->textblob) (7.1.2)\n"
          ]
        }
      ]
    },
    {
      "cell_type": "code",
      "execution_count": 2,
      "metadata": {
        "id": "ri00gAaqSzrq",
        "colab": {
          "base_uri": "https://localhost:8080/"
        },
        "outputId": "80e64532-62b4-4236-c8b5-50073cdb1f79"
      },
      "outputs": [
        {
          "output_type": "stream",
          "name": "stderr",
          "text": [
            "[nltk_data] Downloading package punkt to /root/nltk_data...\n",
            "[nltk_data]   Unzipping tokenizers/punkt.zip.\n"
          ]
        },
        {
          "output_type": "execute_result",
          "data": {
            "text/plain": [
              "True"
            ]
          },
          "metadata": {},
          "execution_count": 2
        }
      ],
      "source": [
        "import multiprocessing\n",
        "import tensorflow as tf\n",
        "import sys\n",
        "import keras.backend as K\n",
        "from keras.models import Sequential\n",
        "from keras.layers import Dense, Embedding, Lambda, Input\n",
        "from keras.utils import np_utils\n",
        "from keras.preprocessing import sequence\n",
        "from keras.preprocessing.text import Tokenizer\n",
        "from textblob import TextBlob, Word\n",
        "from keras_preprocessing.sequence import pad_sequences\n",
        "from keras.initializers import Constant\n",
        "from sklearn.feature_extraction.text import CountVectorizer\n",
        "from tensorflow.nn import leaky_relu\n",
        "import numpy as np\n",
        "import random\n",
        "import os\n",
        "import pandas as pd\n",
        "import gensim\n",
        "import warnings\n",
        "import nltk\n",
        "\n",
        "TRACE = False\n",
        "\n",
        "def set_seeds_and_trace():\n",
        "  os.environ['PYTHONHASHSEED'] = '0'\n",
        "  np.random.seed(42)\n",
        "  tf.random.set_seed(42)\n",
        "  random.seed(42)\n",
        "  if TRACE:\n",
        "    tf.debugging.set_log_device_placement(True)\n",
        "\n",
        "def set_session_with_gpus_and_cores():\n",
        "  cores = multiprocessing.cpu_count()\n",
        "  gpus = len(tf.config.list_physical_devices('GPU'))\n",
        "  config = tf.compat.v1.ConfigProto( device_count = {'GPU': gpus  , 'CPU': cores} , intra_op_parallelism_threads=1, inter_op_parallelism_threads=1)\n",
        "  sess = tf.compat.v1.Session(config=config) \n",
        "  K.set_session(sess)\n",
        "\n",
        "set_seeds_and_trace()\n",
        "set_session_with_gpus_and_cores()\n",
        "warnings.filterwarnings('ignore')\n",
        "nltk.download('punkt')"
      ]
    },
    {
      "cell_type": "markdown",
      "source": [
        "Now we will download the dataset and explore it"
      ],
      "metadata": {
        "id": "8L6HlScpFdd9"
      }
    },
    {
      "cell_type": "code",
      "source": [
        "%%writefile get_data.sh\n",
        "if [ ! -f yelp.csv ]; then\n",
        "  wget -O yelp.csv https://www.dropbox.com/s/xds4lua69b7okw8/yelp.csv?dl=0\n",
        "fi"
      ],
      "metadata": {
        "id": "aHuUsDMlTXhM",
        "colab": {
          "base_uri": "https://localhost:8080/"
        },
        "outputId": "c1c71131-d3d2-4efc-edd1-7b0f12c265ba"
      },
      "execution_count": 3,
      "outputs": [
        {
          "output_type": "stream",
          "name": "stdout",
          "text": [
            "Writing get_data.sh\n"
          ]
        }
      ]
    },
    {
      "cell_type": "code",
      "source": [
        "!bash get_data.sh\n"
      ],
      "metadata": {
        "id": "Uq4-oO3KTnbQ",
        "colab": {
          "base_uri": "https://localhost:8080/"
        },
        "outputId": "36a8c4d9-ebf1-4dcc-b701-e98f094c54c0"
      },
      "execution_count": 4,
      "outputs": [
        {
          "output_type": "stream",
          "name": "stdout",
          "text": [
            "--2022-12-23 14:44:32--  https://www.dropbox.com/s/xds4lua69b7okw8/yelp.csv?dl=0\n",
            "Resolving www.dropbox.com (www.dropbox.com)... 162.125.3.18, 2620:100:601d:18::a27d:512\n",
            "Connecting to www.dropbox.com (www.dropbox.com)|162.125.3.18|:443... connected.\n",
            "HTTP request sent, awaiting response... 302 Found\n",
            "Location: /s/raw/xds4lua69b7okw8/yelp.csv [following]\n",
            "--2022-12-23 14:44:32--  https://www.dropbox.com/s/raw/xds4lua69b7okw8/yelp.csv\n",
            "Reusing existing connection to www.dropbox.com:443.\n",
            "HTTP request sent, awaiting response... 302 Found\n",
            "Location: https://uc1b2db098705ff079f2e976995d.dl.dropboxusercontent.com/cd/0/inline/BzLyYBRfo9zgylGWPQBYVhsWg4rWBPcjdJzIvMukLJbfd_hVyprhNBVU1srNQ9P6Ul3k-NChWq_lBXRtI8ABUS8Gse-rFPIx_1ONxZZoK9l6cp5Z08eNXzFLhO2fb3ODQR3Ic060ASunYiV0OHPnGkAeNw_1iHEKCClanHChMgfscA/file# [following]\n",
            "--2022-12-23 14:44:32--  https://uc1b2db098705ff079f2e976995d.dl.dropboxusercontent.com/cd/0/inline/BzLyYBRfo9zgylGWPQBYVhsWg4rWBPcjdJzIvMukLJbfd_hVyprhNBVU1srNQ9P6Ul3k-NChWq_lBXRtI8ABUS8Gse-rFPIx_1ONxZZoK9l6cp5Z08eNXzFLhO2fb3ODQR3Ic060ASunYiV0OHPnGkAeNw_1iHEKCClanHChMgfscA/file\n",
            "Resolving uc1b2db098705ff079f2e976995d.dl.dropboxusercontent.com (uc1b2db098705ff079f2e976995d.dl.dropboxusercontent.com)... 162.125.3.15, 2620:100:6018:15::a27d:30f\n",
            "Connecting to uc1b2db098705ff079f2e976995d.dl.dropboxusercontent.com (uc1b2db098705ff079f2e976995d.dl.dropboxusercontent.com)|162.125.3.15|:443... connected.\n",
            "HTTP request sent, awaiting response... 200 OK\n",
            "Length: 8091185 (7.7M) [text/plain]\n",
            "Saving to: ‘yelp.csv’\n",
            "\n",
            "yelp.csv            100%[===================>]   7.72M  22.3MB/s    in 0.3s    \n",
            "\n",
            "2022-12-23 14:44:33 (22.3 MB/s) - ‘yelp.csv’ saved [8091185/8091185]\n",
            "\n"
          ]
        }
      ]
    },
    {
      "cell_type": "code",
      "source": [
        "path = './yelp.csv'\n",
        "yelp = pd.read_csv(path)\n",
        "yelp\n"
      ],
      "metadata": {
        "id": "i32aK_G6TZl9",
        "colab": {
          "base_uri": "https://localhost:8080/",
          "height": 797
        },
        "outputId": "f6e3544b-a6bf-4909-bb13-153f9b9c9b14"
      },
      "execution_count": 5,
      "outputs": [
        {
          "output_type": "execute_result",
          "data": {
            "text/plain": [
              "                 business_id        date               review_id  stars  \\\n",
              "0     9yKzy9PApeiPPOUJEtnvkg  2011-01-26  fWKvX83p0-ka4JS3dc6E5A      5   \n",
              "1     ZRJwVLyzEJq1VAihDhYiow  2011-07-27  IjZ33sJrzXqU-0X6U8NwyA      5   \n",
              "2     6oRAC4uyJCsJl1X0WZpVSA  2012-06-14  IESLBzqUCLdSzSqm0eCSxQ      4   \n",
              "3     _1QQZuf4zZOyFCvXc0o6Vg  2010-05-27  G-WvGaISbqqaMHlNnByodA      5   \n",
              "4     6ozycU1RpktNG2-1BroVtw  2012-01-05  1uJFq2r5QfJG_6ExMRCaGw      5   \n",
              "...                      ...         ...                     ...    ...   \n",
              "9995  VY_tvNUCCXGXQeSvJl757Q  2012-07-28  Ubyfp2RSDYW0g7Mbr8N3iA      3   \n",
              "9996  EKzMHI1tip8rC1-ZAy64yg  2012-01-18  2XyIOQKbVFb6uXQdJ0RzlQ      4   \n",
              "9997  53YGfwmbW73JhFiemNeyzQ  2010-11-16  jyznYkIbpqVmlsZxSDSypA      4   \n",
              "9998  9SKdOoDHcFoxK5ZtsgHJoA  2012-12-02  5UKq9WQE1qQbJ0DJbc-B6Q      2   \n",
              "9999  pF7uRzygyZsltbmVpjIyvw  2010-10-16  vWSmOhg2ID1MNZHaWapGbA      5   \n",
              "\n",
              "                                                   text    type  \\\n",
              "0     My wife took me here on my birthday for breakf...  review   \n",
              "1     I have no idea why some people give bad review...  review   \n",
              "2     love the gyro plate. Rice is so good and I als...  review   \n",
              "3     Rosie, Dakota, and I LOVE Chaparral Dog Park!!...  review   \n",
              "4     General Manager Scott Petello is a good egg!!!...  review   \n",
              "...                                                 ...     ...   \n",
              "9995  First visit...Had lunch here today - used my G...  review   \n",
              "9996  Should be called house of deliciousness!\\n\\nI ...  review   \n",
              "9997  I recently visited Olive and Ivy for business ...  review   \n",
              "9998  My nephew just moved to Scottsdale recently so...  review   \n",
              "9999  4-5 locations.. all 4.5 star average.. I think...  review   \n",
              "\n",
              "                     user_id  cool  useful  funny  \n",
              "0     rLtl8ZkDX5vH5nAx9C3q5Q     2       5      0  \n",
              "1     0a2KyEL0d3Yb1V6aivbIuQ     0       0      0  \n",
              "2     0hT2KtfLiobPvh6cDC8JQg     0       1      0  \n",
              "3     uZetl9T0NcROGOyFfughhg     1       2      0  \n",
              "4     vYmM4KTsC8ZfQBg-j5MWkw     0       0      0  \n",
              "...                      ...   ...     ...    ...  \n",
              "9995  _eqQoPtQ3e3UxLE4faT6ow     1       2      0  \n",
              "9996  ROru4uk5SaYc3rg8IU7SQw     0       0      0  \n",
              "9997  gGbN1aKQHMgfQZkqlsuwzg     0       0      0  \n",
              "9998  0lyVoNazXa20WzUyZPLaQQ     0       0      0  \n",
              "9999  KSBFytcdjPKZgXKQnYQdkA     0       0      0  \n",
              "\n",
              "[10000 rows x 10 columns]"
            ],
            "text/html": [
              "\n",
              "  <div id=\"df-82ac2b91-98ff-482d-9861-27ff2b326702\">\n",
              "    <div class=\"colab-df-container\">\n",
              "      <div>\n",
              "<style scoped>\n",
              "    .dataframe tbody tr th:only-of-type {\n",
              "        vertical-align: middle;\n",
              "    }\n",
              "\n",
              "    .dataframe tbody tr th {\n",
              "        vertical-align: top;\n",
              "    }\n",
              "\n",
              "    .dataframe thead th {\n",
              "        text-align: right;\n",
              "    }\n",
              "</style>\n",
              "<table border=\"1\" class=\"dataframe\">\n",
              "  <thead>\n",
              "    <tr style=\"text-align: right;\">\n",
              "      <th></th>\n",
              "      <th>business_id</th>\n",
              "      <th>date</th>\n",
              "      <th>review_id</th>\n",
              "      <th>stars</th>\n",
              "      <th>text</th>\n",
              "      <th>type</th>\n",
              "      <th>user_id</th>\n",
              "      <th>cool</th>\n",
              "      <th>useful</th>\n",
              "      <th>funny</th>\n",
              "    </tr>\n",
              "  </thead>\n",
              "  <tbody>\n",
              "    <tr>\n",
              "      <th>0</th>\n",
              "      <td>9yKzy9PApeiPPOUJEtnvkg</td>\n",
              "      <td>2011-01-26</td>\n",
              "      <td>fWKvX83p0-ka4JS3dc6E5A</td>\n",
              "      <td>5</td>\n",
              "      <td>My wife took me here on my birthday for breakf...</td>\n",
              "      <td>review</td>\n",
              "      <td>rLtl8ZkDX5vH5nAx9C3q5Q</td>\n",
              "      <td>2</td>\n",
              "      <td>5</td>\n",
              "      <td>0</td>\n",
              "    </tr>\n",
              "    <tr>\n",
              "      <th>1</th>\n",
              "      <td>ZRJwVLyzEJq1VAihDhYiow</td>\n",
              "      <td>2011-07-27</td>\n",
              "      <td>IjZ33sJrzXqU-0X6U8NwyA</td>\n",
              "      <td>5</td>\n",
              "      <td>I have no idea why some people give bad review...</td>\n",
              "      <td>review</td>\n",
              "      <td>0a2KyEL0d3Yb1V6aivbIuQ</td>\n",
              "      <td>0</td>\n",
              "      <td>0</td>\n",
              "      <td>0</td>\n",
              "    </tr>\n",
              "    <tr>\n",
              "      <th>2</th>\n",
              "      <td>6oRAC4uyJCsJl1X0WZpVSA</td>\n",
              "      <td>2012-06-14</td>\n",
              "      <td>IESLBzqUCLdSzSqm0eCSxQ</td>\n",
              "      <td>4</td>\n",
              "      <td>love the gyro plate. Rice is so good and I als...</td>\n",
              "      <td>review</td>\n",
              "      <td>0hT2KtfLiobPvh6cDC8JQg</td>\n",
              "      <td>0</td>\n",
              "      <td>1</td>\n",
              "      <td>0</td>\n",
              "    </tr>\n",
              "    <tr>\n",
              "      <th>3</th>\n",
              "      <td>_1QQZuf4zZOyFCvXc0o6Vg</td>\n",
              "      <td>2010-05-27</td>\n",
              "      <td>G-WvGaISbqqaMHlNnByodA</td>\n",
              "      <td>5</td>\n",
              "      <td>Rosie, Dakota, and I LOVE Chaparral Dog Park!!...</td>\n",
              "      <td>review</td>\n",
              "      <td>uZetl9T0NcROGOyFfughhg</td>\n",
              "      <td>1</td>\n",
              "      <td>2</td>\n",
              "      <td>0</td>\n",
              "    </tr>\n",
              "    <tr>\n",
              "      <th>4</th>\n",
              "      <td>6ozycU1RpktNG2-1BroVtw</td>\n",
              "      <td>2012-01-05</td>\n",
              "      <td>1uJFq2r5QfJG_6ExMRCaGw</td>\n",
              "      <td>5</td>\n",
              "      <td>General Manager Scott Petello is a good egg!!!...</td>\n",
              "      <td>review</td>\n",
              "      <td>vYmM4KTsC8ZfQBg-j5MWkw</td>\n",
              "      <td>0</td>\n",
              "      <td>0</td>\n",
              "      <td>0</td>\n",
              "    </tr>\n",
              "    <tr>\n",
              "      <th>...</th>\n",
              "      <td>...</td>\n",
              "      <td>...</td>\n",
              "      <td>...</td>\n",
              "      <td>...</td>\n",
              "      <td>...</td>\n",
              "      <td>...</td>\n",
              "      <td>...</td>\n",
              "      <td>...</td>\n",
              "      <td>...</td>\n",
              "      <td>...</td>\n",
              "    </tr>\n",
              "    <tr>\n",
              "      <th>9995</th>\n",
              "      <td>VY_tvNUCCXGXQeSvJl757Q</td>\n",
              "      <td>2012-07-28</td>\n",
              "      <td>Ubyfp2RSDYW0g7Mbr8N3iA</td>\n",
              "      <td>3</td>\n",
              "      <td>First visit...Had lunch here today - used my G...</td>\n",
              "      <td>review</td>\n",
              "      <td>_eqQoPtQ3e3UxLE4faT6ow</td>\n",
              "      <td>1</td>\n",
              "      <td>2</td>\n",
              "      <td>0</td>\n",
              "    </tr>\n",
              "    <tr>\n",
              "      <th>9996</th>\n",
              "      <td>EKzMHI1tip8rC1-ZAy64yg</td>\n",
              "      <td>2012-01-18</td>\n",
              "      <td>2XyIOQKbVFb6uXQdJ0RzlQ</td>\n",
              "      <td>4</td>\n",
              "      <td>Should be called house of deliciousness!\\n\\nI ...</td>\n",
              "      <td>review</td>\n",
              "      <td>ROru4uk5SaYc3rg8IU7SQw</td>\n",
              "      <td>0</td>\n",
              "      <td>0</td>\n",
              "      <td>0</td>\n",
              "    </tr>\n",
              "    <tr>\n",
              "      <th>9997</th>\n",
              "      <td>53YGfwmbW73JhFiemNeyzQ</td>\n",
              "      <td>2010-11-16</td>\n",
              "      <td>jyznYkIbpqVmlsZxSDSypA</td>\n",
              "      <td>4</td>\n",
              "      <td>I recently visited Olive and Ivy for business ...</td>\n",
              "      <td>review</td>\n",
              "      <td>gGbN1aKQHMgfQZkqlsuwzg</td>\n",
              "      <td>0</td>\n",
              "      <td>0</td>\n",
              "      <td>0</td>\n",
              "    </tr>\n",
              "    <tr>\n",
              "      <th>9998</th>\n",
              "      <td>9SKdOoDHcFoxK5ZtsgHJoA</td>\n",
              "      <td>2012-12-02</td>\n",
              "      <td>5UKq9WQE1qQbJ0DJbc-B6Q</td>\n",
              "      <td>2</td>\n",
              "      <td>My nephew just moved to Scottsdale recently so...</td>\n",
              "      <td>review</td>\n",
              "      <td>0lyVoNazXa20WzUyZPLaQQ</td>\n",
              "      <td>0</td>\n",
              "      <td>0</td>\n",
              "      <td>0</td>\n",
              "    </tr>\n",
              "    <tr>\n",
              "      <th>9999</th>\n",
              "      <td>pF7uRzygyZsltbmVpjIyvw</td>\n",
              "      <td>2010-10-16</td>\n",
              "      <td>vWSmOhg2ID1MNZHaWapGbA</td>\n",
              "      <td>5</td>\n",
              "      <td>4-5 locations.. all 4.5 star average.. I think...</td>\n",
              "      <td>review</td>\n",
              "      <td>KSBFytcdjPKZgXKQnYQdkA</td>\n",
              "      <td>0</td>\n",
              "      <td>0</td>\n",
              "      <td>0</td>\n",
              "    </tr>\n",
              "  </tbody>\n",
              "</table>\n",
              "<p>10000 rows × 10 columns</p>\n",
              "</div>\n",
              "      <button class=\"colab-df-convert\" onclick=\"convertToInteractive('df-82ac2b91-98ff-482d-9861-27ff2b326702')\"\n",
              "              title=\"Convert this dataframe to an interactive table.\"\n",
              "              style=\"display:none;\">\n",
              "        \n",
              "  <svg xmlns=\"http://www.w3.org/2000/svg\" height=\"24px\"viewBox=\"0 0 24 24\"\n",
              "       width=\"24px\">\n",
              "    <path d=\"M0 0h24v24H0V0z\" fill=\"none\"/>\n",
              "    <path d=\"M18.56 5.44l.94 2.06.94-2.06 2.06-.94-2.06-.94-.94-2.06-.94 2.06-2.06.94zm-11 1L8.5 8.5l.94-2.06 2.06-.94-2.06-.94L8.5 2.5l-.94 2.06-2.06.94zm10 10l.94 2.06.94-2.06 2.06-.94-2.06-.94-.94-2.06-.94 2.06-2.06.94z\"/><path d=\"M17.41 7.96l-1.37-1.37c-.4-.4-.92-.59-1.43-.59-.52 0-1.04.2-1.43.59L10.3 9.45l-7.72 7.72c-.78.78-.78 2.05 0 2.83L4 21.41c.39.39.9.59 1.41.59.51 0 1.02-.2 1.41-.59l7.78-7.78 2.81-2.81c.8-.78.8-2.07 0-2.86zM5.41 20L4 18.59l7.72-7.72 1.47 1.35L5.41 20z\"/>\n",
              "  </svg>\n",
              "      </button>\n",
              "      \n",
              "  <style>\n",
              "    .colab-df-container {\n",
              "      display:flex;\n",
              "      flex-wrap:wrap;\n",
              "      gap: 12px;\n",
              "    }\n",
              "\n",
              "    .colab-df-convert {\n",
              "      background-color: #E8F0FE;\n",
              "      border: none;\n",
              "      border-radius: 50%;\n",
              "      cursor: pointer;\n",
              "      display: none;\n",
              "      fill: #1967D2;\n",
              "      height: 32px;\n",
              "      padding: 0 0 0 0;\n",
              "      width: 32px;\n",
              "    }\n",
              "\n",
              "    .colab-df-convert:hover {\n",
              "      background-color: #E2EBFA;\n",
              "      box-shadow: 0px 1px 2px rgba(60, 64, 67, 0.3), 0px 1px 3px 1px rgba(60, 64, 67, 0.15);\n",
              "      fill: #174EA6;\n",
              "    }\n",
              "\n",
              "    [theme=dark] .colab-df-convert {\n",
              "      background-color: #3B4455;\n",
              "      fill: #D2E3FC;\n",
              "    }\n",
              "\n",
              "    [theme=dark] .colab-df-convert:hover {\n",
              "      background-color: #434B5C;\n",
              "      box-shadow: 0px 1px 3px 1px rgba(0, 0, 0, 0.15);\n",
              "      filter: drop-shadow(0px 1px 2px rgba(0, 0, 0, 0.3));\n",
              "      fill: #FFFFFF;\n",
              "    }\n",
              "  </style>\n",
              "\n",
              "      <script>\n",
              "        const buttonEl =\n",
              "          document.querySelector('#df-82ac2b91-98ff-482d-9861-27ff2b326702 button.colab-df-convert');\n",
              "        buttonEl.style.display =\n",
              "          google.colab.kernel.accessAllowed ? 'block' : 'none';\n",
              "\n",
              "        async function convertToInteractive(key) {\n",
              "          const element = document.querySelector('#df-82ac2b91-98ff-482d-9861-27ff2b326702');\n",
              "          const dataTable =\n",
              "            await google.colab.kernel.invokeFunction('convertToInteractive',\n",
              "                                                     [key], {});\n",
              "          if (!dataTable) return;\n",
              "\n",
              "          const docLinkHtml = 'Like what you see? Visit the ' +\n",
              "            '<a target=\"_blank\" href=https://colab.research.google.com/notebooks/data_table.ipynb>data table notebook</a>'\n",
              "            + ' to learn more about interactive tables.';\n",
              "          element.innerHTML = '';\n",
              "          dataTable['output_type'] = 'display_data';\n",
              "          await google.colab.output.renderOutput(dataTable, element);\n",
              "          const docLink = document.createElement('div');\n",
              "          docLink.innerHTML = docLinkHtml;\n",
              "          element.appendChild(docLink);\n",
              "        }\n",
              "      </script>\n",
              "    </div>\n",
              "  </div>\n",
              "  "
            ]
          },
          "metadata": {},
          "execution_count": 5
        }
      ]
    },
    {
      "cell_type": "code",
      "source": [
        "# Create a new DataFrame that only contains the 5-star and 1-star reviews.\n",
        "yelp_best_worst = yelp[(yelp.stars==5) | (yelp.stars==1)]\n",
        "X = yelp_best_worst.text\n",
        "y = yelp_best_worst.stars.map({1:0, 5:1})\n"
      ],
      "metadata": {
        "id": "FOf6f1vE-gjp"
      },
      "execution_count": 6,
      "outputs": []
    },
    {
      "cell_type": "code",
      "source": [
        "y.value_counts()"
      ],
      "metadata": {
        "id": "ufXEpXByG7xT",
        "colab": {
          "base_uri": "https://localhost:8080/"
        },
        "outputId": "6b9d2db2-f5f0-407d-9ec4-e96a45cc7e4b"
      },
      "execution_count": 7,
      "outputs": [
        {
          "output_type": "execute_result",
          "data": {
            "text/plain": [
              "1    3337\n",
              "0     749\n",
              "Name: stars, dtype: int64"
            ]
          },
          "metadata": {},
          "execution_count": 7
        }
      ]
    },
    {
      "cell_type": "markdown",
      "source": [
        "Our dataset is not too imbalanced so we can move on!"
      ],
      "metadata": {
        "id": "7Zge1JhwjBy1"
      }
    },
    {
      "cell_type": "markdown",
      "source": [
        "## Filtering and creating the corpus"
      ],
      "metadata": {
        "id": "TXLqIHnNWYMN"
      }
    },
    {
      "cell_type": "markdown",
      "source": [
        "Our first job is to filter the reviews that are too short or have weird characters. One way is using TextBlob although we will see others as we progress"
      ],
      "metadata": {
        "id": "_LuJGb1wjeh3"
      }
    },
    {
      "cell_type": "code",
      "source": [
        "corpus_with_ix = [(ix, ' '.join(TextBlob(sentence).words)) for ix, sentence in X.iteritems() if type(sentence) == str and len(TextBlob(sentence).words) > 3]\n"
      ],
      "metadata": {
        "id": "MebwtE3DH0Qu"
      },
      "execution_count": 8,
      "outputs": []
    },
    {
      "cell_type": "code",
      "source": [
        "corpus_with_ix[0]"
      ],
      "metadata": {
        "id": "1pjd3cYbI-ib",
        "colab": {
          "base_uri": "https://localhost:8080/"
        },
        "outputId": "65d42775-f323-47a8-9120-59afafd49c35"
      },
      "execution_count": 9,
      "outputs": [
        {
          "output_type": "execute_result",
          "data": {
            "text/plain": [
              "(0,\n",
              " \"My wife took me here on my birthday for breakfast and it was excellent The weather was perfect which made sitting outside overlooking their grounds an absolute pleasure Our waitress was excellent and our food arrived quickly on the semi-busy Saturday morning It looked like the place fills up pretty quickly so the earlier you get here the better Do yourself a favor and get their Bloody Mary It was phenomenal and simply the best I 've ever had I 'm pretty sure they only use ingredients from their garden and blend them fresh when you order it It was amazing While EVERYTHING on the menu looks excellent I had the white truffle scrambled eggs vegetable skillet and it was tasty and delicious It came with 2 pieces of their griddled bread with was amazing and it absolutely made the meal complete It was the best toast I 've ever had Anyway I ca n't wait to go back\")"
            ]
          },
          "metadata": {},
          "execution_count": 9
        }
      ]
    },
    {
      "cell_type": "code",
      "source": [
        "corpus_df = pd.DataFrame(corpus_with_ix, columns=['index', 'text'])"
      ],
      "metadata": {
        "id": "r2jN-duFXT7-"
      },
      "execution_count": 10,
      "outputs": []
    },
    {
      "cell_type": "code",
      "source": [
        "corpus_df.head()"
      ],
      "metadata": {
        "id": "bt5YXTj6Xft6",
        "colab": {
          "base_uri": "https://localhost:8080/",
          "height": 206
        },
        "outputId": "36ed4ba1-633a-42a9-bb34-8a7117bb3d2e"
      },
      "execution_count": 11,
      "outputs": [
        {
          "output_type": "execute_result",
          "data": {
            "text/plain": [
              "   index                                               text\n",
              "0      0  My wife took me here on my birthday for breakf...\n",
              "1      1  I have no idea why some people give bad review...\n",
              "2      3  Rosie Dakota and I LOVE Chaparral Dog Park It ...\n",
              "3      4  General Manager Scott Petello is a good egg No...\n",
              "4      6  Drop what you 're doing and drive here After I..."
            ],
            "text/html": [
              "\n",
              "  <div id=\"df-c5fcee4c-e5d6-4bb3-b7e4-101431933253\">\n",
              "    <div class=\"colab-df-container\">\n",
              "      <div>\n",
              "<style scoped>\n",
              "    .dataframe tbody tr th:only-of-type {\n",
              "        vertical-align: middle;\n",
              "    }\n",
              "\n",
              "    .dataframe tbody tr th {\n",
              "        vertical-align: top;\n",
              "    }\n",
              "\n",
              "    .dataframe thead th {\n",
              "        text-align: right;\n",
              "    }\n",
              "</style>\n",
              "<table border=\"1\" class=\"dataframe\">\n",
              "  <thead>\n",
              "    <tr style=\"text-align: right;\">\n",
              "      <th></th>\n",
              "      <th>index</th>\n",
              "      <th>text</th>\n",
              "    </tr>\n",
              "  </thead>\n",
              "  <tbody>\n",
              "    <tr>\n",
              "      <th>0</th>\n",
              "      <td>0</td>\n",
              "      <td>My wife took me here on my birthday for breakf...</td>\n",
              "    </tr>\n",
              "    <tr>\n",
              "      <th>1</th>\n",
              "      <td>1</td>\n",
              "      <td>I have no idea why some people give bad review...</td>\n",
              "    </tr>\n",
              "    <tr>\n",
              "      <th>2</th>\n",
              "      <td>3</td>\n",
              "      <td>Rosie Dakota and I LOVE Chaparral Dog Park It ...</td>\n",
              "    </tr>\n",
              "    <tr>\n",
              "      <th>3</th>\n",
              "      <td>4</td>\n",
              "      <td>General Manager Scott Petello is a good egg No...</td>\n",
              "    </tr>\n",
              "    <tr>\n",
              "      <th>4</th>\n",
              "      <td>6</td>\n",
              "      <td>Drop what you 're doing and drive here After I...</td>\n",
              "    </tr>\n",
              "  </tbody>\n",
              "</table>\n",
              "</div>\n",
              "      <button class=\"colab-df-convert\" onclick=\"convertToInteractive('df-c5fcee4c-e5d6-4bb3-b7e4-101431933253')\"\n",
              "              title=\"Convert this dataframe to an interactive table.\"\n",
              "              style=\"display:none;\">\n",
              "        \n",
              "  <svg xmlns=\"http://www.w3.org/2000/svg\" height=\"24px\"viewBox=\"0 0 24 24\"\n",
              "       width=\"24px\">\n",
              "    <path d=\"M0 0h24v24H0V0z\" fill=\"none\"/>\n",
              "    <path d=\"M18.56 5.44l.94 2.06.94-2.06 2.06-.94-2.06-.94-.94-2.06-.94 2.06-2.06.94zm-11 1L8.5 8.5l.94-2.06 2.06-.94-2.06-.94L8.5 2.5l-.94 2.06-2.06.94zm10 10l.94 2.06.94-2.06 2.06-.94-2.06-.94-.94-2.06-.94 2.06-2.06.94z\"/><path d=\"M17.41 7.96l-1.37-1.37c-.4-.4-.92-.59-1.43-.59-.52 0-1.04.2-1.43.59L10.3 9.45l-7.72 7.72c-.78.78-.78 2.05 0 2.83L4 21.41c.39.39.9.59 1.41.59.51 0 1.02-.2 1.41-.59l7.78-7.78 2.81-2.81c.8-.78.8-2.07 0-2.86zM5.41 20L4 18.59l7.72-7.72 1.47 1.35L5.41 20z\"/>\n",
              "  </svg>\n",
              "      </button>\n",
              "      \n",
              "  <style>\n",
              "    .colab-df-container {\n",
              "      display:flex;\n",
              "      flex-wrap:wrap;\n",
              "      gap: 12px;\n",
              "    }\n",
              "\n",
              "    .colab-df-convert {\n",
              "      background-color: #E8F0FE;\n",
              "      border: none;\n",
              "      border-radius: 50%;\n",
              "      cursor: pointer;\n",
              "      display: none;\n",
              "      fill: #1967D2;\n",
              "      height: 32px;\n",
              "      padding: 0 0 0 0;\n",
              "      width: 32px;\n",
              "    }\n",
              "\n",
              "    .colab-df-convert:hover {\n",
              "      background-color: #E2EBFA;\n",
              "      box-shadow: 0px 1px 2px rgba(60, 64, 67, 0.3), 0px 1px 3px 1px rgba(60, 64, 67, 0.15);\n",
              "      fill: #174EA6;\n",
              "    }\n",
              "\n",
              "    [theme=dark] .colab-df-convert {\n",
              "      background-color: #3B4455;\n",
              "      fill: #D2E3FC;\n",
              "    }\n",
              "\n",
              "    [theme=dark] .colab-df-convert:hover {\n",
              "      background-color: #434B5C;\n",
              "      box-shadow: 0px 1px 3px 1px rgba(0, 0, 0, 0.15);\n",
              "      filter: drop-shadow(0px 1px 2px rgba(0, 0, 0, 0.3));\n",
              "      fill: #FFFFFF;\n",
              "    }\n",
              "  </style>\n",
              "\n",
              "      <script>\n",
              "        const buttonEl =\n",
              "          document.querySelector('#df-c5fcee4c-e5d6-4bb3-b7e4-101431933253 button.colab-df-convert');\n",
              "        buttonEl.style.display =\n",
              "          google.colab.kernel.accessAllowed ? 'block' : 'none';\n",
              "\n",
              "        async function convertToInteractive(key) {\n",
              "          const element = document.querySelector('#df-c5fcee4c-e5d6-4bb3-b7e4-101431933253');\n",
              "          const dataTable =\n",
              "            await google.colab.kernel.invokeFunction('convertToInteractive',\n",
              "                                                     [key], {});\n",
              "          if (!dataTable) return;\n",
              "\n",
              "          const docLinkHtml = 'Like what you see? Visit the ' +\n",
              "            '<a target=\"_blank\" href=https://colab.research.google.com/notebooks/data_table.ipynb>data table notebook</a>'\n",
              "            + ' to learn more about interactive tables.';\n",
              "          element.innerHTML = '';\n",
              "          dataTable['output_type'] = 'display_data';\n",
              "          await google.colab.output.renderOutput(dataTable, element);\n",
              "          const docLink = document.createElement('div');\n",
              "          docLink.innerHTML = docLinkHtml;\n",
              "          element.appendChild(docLink);\n",
              "        }\n",
              "      </script>\n",
              "    </div>\n",
              "  </div>\n",
              "  "
            ]
          },
          "metadata": {},
          "execution_count": 11
        }
      ]
    },
    {
      "cell_type": "markdown",
      "source": [
        "Notice that the index column is not \"the same\" as the index of the DF, because some sentences are filtered out. Now we need to filter out the corresponding y values"
      ],
      "metadata": {
        "id": "_Rrs11U-jpaQ"
      }
    },
    {
      "cell_type": "code",
      "source": [
        "y_filtered = y[corpus_df['index']].to_numpy()"
      ],
      "metadata": {
        "id": "od6DxRRZJUMf"
      },
      "execution_count": 12,
      "outputs": []
    },
    {
      "cell_type": "code",
      "source": [
        "corpus = [sentence for ix, sentence in corpus_with_ix]"
      ],
      "metadata": {
        "id": "bWV2wVBxJuaZ"
      },
      "execution_count": 13,
      "outputs": []
    },
    {
      "cell_type": "code",
      "source": [
        "corpus[0]"
      ],
      "metadata": {
        "colab": {
          "base_uri": "https://localhost:8080/",
          "height": 141
        },
        "id": "hIeyPMV-sIMs",
        "outputId": "0c681d3f-fd83-4281-d616-c83a0b231108"
      },
      "execution_count": 31,
      "outputs": [
        {
          "output_type": "execute_result",
          "data": {
            "text/plain": [
              "\"My wife took me here on my birthday for breakfast and it was excellent The weather was perfect which made sitting outside overlooking their grounds an absolute pleasure Our waitress was excellent and our food arrived quickly on the semi-busy Saturday morning It looked like the place fills up pretty quickly so the earlier you get here the better Do yourself a favor and get their Bloody Mary It was phenomenal and simply the best I 've ever had I 'm pretty sure they only use ingredients from their garden and blend them fresh when you order it It was amazing While EVERYTHING on the menu looks excellent I had the white truffle scrambled eggs vegetable skillet and it was tasty and delicious It came with 2 pieces of their griddled bread with was amazing and it absolutely made the meal complete It was the best toast I 've ever had Anyway I ca n't wait to go back\""
            ],
            "application/vnd.google.colaboratory.intrinsic+json": {
              "type": "string"
            }
          },
          "metadata": {},
          "execution_count": 31
        }
      ]
    },
    {
      "cell_type": "markdown",
      "source": [
        "Now we will use Keras tokenizer to construct a vocab and a word to index mapping. In further demos we will change these by embeddings"
      ],
      "metadata": {
        "id": "qY44oAmRjyyb"
      }
    },
    {
      "cell_type": "code",
      "source": [
        "tokenizer = Tokenizer()\n",
        "tokenizer.fit_on_texts(corpus)\n",
        "tokenized_corpus = tokenizer.texts_to_sequences(corpus)\n",
        "tokenized_corpus[0][:6]\n"
      ],
      "metadata": {
        "id": "apYewpk3Hfyq",
        "colab": {
          "base_uri": "https://localhost:8080/"
        },
        "outputId": "a4fc3b9a-5143-4e27-fef6-adbc19796216"
      },
      "execution_count": 32,
      "outputs": [
        {
          "output_type": "execute_result",
          "data": {
            "text/plain": [
              "[13, 411, 204, 36, 41, 21]"
            ]
          },
          "metadata": {},
          "execution_count": 32
        }
      ]
    },
    {
      "cell_type": "code",
      "source": [
        "nb_samples = sum(len(s) for s in corpus)\n",
        "vocab_size = len(tokenizer.word_index) + 1"
      ],
      "metadata": {
        "id": "oP0V04dWsvbV"
      },
      "execution_count": 33,
      "outputs": []
    },
    {
      "cell_type": "code",
      "source": [
        "nb_samples, vocab_size"
      ],
      "metadata": {
        "id": "Tn7zVwYuH-_A",
        "colab": {
          "base_uri": "https://localhost:8080/"
        },
        "outputId": "55265f25-f179-4971-dbcd-506e4576e99a"
      },
      "execution_count": 34,
      "outputs": [
        {
          "output_type": "execute_result",
          "data": {
            "text/plain": [
              "(2616086, 19331)"
            ]
          },
          "metadata": {},
          "execution_count": 34
        }
      ]
    },
    {
      "cell_type": "markdown",
      "source": [
        "Notice we handled 2 million tokens in almost 20K words indexed. "
      ],
      "metadata": {
        "id": "GFeq-1XRj-H9"
      }
    },
    {
      "cell_type": "markdown",
      "source": [
        "## Creating the tensor"
      ],
      "metadata": {
        "id": "veUCSdQEB0FL"
      }
    },
    {
      "cell_type": "markdown",
      "source": [
        "Now comes the crucial step, we need to PAD out tokenized corpus to construct the tensor. For this we can verify the value 0 is not used for any word"
      ],
      "metadata": {
        "id": "wb6tMROUB8RO"
      }
    },
    {
      "cell_type": "code",
      "source": [
        "for ix, word in tokenizer.index_word.items():\n",
        "  print(ix, word)\n",
        "  if ix > 5:\n",
        "    break"
      ],
      "metadata": {
        "colab": {
          "base_uri": "https://localhost:8080/"
        },
        "id": "GsjEb_CHBU3P",
        "outputId": "c73dbbc1-ae66-4efd-abd2-ea1667225259"
      },
      "execution_count": 39,
      "outputs": [
        {
          "output_type": "stream",
          "name": "stdout",
          "text": [
            "1 the\n",
            "2 and\n",
            "3 i\n",
            "4 a\n",
            "5 to\n",
            "6 of\n"
          ]
        }
      ]
    },
    {
      "cell_type": "code",
      "source": [
        "def get_maximum_review_length(tokenized_corpus):\n",
        "    maximum = 0\n",
        "    for sentence in tokenized_corpus:\n",
        "        candidate = len(sentence)\n",
        "        if candidate > maximum:\n",
        "            maximum = candidate\n",
        "    return maximum\n",
        "max_review_length = get_maximum_review_length(tokenized_corpus)"
      ],
      "metadata": {
        "id": "fAQ1wVIScTYK"
      },
      "execution_count": 17,
      "outputs": []
    },
    {
      "cell_type": "code",
      "source": [
        "final_X = np.zeros((len(tokenized_corpus), max_review_length))\n",
        "for ix, tokenized_sentence in enumerate(tokenized_corpus):\n",
        "    tokenized_sentence.extend([0]*(max_review_length-len(tokenized_sentence)))\n",
        "    final_X[ix] = tokenized_sentence"
      ],
      "metadata": {
        "id": "rdfRCDzxWgvb"
      },
      "execution_count": 18,
      "outputs": []
    },
    {
      "cell_type": "markdown",
      "source": [
        "Finally, we appended 0s at the end to have a proper matrix. Later we will use keras methods to do this"
      ],
      "metadata": {
        "id": "6r5IGI3bkLx-"
      }
    },
    {
      "cell_type": "markdown",
      "source": [
        "## Doing the train_test split and defining model"
      ],
      "metadata": {
        "id": "quWimVZjbemw"
      }
    },
    {
      "cell_type": "code",
      "source": [
        "from sklearn.model_selection import train_test_split\n",
        "X_train, X_test, y_train, y_test = train_test_split(final_X, y_filtered, test_size = 0.4, random_state=42)"
      ],
      "metadata": {
        "id": "gPK5YmDMTbby"
      },
      "execution_count": 19,
      "outputs": []
    },
    {
      "cell_type": "code",
      "source": [
        "X_train_tensor = tf.constant(X_train)\n",
        "X_test_tensor = tf.constant(X_test)\n",
        "y_train_tensor = tf.constant(y_train)\n",
        "y_test_tensor = tf.constant(y_test)"
      ],
      "metadata": {
        "id": "SwdtffgTVRM0"
      },
      "execution_count": 20,
      "outputs": []
    },
    {
      "cell_type": "code",
      "source": [
        "X_train_tensor.shape"
      ],
      "metadata": {
        "id": "zzQA9t3JdlGO",
        "colab": {
          "base_uri": "https://localhost:8080/"
        },
        "outputId": "17b95e19-813e-41d8-ddc2-31bc1606973f"
      },
      "execution_count": 21,
      "outputs": [
        {
          "output_type": "execute_result",
          "data": {
            "text/plain": [
              "TensorShape([2433, 933])"
            ]
          },
          "metadata": {},
          "execution_count": 21
        }
      ]
    },
    {
      "cell_type": "code",
      "source": [
        "model = Sequential()\n",
        "model.add(Input(shape = (max_review_length,)))\n",
        "model.add(Dense(100, activation=leaky_relu))\n",
        "model.add(Dense(50, activation=leaky_relu))\n",
        "model.add(Dense(1, activation='sigmoid'))"
      ],
      "metadata": {
        "id": "9ySCH6VsVNTa"
      },
      "execution_count": 22,
      "outputs": []
    },
    {
      "cell_type": "code",
      "source": [
        "model.compile(optimizer='adam', loss=tf.keras.losses.BinaryCrossentropy(), metrics=[\"accuracy\", tf.keras.metrics.Precision(name='precision'), tf.keras.metrics.Recall(name='recall')])\n",
        "model.summary()"
      ],
      "metadata": {
        "id": "MDd6hnQhVnOR",
        "colab": {
          "base_uri": "https://localhost:8080/"
        },
        "outputId": "390ffd61-444e-4ea6-fb98-4c050a5a4937"
      },
      "execution_count": 23,
      "outputs": [
        {
          "output_type": "stream",
          "name": "stdout",
          "text": [
            "Model: \"sequential\"\n",
            "_________________________________________________________________\n",
            " Layer (type)                Output Shape              Param #   \n",
            "=================================================================\n",
            " dense (Dense)               (None, 100)               93400     \n",
            "                                                                 \n",
            " dense_1 (Dense)             (None, 50)                5050      \n",
            "                                                                 \n",
            " dense_2 (Dense)             (None, 1)                 51        \n",
            "                                                                 \n",
            "=================================================================\n",
            "Total params: 98,501\n",
            "Trainable params: 98,501\n",
            "Non-trainable params: 0\n",
            "_________________________________________________________________\n"
          ]
        }
      ]
    },
    {
      "cell_type": "code",
      "source": [
        "test_point = np.zeros((1, max_review_length))\n",
        "token_horrible = tokenizer.texts_to_sequences(['Horrible'])[0][0]\n",
        "token_horrible"
      ],
      "metadata": {
        "id": "CRKPVyqdkbMw",
        "colab": {
          "base_uri": "https://localhost:8080/"
        },
        "outputId": "8346d21d-a06e-452c-9508-24fa8cc26d11"
      },
      "execution_count": 42,
      "outputs": [
        {
          "output_type": "execute_result",
          "data": {
            "text/plain": [
              "565"
            ]
          },
          "metadata": {},
          "execution_count": 42
        }
      ]
    },
    {
      "cell_type": "code",
      "source": [
        "test_point[0,0] = token_horrible\n",
        "model(tf.constant(test_point))"
      ],
      "metadata": {
        "colab": {
          "base_uri": "https://localhost:8080/"
        },
        "id": "VHSTHBuXGrPS",
        "outputId": "53126ae6-00b0-4e75-a2f7-78f402620f69"
      },
      "execution_count": 43,
      "outputs": [
        {
          "output_type": "execute_result",
          "data": {
            "text/plain": [
              "<tf.Tensor: shape=(1, 1), dtype=float32, numpy=array([[0.18204656]], dtype=float32)>"
            ]
          },
          "metadata": {},
          "execution_count": 43
        }
      ]
    },
    {
      "cell_type": "code",
      "source": [
        "callback = tf.keras.callbacks.EarlyStopping(monitor='val_precision', patience=5, min_delta=0.01, mode=\"max\")\n",
        "history = model.fit(X_train_tensor, y_train_tensor, epochs = 30, validation_split=0.2, workers = 5, callbacks=[callback])"
      ],
      "metadata": {
        "id": "W8JJ6_VlfrxP",
        "colab": {
          "base_uri": "https://localhost:8080/"
        },
        "outputId": "2670b035-69b9-478b-e052-4559103c6ac5"
      },
      "execution_count": 25,
      "outputs": [
        {
          "output_type": "stream",
          "name": "stdout",
          "text": [
            "Epoch 1/30\n",
            "61/61 [==============================] - 2s 10ms/step - loss: 140.9445 - accuracy: 0.6953 - precision: 0.8206 - recall: 0.8046 - val_loss: 87.4669 - val_accuracy: 0.7125 - val_precision: 0.8155 - val_recall: 0.8321\n",
            "Epoch 2/30\n",
            "61/61 [==============================] - 0s 4ms/step - loss: 29.7979 - accuracy: 0.7960 - precision: 0.8717 - recall: 0.8810 - val_loss: 64.2441 - val_accuracy: 0.6345 - val_precision: 0.8028 - val_recall: 0.7252\n",
            "Epoch 3/30\n",
            "61/61 [==============================] - 0s 4ms/step - loss: 11.7446 - accuracy: 0.8489 - precision: 0.9105 - recall: 0.9048 - val_loss: 61.7648 - val_accuracy: 0.6838 - val_precision: 0.8072 - val_recall: 0.7990\n",
            "Epoch 4/30\n",
            "61/61 [==============================] - 0s 4ms/step - loss: 4.7415 - accuracy: 0.8967 - precision: 0.9352 - recall: 0.9393 - val_loss: 66.3061 - val_accuracy: 0.6899 - val_precision: 0.8040 - val_recall: 0.8142\n",
            "Epoch 5/30\n",
            "61/61 [==============================] - 0s 4ms/step - loss: 2.5603 - accuracy: 0.9219 - precision: 0.9547 - recall: 0.9499 - val_loss: 63.7290 - val_accuracy: 0.6345 - val_precision: 0.7913 - val_recall: 0.7430\n",
            "Epoch 6/30\n",
            "61/61 [==============================] - 0s 4ms/step - loss: 2.1488 - accuracy: 0.9281 - precision: 0.9556 - recall: 0.9568 - val_loss: 62.2109 - val_accuracy: 0.7002 - val_precision: 0.8005 - val_recall: 0.8372\n"
          ]
        }
      ]
    },
    {
      "cell_type": "markdown",
      "source": [
        "## Some plots"
      ],
      "metadata": {
        "id": "ROXVUovhYRWG"
      }
    },
    {
      "cell_type": "code",
      "source": [
        "import matplotlib.pyplot as plt\n",
        "# function for plotting loss\n",
        "def plot_metrics(train_metric, val_metric=None, metric_name=None, title=None, ylim=5):\n",
        "    plt.title(title)\n",
        "    plt.ylim(0,ylim)\n",
        "    plt.plot(train_metric,color='blue',label=metric_name)\n",
        "    if val_metric is not None: plt.plot(val_metric,color='green',label='val_' + metric_name)\n",
        "    plt.legend(loc=\"upper right\")\n",
        "\n",
        "# plot loss history\n",
        "plot_metrics(history.history['loss'], history.history['val_loss'], \"Loss\", \"Loss\", ylim=100.0)\n"
      ],
      "metadata": {
        "id": "gtIQvnUcg2T2",
        "colab": {
          "base_uri": "https://localhost:8080/",
          "height": 281
        },
        "outputId": "83707a43-58b7-40c7-ee93-401ad405d800"
      },
      "execution_count": 44,
      "outputs": [
        {
          "output_type": "display_data",
          "data": {
            "text/plain": [
              "<Figure size 432x288 with 1 Axes>"
            ],
            "image/png": "[encoded data removed]"
          },
          "metadata": {
            "needs_background": "light"
          }
        }
      ]
    },
    {
      "cell_type": "code",
      "source": [
        "plot_metrics(history.history['accuracy'], history.history['val_accuracy'], \"Accuracy\", \"Accuracy\", ylim=1.0)\n"
      ],
      "metadata": {
        "id": "q6pBSQSPg2V6",
        "colab": {
          "base_uri": "https://localhost:8080/",
          "height": 281
        },
        "outputId": "ba3efb0d-92c1-4064-8aef-255337230bd5"
      },
      "execution_count": 27,
      "outputs": [
        {
          "output_type": "display_data",
          "data": {
            "text/plain": [
              "<Figure size 432x288 with 1 Axes>"
            ],
            "image/png": "[encoded data removed]"
          },
          "metadata": {
            "needs_background": "light"
          }
        }
      ]
    },
    {
      "cell_type": "code",
      "source": [],
      "metadata": {
        "id": "RPe1ekWlg2Yi"
      },
      "execution_count": 27,
      "outputs": []
    },
    {
      "cell_type": "code",
      "source": [],
      "metadata": {
        "id": "TV0VeAxSg2a3"
      },
      "execution_count": 27,
      "outputs": []
    },
    {
      "cell_type": "markdown",
      "source": [
        "## Some manual validation"
      ],
      "metadata": {
        "id": "tNqRJ0wCbXMv"
      }
    },
    {
      "cell_type": "code",
      "source": [
        "test_point = np.zeros((1, max_review_length))\n",
        "tokenized_review = tokenizer.texts_to_sequences(['Horrible restaurant'])[0]\n",
        "tokenized_review.extend([0] * (max_review_length -2))\n",
        "test_point = np.array([tokenized_review])"
      ],
      "metadata": {
        "id": "eF2Trj0ul1a5"
      },
      "execution_count": 54,
      "outputs": []
    },
    {
      "cell_type": "code",
      "source": [
        "test_point.shape"
      ],
      "metadata": {
        "colab": {
          "base_uri": "https://localhost:8080/"
        },
        "id": "VFxBKy1INd5k",
        "outputId": "7ea1fd15-cd62-42f9-b30f-41b7768ed69a"
      },
      "execution_count": 55,
      "outputs": [
        {
          "output_type": "execute_result",
          "data": {
            "text/plain": [
              "(1, 933)"
            ]
          },
          "metadata": {},
          "execution_count": 55
        }
      ]
    },
    {
      "cell_type": "code",
      "source": [
        "\n",
        "model.predict(tf.constant(test_point)) < 0.5"
      ],
      "metadata": {
        "colab": {
          "base_uri": "https://localhost:8080/"
        },
        "id": "TYt5jsvZM5QJ",
        "outputId": "0bc4c962-bdad-4518-af1e-21a2efa1a099"
      },
      "execution_count": 56,
      "outputs": [
        {
          "output_type": "stream",
          "name": "stdout",
          "text": [
            "1/1 [==============================] - 0s 55ms/step\n"
          ]
        },
        {
          "output_type": "execute_result",
          "data": {
            "text/plain": [
              "array([[ True]])"
            ]
          },
          "metadata": {},
          "execution_count": 56
        }
      ]
    },
    {
      "cell_type": "code",
      "source": [
        "i = np.random.randint(0, X_test_tensor.shape[0])\n",
        "tokenizer.sequences_to_texts([X_test_tensor[i].numpy()])"
      ],
      "metadata": {
        "id": "EgO7d2LdbYhD",
        "colab": {
          "base_uri": "https://localhost:8080/"
        },
        "outputId": "081c2094-2ace-4eca-e8e6-29f73fccda33"
      },
      "execution_count": 65,
      "outputs": [
        {
          "output_type": "execute_result",
          "data": {
            "text/plain": [
              "[\"i am a way more frequent visitor of the bell rd location but sometimes i have to travel downtown for work when i do i make my route pass by this place because i have to have dutch bros the guys at the bell location are pretty familiar with me by now but these guys still treat you as if you are there best customer and it 's the best coffee i 've ever had\"]"
            ]
          },
          "metadata": {},
          "execution_count": 65
        }
      ]
    },
    {
      "cell_type": "code",
      "source": [
        "prediction = model.predict(np.array([X_test_tensor[i]])) > 0.5\n",
        "prediction == y_test_tensor[i]"
      ],
      "metadata": {
        "colab": {
          "base_uri": "https://localhost:8080/"
        },
        "id": "6h70Y3FYN51x",
        "outputId": "eeb89749-d418-4a36-8394-ab426040b9f8"
      },
      "execution_count": 66,
      "outputs": [
        {
          "output_type": "stream",
          "name": "stdout",
          "text": [
            "1/1 [==============================] - 0s 17ms/step\n"
          ]
        },
        {
          "output_type": "execute_result",
          "data": {
            "text/plain": [
              "<tf.Tensor: shape=(1, 1), dtype=bool, numpy=array([[ True]])>"
            ]
          },
          "metadata": {},
          "execution_count": 66
        }
      ]
    },
    {
      "cell_type": "code",
      "source": [
        "model.evaluate(X_test_tensor, y_test_tensor)"
      ],
      "metadata": {
        "id": "icVOjVFybsU-",
        "colab": {
          "base_uri": "https://localhost:8080/"
        },
        "outputId": "9c9461d3-440a-49e4-c38c-4035a91bb152"
      },
      "execution_count": 30,
      "outputs": [
        {
          "output_type": "stream",
          "name": "stdout",
          "text": [
            "51/51 [==============================] - 0s 2ms/step - loss: 57.4854 - accuracy: 0.7049 - precision: 0.8145 - recall: 0.8262\n"
          ]
        },
        {
          "output_type": "execute_result",
          "data": {
            "text/plain": [
              "[57.48542785644531, 0.7048675417900085, 0.814456045627594, 0.8261526823043823]"
            ]
          },
          "metadata": {},
          "execution_count": 30
        }
      ]
    },
    {
      "cell_type": "markdown",
      "source": [
        "Therefore, the model predicts correctly 70% of the reviews, but with 80% precision and recall, so we have a good distribution between positives and negatives"
      ],
      "metadata": {
        "id": "VBSc6m2LcPfk"
      }
    },
    {
      "cell_type": "code",
      "source": [],
      "metadata": {
        "id": "UGUTiuyLmIsg"
      },
      "execution_count": 30,
      "outputs": []
    }
  ]
}