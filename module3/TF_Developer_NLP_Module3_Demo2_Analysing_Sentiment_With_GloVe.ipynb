{
  "cells": [
    {
      "cell_type": "markdown",
      "metadata": {
        "id": "view-in-github",
        "colab_type": "text"
      },
      "source": [
        "<a href=\"https://colab.research.google.com/github/axel-sirota/tf-dev-nlp/blob/main/module3/TF_Developer_NLP_Module3_Demo2_Analysing_Sentiment_With_GloVe.ipynb\" target=\"_parent\"><img src=\"https://colab.research.google.com/assets/colab-badge.svg\" alt=\"Open In Colab\"/></a>"
      ]
    },
    {
      "cell_type": "markdown",
      "metadata": {
        "id": "QlJeKdJfTPMp"
      },
      "source": [
        "# Analysing Sentiment\n"
      ]
    },
    {
      "cell_type": "markdown",
      "source": [
        "## Setup"
      ],
      "metadata": {
        "id": "r4euc-iHf4ev"
      }
    },
    {
      "cell_type": "markdown",
      "metadata": {
        "id": "epE01e6NbbMg"
      },
      "source": [
        "Let's first import everything and load the dataset"
      ]
    },
    {
      "cell_type": "code",
      "execution_count": 1,
      "metadata": {
        "colab": {
          "base_uri": "https://localhost:8080/"
        },
        "id": "Vny3vC29NVZ8",
        "outputId": "21026ac7-4d75-463b-c254-4469eee67902"
      },
      "outputs": [
        {
          "output_type": "stream",
          "name": "stdout",
          "text": [
            "Looking in indexes: https://pypi.org/simple, https://us-python.pkg.dev/colab-wheels/public/simple/\n",
            "Requirement already satisfied: textblob in /usr/local/lib/python3.8/dist-packages (0.15.3)\n",
            "Collecting gensim==4.2.0\n",
            "  Downloading gensim-4.2.0-cp38-cp38-manylinux_2_12_x86_64.manylinux2010_x86_64.whl (24.1 MB)\n",
            "\u001b[K     |████████████████████████████████| 24.1 MB 1.4 MB/s \n",
            "\u001b[?25hRequirement already satisfied: numpy>=1.17.0 in /usr/local/lib/python3.8/dist-packages (from gensim==4.2.0) (1.21.6)\n",
            "Requirement already satisfied: smart-open>=1.8.1 in /usr/local/lib/python3.8/dist-packages (from gensim==4.2.0) (6.3.0)\n",
            "Requirement already satisfied: scipy>=0.18.1 in /usr/local/lib/python3.8/dist-packages (from gensim==4.2.0) (1.7.3)\n",
            "Requirement already satisfied: nltk>=3.1 in /usr/local/lib/python3.8/dist-packages (from textblob) (3.7)\n",
            "Requirement already satisfied: regex>=2021.8.3 in /usr/local/lib/python3.8/dist-packages (from nltk>=3.1->textblob) (2022.6.2)\n",
            "Requirement already satisfied: joblib in /usr/local/lib/python3.8/dist-packages (from nltk>=3.1->textblob) (1.2.0)\n",
            "Requirement already satisfied: click in /usr/local/lib/python3.8/dist-packages (from nltk>=3.1->textblob) (7.1.2)\n",
            "Requirement already satisfied: tqdm in /usr/local/lib/python3.8/dist-packages (from nltk>=3.1->textblob) (4.64.1)\n",
            "Installing collected packages: gensim\n",
            "  Attempting uninstall: gensim\n",
            "    Found existing installation: gensim 3.6.0\n",
            "    Uninstalling gensim-3.6.0:\n",
            "      Successfully uninstalled gensim-3.6.0\n",
            "Successfully installed gensim-4.2.0\n"
          ]
        }
      ],
      "source": [
        "!pip install textblob 'gensim==4.2.0'"
      ]
    },
    {
      "cell_type": "code",
      "execution_count": 2,
      "metadata": {
        "id": "ri00gAaqSzrq",
        "colab": {
          "base_uri": "https://localhost:8080/"
        },
        "outputId": "301dc196-117f-425c-fc55-4d6a6e207729"
      },
      "outputs": [
        {
          "output_type": "stream",
          "name": "stderr",
          "text": [
            "[nltk_data] Downloading package punkt to /root/nltk_data...\n",
            "[nltk_data]   Unzipping tokenizers/punkt.zip.\n"
          ]
        }
      ],
      "source": [
        "import multiprocessing\n",
        "import tensorflow as tf\n",
        "import sys\n",
        "import keras.backend as K\n",
        "from keras.models import Sequential\n",
        "from keras.layers import Dense, Embedding, Lambda, Input\n",
        "from keras.utils import np_utils\n",
        "from keras.preprocessing import sequence\n",
        "from keras.preprocessing.text import Tokenizer\n",
        "from textblob import TextBlob, Word\n",
        "from keras_preprocessing.sequence import pad_sequences\n",
        "from keras.initializers import Constant\n",
        "from sklearn.feature_extraction.text import CountVectorizer\n",
        "from tensorflow.nn import leaky_relu\n",
        "import numpy as np\n",
        "import re\n",
        "import random\n",
        "import os\n",
        "import pandas as pd\n",
        "import gensim\n",
        "import warnings\n",
        "import nltk\n",
        "\n",
        "epochs = 100\n",
        "embedding_dim = 100\n",
        "fraction_of_negatives_to_downsample=0.3\n",
        "TRACE = False\n",
        "\n",
        "def set_seeds_and_trace():\n",
        "  os.environ['PYTHONHASHSEED'] = '0'\n",
        "  np.random.seed(42)\n",
        "  tf.random.set_seed(42)\n",
        "  random.seed(42)\n",
        "  if TRACE:\n",
        "    tf.debugging.set_log_device_placement(True)\n",
        "\n",
        "def set_session_with_gpus_and_cores():\n",
        "  cores = multiprocessing.cpu_count()\n",
        "  gpus = len(tf.config.list_physical_devices('GPU'))\n",
        "  config = tf.compat.v1.ConfigProto( device_count = {'GPU': gpus  , 'CPU': cores} , intra_op_parallelism_threads=1, inter_op_parallelism_threads=1)\n",
        "  sess = tf.compat.v1.Session(config=config) \n",
        "  K.set_session(sess)\n",
        "\n",
        "set_seeds_and_trace()\n",
        "set_session_with_gpus_and_cores()\n",
        "warnings.filterwarnings('ignore')\n",
        "nltk.download('punkt')\n",
        "textblob_tokenizer = lambda x: TextBlob(x).words"
      ]
    },
    {
      "cell_type": "markdown",
      "metadata": {
        "id": "8L6HlScpFdd9"
      },
      "source": [
        "Now we will download the dataset and explore it"
      ]
    },
    {
      "cell_type": "code",
      "execution_count": 3,
      "metadata": {
        "id": "aHuUsDMlTXhM",
        "colab": {
          "base_uri": "https://localhost:8080/"
        },
        "outputId": "7c7610c8-fdce-4cda-842d-707e3053c82d"
      },
      "outputs": [
        {
          "output_type": "stream",
          "name": "stdout",
          "text": [
            "Writing get_data.sh\n"
          ]
        }
      ],
      "source": [
        "%%writefile get_data.sh\n",
        "if [ ! -f yelp.csv ]; then\n",
        "  wget -O yelp.csv https://www.dropbox.com/s/xds4lua69b7okw8/yelp.csv?dl=0\n",
        "fi\n",
        "\n",
        "if [ ! -f glove.6B.100d.txt ]; then\n",
        "  wget -O glove.6B.100d.txt https://www.dropbox.com/s/dl1vswq2sz5f1ws/glove.6B.100d.txt?dl=0\n",
        "fi"
      ]
    },
    {
      "cell_type": "code",
      "execution_count": 4,
      "metadata": {
        "id": "Uq4-oO3KTnbQ",
        "colab": {
          "base_uri": "https://localhost:8080/"
        },
        "outputId": "d6d3c137-8c73-4f03-f7b4-52aea5ac5c5d"
      },
      "outputs": [
        {
          "output_type": "stream",
          "name": "stdout",
          "text": [
            "--2022-12-25 20:26:25--  https://www.dropbox.com/s/xds4lua69b7okw8/yelp.csv?dl=0\n",
            "Resolving www.dropbox.com (www.dropbox.com)... 162.125.80.18, 2620:100:6035:18::a27d:5512\n",
            "Connecting to www.dropbox.com (www.dropbox.com)|162.125.80.18|:443... connected.\n",
            "HTTP request sent, awaiting response... 302 Found\n",
            "Location: /s/raw/xds4lua69b7okw8/yelp.csv [following]\n",
            "--2022-12-25 20:26:26--  https://www.dropbox.com/s/raw/xds4lua69b7okw8/yelp.csv\n",
            "Reusing existing connection to www.dropbox.com:443.\n",
            "HTTP request sent, awaiting response... 302 Found\n",
            "Location: https://uc18bada5e6068063ef247199fb9.dl.dropboxusercontent.com/cd/0/inline/BzUdPQTwX_r84CsCYbnrsKEI8QnoiT0qL9qqk2m2Q1IQ5fakHlWfxDwIu51PKINmqo1WnPZgqD9Zx3-qmJkYz00EmK9kFkNnBUYe66mkiznYUJe4pcEw4840PA9PMExSKK0L1xVQMZe-a8GVoyH2ftSntuHDUD84p9PXiQTltGv0-Q/file# [following]\n",
            "--2022-12-25 20:26:26--  https://uc18bada5e6068063ef247199fb9.dl.dropboxusercontent.com/cd/0/inline/BzUdPQTwX_r84CsCYbnrsKEI8QnoiT0qL9qqk2m2Q1IQ5fakHlWfxDwIu51PKINmqo1WnPZgqD9Zx3-qmJkYz00EmK9kFkNnBUYe66mkiznYUJe4pcEw4840PA9PMExSKK0L1xVQMZe-a8GVoyH2ftSntuHDUD84p9PXiQTltGv0-Q/file\n",
            "Resolving uc18bada5e6068063ef247199fb9.dl.dropboxusercontent.com (uc18bada5e6068063ef247199fb9.dl.dropboxusercontent.com)... 162.125.80.15, 2620:100:6035:15::a27d:550f\n",
            "Connecting to uc18bada5e6068063ef247199fb9.dl.dropboxusercontent.com (uc18bada5e6068063ef247199fb9.dl.dropboxusercontent.com)|162.125.80.15|:443... connected.\n",
            "HTTP request sent, awaiting response... 200 OK\n",
            "Length: 8091185 (7.7M) [text/plain]\n",
            "Saving to: ‘yelp.csv’\n",
            "\n",
            "yelp.csv            100%[===================>]   7.72M  11.9MB/s    in 0.7s    \n",
            "\n",
            "2022-12-25 20:26:27 (11.9 MB/s) - ‘yelp.csv’ saved [8091185/8091185]\n",
            "\n",
            "--2022-12-25 20:26:27--  https://www.dropbox.com/s/dl1vswq2sz5f1ws/glove.6B.100d.txt?dl=0\n",
            "Resolving www.dropbox.com (www.dropbox.com)... 162.125.80.18, 2620:100:6035:18::a27d:5512\n",
            "Connecting to www.dropbox.com (www.dropbox.com)|162.125.80.18|:443... connected.\n",
            "HTTP request sent, awaiting response... 302 Found\n",
            "Location: /s/raw/dl1vswq2sz5f1ws/glove.6B.100d.txt [following]\n",
            "--2022-12-25 20:26:28--  https://www.dropbox.com/s/raw/dl1vswq2sz5f1ws/glove.6B.100d.txt\n",
            "Reusing existing connection to www.dropbox.com:443.\n",
            "HTTP request sent, awaiting response... 302 Found\n",
            "Location: https://uc4998f780e0c73c0b2683584650.dl.dropboxusercontent.com/cd/0/inline/BzUKJTaikEK6X7PNajD1WBF-Od6xlsePmw8K9ng6siFaUJ7o14C4SmMNwTkMQ-_iYF9_ZybWCbj8PX56wD6j5yYV0uz5Y2C136GSWaZ2ouBxLcO68Kic5yjj6Dxb_nuzEldNZXw-QqHebQuq71v2G-nfZbqh1hj3AbSCwSrFm5KOtw/file# [following]\n",
            "--2022-12-25 20:26:28--  https://uc4998f780e0c73c0b2683584650.dl.dropboxusercontent.com/cd/0/inline/BzUKJTaikEK6X7PNajD1WBF-Od6xlsePmw8K9ng6siFaUJ7o14C4SmMNwTkMQ-_iYF9_ZybWCbj8PX56wD6j5yYV0uz5Y2C136GSWaZ2ouBxLcO68Kic5yjj6Dxb_nuzEldNZXw-QqHebQuq71v2G-nfZbqh1hj3AbSCwSrFm5KOtw/file\n",
            "Resolving uc4998f780e0c73c0b2683584650.dl.dropboxusercontent.com (uc4998f780e0c73c0b2683584650.dl.dropboxusercontent.com)... 162.125.80.15, 2620:100:6035:15::a27d:550f\n",
            "Connecting to uc4998f780e0c73c0b2683584650.dl.dropboxusercontent.com (uc4998f780e0c73c0b2683584650.dl.dropboxusercontent.com)|162.125.80.15|:443... connected.\n",
            "HTTP request sent, awaiting response... 200 OK\n",
            "Length: 347117594 (331M) [text/plain]\n",
            "Saving to: ‘glove.6B.100d.txt’\n",
            "\n",
            "glove.6B.100d.txt   100%[===================>] 331.04M  12.5MB/s    in 29s     \n",
            "\n",
            "2022-12-25 20:26:58 (11.6 MB/s) - ‘glove.6B.100d.txt’ saved [347117594/347117594]\n",
            "\n"
          ]
        }
      ],
      "source": [
        "!bash get_data.sh\n"
      ]
    },
    {
      "cell_type": "markdown",
      "metadata": {
        "id": "9vzvhu6Irw_O"
      },
      "source": [
        "Let's inspect how this GloVe embedding looks like"
      ]
    },
    {
      "cell_type": "code",
      "execution_count": 5,
      "metadata": {
        "id": "p4IB-iA50ZUc",
        "colab": {
          "base_uri": "https://localhost:8080/"
        },
        "outputId": "56d394d8-0c24-4868-a8a9-62ef1728fa04"
      },
      "outputs": [
        {
          "output_type": "stream",
          "name": "stdout",
          "text": [
            "the -0.038194 -0.24487 0.72812 -0.39961 0.083172 0.043953 -0.39141 0.3344 -0.57545 0.087459 0.28787 -0.06731 0.30906 -0.26384 -0.13231 -0.20757 0.33395 -0.33848 -0.31743 -0.48336 0.1464 -0.37304 0.34577 0.052041 0.44946 -0.46971 0.02628 -0.54155 -0.15518 -0.14107 -0.039722 0.28277 0.14393 0.23464 -0.31021 0.086173 0.20397 0.52624 0.17164 -0.082378 -0.71787 -0.41531 0.20335 -0.12763 0.41367 0.55187 0.57908 -0.33477 -0.36559 -0.54857 -0.062892 0.26584 0.30205 0.99775 -0.80481 -3.0243 0.01254 -0.36942 2.2167 0.72201 -0.24978 0.92136 0.034514 0.46745 1.1079 -0.19358 -0.074575 0.23353 -0.052062 -0.22044 0.057162 -0.15806 -0.30798 -0.41625 0.37972 0.15006 -0.53212 -0.2055 -1.2526 0.071624 0.70565 0.49744 -0.42063 0.26148 -1.538 -0.30223 -0.073438 -0.28312 0.37104 -0.25217 0.016215 -0.017099 -0.38984 0.87424 -0.72569 -0.51058 -0.52028 -0.1459 0.8278 0.27062\n",
            ", -0.10767 0.11053 0.59812 -0.54361 0.67396 0.10663 0.038867 0.35481 0.06351 -0.094189 0.15786 -0.81665 0.14172 0.21939 0.58505 -0.52158 0.22783 -0.16642 -0.68228 0.3587 0.42568 0.19021 0.91963 0.57555 0.46185 0.42363 -0.095399 -0.42749 -0.16567 -0.056842 -0.29595 0.26037 -0.26606 -0.070404 -0.27662 0.15821 0.69825 0.43081 0.27952 -0.45437 -0.33801 -0.58184 0.22364 -0.5778 -0.26862 -0.20425 0.56394 -0.58524 -0.14365 -0.64218 0.0054697 -0.35248 0.16162 1.1796 -0.47674 -2.7553 -0.1321 -0.047729 1.0655 1.1034 -0.2208 0.18669 0.13177 0.15117 0.7131 -0.35215 0.91348 0.61783 0.70992 0.23955 -0.14571 -0.37859 -0.045959 -0.47368 0.2385 0.20536 -0.18996 0.32507 -1.1112 -0.36341 0.98679 -0.084776 -0.54008 0.11726 -1.0194 -0.24424 0.12771 0.013884 0.080374 -0.35414 0.34951 -0.7226 0.37549 0.4441 -0.99059 0.61214 -0.35111 -0.83155 0.45293 0.082577\n",
            ". -0.33979 0.20941 0.46348 -0.64792 -0.38377 0.038034 0.17127 0.15978 0.46619 -0.019169 0.41479 -0.34349 0.26872 0.04464 0.42131 -0.41032 0.15459 0.022239 -0.64653 0.25256 0.043136 -0.19445 0.46516 0.45651 0.68588 0.091295 0.21875 -0.70351 0.16785 -0.35079 -0.12634 0.66384 -0.2582 0.036542 -0.13605 0.40253 0.14289 0.38132 -0.12283 -0.45886 -0.25282 -0.30432 -0.11215 -0.26182 -0.22482 -0.44554 0.2991 -0.85612 -0.14503 -0.49086 0.0082973 -0.17491 0.27524 1.4401 -0.21239 -2.8435 -0.27958 -0.45722 1.6386 0.78808 -0.55262 0.65 0.086426 0.39012 1.0632 -0.35379 0.48328 0.346 0.84174 0.098707 -0.24213 -0.27053 0.045287 -0.40147 0.11395 0.0062226 0.036673 0.018518 -1.0213 -0.20806 0.64072 -0.068763 -0.58635 0.33476 -1.1432 -0.1148 -0.25091 -0.45907 -0.096819 -0.17946 -0.063351 -0.67412 -0.068895 0.53604 -0.87773 0.31802 -0.39242 -0.23394 0.47298 -0.028803\n",
            "of -0.1529 -0.24279 0.89837 0.16996 0.53516 0.48784 -0.58826 -0.17982 -1.3581 0.42541 0.15377 0.24215 0.13474 0.41193 0.67043 -0.56418 0.42985 -0.012183 -0.11677 0.31781 0.054177 -0.054273 0.35516 -0.30241 0.31434 -0.33846 0.71715 -0.26855 -0.15837 -0.47467 0.051581 -0.33252 0.15003 -0.1299 -0.54617 -0.37843 0.64261 0.82187 -0.080006 0.078479 -0.96976 -0.57741 0.56491 -0.39873 -0.057099 0.19743 0.065706 -0.48092 -0.20125 -0.40834 0.39456 -0.02642 -0.11838 1.012 -0.53171 -2.7474 -0.042981 -0.74849 1.7574 0.59085 0.04885 0.78267 0.38497 0.42097 0.67882 0.10337 0.6328 -0.026595 0.58647 -0.44332 0.33057 -0.12022 -0.55645 0.073611 0.20915 0.43395 -0.012761 0.089874 -1.7991 0.084808 0.77112 0.63105 -0.90685 0.60326 -1.7515 0.18596 -0.50687 -0.70203 0.66578 -0.81304 0.18712 -0.018488 -0.26757 0.727 -0.59363 -0.34839 -0.56094 -0.591 1.0039 0.20664\n",
            "to -0.1897 0.050024 0.19084 -0.049184 -0.089737 0.21006 -0.54952 0.098377 -0.20135 0.34241 -0.092677 0.161 -0.13268 -0.2816 0.18737 -0.42959 0.96039 0.13972 -1.0781 0.40518 0.50539 -0.55064 0.4844 0.38044 -0.0029055 -0.34942 -0.099696 -0.78368 1.0363 -0.2314 -0.47121 0.57126 -0.21454 0.35958 -0.48319 1.0875 0.28524 0.12447 -0.039248 -0.076732 -0.76343 -0.32409 -0.5749 -1.0893 -0.41811 0.4512 0.12112 -0.51367 -0.13349 -1.1378 -0.28768 0.16774 0.55804 1.5387 0.018859 -2.9721 -0.24216 -0.92495 2.1992 0.28234 -0.3478 0.51621 -0.43387 0.36852 0.74573 0.072102 0.27931 0.92569 -0.050336 -0.85856 -0.1358 -0.92551 -0.33991 -1.0394 -0.067203 -0.21379 -0.4769 0.21377 -0.84008 0.052536 0.59298 0.29604 -0.67644 0.13916 -1.5504 -0.20765 0.7222 0.52056 -0.076221 -0.15194 -0.13134 0.058617 -0.31869 -0.61419 -0.62393 -0.41548 -0.038175 -0.39804 0.47647 -0.15983\n",
            "and -0.071953 0.23127 0.023731 -0.50638 0.33923 0.1959 -0.32943 0.18364 -0.18057 0.28963 0.20448 -0.5496 0.27399 0.58327 0.20468 -0.49228 0.19974 -0.070237 -0.88049 0.29485 0.14071 -0.1009 0.99449 0.36973 0.44554 0.28998 -0.1376 -0.56365 -0.029365 -0.4122 -0.25269 0.63181 -0.44767 0.24363 -0.10813 0.25164 0.46967 0.3755 -0.23613 -0.14129 -0.44537 -0.65737 -0.042421 -0.28636 -0.28811 0.063766 0.20281 -0.53542 0.41307 -0.59722 -0.38614 0.19389 -0.17809 1.6618 -0.011819 -2.3737 0.058427 -0.2698 1.2823 0.81925 -0.22322 0.72932 -0.053211 0.43507 0.85011 -0.42935 0.92664 0.39051 1.0585 -0.24561 -0.18265 -0.5328 0.059518 -0.66019 0.18991 0.28836 -0.2434 0.52784 -0.65762 -0.14081 1.0491 0.5134 -0.23816 0.69895 -1.4813 -0.2487 -0.17936 -0.059137 -0.08056 -0.48782 0.014487 -0.6259 -0.32367 0.41862 -1.0807 0.46742 -0.49931 -0.71895 0.86894 0.19539\n",
            "in 0.085703 -0.22201 0.16569 0.13373 0.38239 0.35401 0.01287 0.22461 -0.43817 0.50164 -0.35874 -0.34983 0.055156 0.69648 -0.17958 0.067926 0.39101 0.16039 -0.26635 -0.21138 0.53698 0.49379 0.9366 0.66902 0.21793 -0.46642 0.22383 -0.36204 -0.17656 0.1748 -0.20367 0.13931 0.019832 -0.10413 -0.20244 0.55003 -0.1546 0.98655 -0.26863 -0.2909 -0.32866 -0.34188 -0.16943 -0.42001 -0.046727 -0.16327 0.70824 -0.74911 -0.091559 -0.96178 -0.19747 0.10282 0.55221 1.3816 -0.65636 -3.2502 -0.31556 -1.2055 1.7709 0.4026 -0.79827 1.1597 -0.33042 0.31382 0.77386 0.22595 0.52471 -0.034053 0.32048 0.079948 0.17752 -0.49426 -0.70045 -0.44569 0.17244 0.20278 0.023292 -0.20677 -1.0158 0.18325 0.56752 0.31821 -0.65011 0.68277 -0.86585 -0.059392 -0.29264 -0.55668 -0.34705 -0.32895 0.40215 -0.12746 -0.20228 0.87368 -0.545 0.79205 -0.20695 -0.074273 0.75808 -0.34243\n",
            "a -0.27086 0.044006 -0.02026 -0.17395 0.6444 0.71213 0.3551 0.47138 -0.29637 0.54427 -0.72294 -0.0047612 0.040611 0.043236 0.29729 0.10725 0.40156 -0.53662 0.033382 0.067396 0.64556 -0.085523 0.14103 0.094539 0.74947 -0.194 -0.68739 -0.41741 -0.22807 0.12 -0.48999 0.80945 0.045138 -0.11898 0.20161 0.39276 -0.20121 0.31354 0.75304 0.25907 -0.11566 -0.029319 0.93499 -0.36067 0.5242 0.23706 0.52715 0.22869 -0.51958 -0.79349 -0.20368 -0.50187 0.18748 0.94282 -0.44834 -3.6792 0.044183 -0.26751 2.1997 0.241 -0.033425 0.69553 -0.64472 -0.0072277 0.89575 0.20015 0.46493 0.61933 -0.1066 0.08691 -0.4623 0.18262 -0.15849 0.020791 0.19373 0.063426 -0.31673 -0.48177 -1.3848 0.13669 0.96859 0.049965 -0.2738 -0.035686 -1.0577 -0.24467 0.90366 -0.12442 0.080776 -0.83401 0.57201 0.088945 -0.42532 -0.018253 -0.079995 -0.28581 -0.01089 -0.4923 0.63687 0.23642\n",
            "\" -0.30457 -0.23645 0.17576 -0.72854 -0.28343 -0.2564 0.26587 0.025309 -0.074775 -0.3766 -0.057774 0.12159 0.34384 0.41928 -0.23236 -0.31547 0.60939 0.25117 -0.68667 0.70873 1.2162 -0.1824 -0.48442 -0.33445 0.30343 1.086 0.49992 -0.20198 0.27959 0.68352 -0.33566 -0.12405 0.059656 0.33617 0.37501 0.56552 0.44867 0.11284 -0.16196 -0.94346 -0.67961 0.18581 0.060653 0.43776 0.13834 -0.48207 -0.56141 -0.25422 -0.52445 0.097003 -0.48925 0.19077 0.21481 1.4969 -0.86665 -3.2846 0.56854 0.41971 1.2294 0.78522 -0.29369 0.63803 -1.5926 -0.20437 1.5306 0.13548 0.50722 0.18742 0.48552 -0.28995 0.19573 0.0046515 0.092879 -0.42444 0.64987 0.52839 0.077908 0.8263 -1.2208 -0.34955 0.49855 -0.64155 -0.72308 0.26566 -1.3643 -0.46364 -0.52048 -1.0525 0.22895 -0.3456 -0.658 -0.16735 0.35158 0.74337 0.26074 0.061104 -0.39079 -0.84557 -0.035432 0.17036\n",
            "'s 0.58854 -0.2025 0.73479 -0.68338 -0.19675 -0.1802 -0.39177 0.34172 -0.60561 0.63816 -0.26695 0.36486 -0.40379 -0.1134 -0.58718 0.2838 0.8025 -0.35303 0.30083 0.078935 0.44416 -0.45906 0.79294 0.50365 0.32805 0.28027 -0.4933 -0.38482 -0.039284 -0.2483 -0.1988 1.1469 0.13228 0.91691 -0.36739 0.89425 0.5426 0.61738 -0.62205 -0.31132 -0.50933 0.23335 1.0826 -0.044637 -0.12767 0.27628 -0.032617 -0.27397 0.77764 -0.50861 0.038307 -0.33679 0.42344 1.2271 -0.53826 -3.2411 0.42626 0.025189 1.3948 0.65085 0.03325 0.37141 0.4044 0.35558 0.98265 -0.61724 0.53901 0.76219 0.30689 0.33065 0.30956 -0.15161 -0.11313 -0.81281 0.6145 -0.44341 -0.19163 -0.089551 -1.5927 0.37405 0.85857 0.54613 -0.31928 0.52598 -1.4802 -0.97931 -0.2939 -0.14724 0.25803 -0.1817 1.0149 0.77649 0.12598 0.54779 -1.0316 0.064599 -0.37523 -0.94475 0.61802 0.39591\n"
          ]
        }
      ],
      "source": [
        "! head glove.6B.100d.txt"
      ]
    },
    {
      "cell_type": "code",
      "execution_count": 6,
      "metadata": {
        "id": "CCXNQ8yT8AMn"
      },
      "outputs": [],
      "source": [
        "def preprocess_text(text, should_join=True):\n",
        "    text = ' '.join(str(word).lower() for word in textblob_tokenizer(text))\n",
        "    text = re.sub(r\"([.,!?])\", r\" \\1 \", text)\n",
        "    text = re.sub(r\"[^a-zA-Z]+\", r\" \", text)\n",
        "    if should_join:\n",
        "      return ' '.join(gensim.utils.simple_preprocess(text))\n",
        "    else:\n",
        "      return gensim.utils.simple_preprocess(text)"
      ]
    },
    {
      "cell_type": "code",
      "source": [
        "review = \"I’d loved this place, if only they served Tacos!!!\"\n",
        "preprocess_text(review)"
      ],
      "metadata": {
        "colab": {
          "base_uri": "https://localhost:8080/",
          "height": 834
        },
        "id": "L1qy4UCzf9J1",
        "outputId": "d1ec57e5-ac8f-4532-d5cf-583c50fd949f"
      },
      "execution_count": 7,
      "outputs": [
        {
          "output_type": "execute_result",
          "data": {
            "text/plain": [
              "'loved this place if only they served tacos'"
            ],
            "application/vnd.google.colaboratory.intrinsic+json": {
              "type": "string"
            }
          },
          "metadata": {},
          "execution_count": 7
        }
      ]
    },
    {
      "cell_type": "code",
      "source": [
        "preprocess_text(review, should_join=False)"
      ],
      "metadata": {
        "colab": {
          "base_uri": "https://localhost:8080/"
        },
        "id": "VV3Uy2SPgf5e",
        "outputId": "10be88fe-e3ca-487f-b269-1f892b26da37"
      },
      "execution_count": 8,
      "outputs": [
        {
          "output_type": "execute_result",
          "data": {
            "text/plain": [
              "['loved', 'this', 'place', 'if', 'only', 'they', 'served', 'tacos']"
            ]
          },
          "metadata": {},
          "execution_count": 8
        }
      ]
    },
    {
      "cell_type": "code",
      "execution_count": 9,
      "metadata": {
        "id": "i32aK_G6TZl9"
      },
      "outputs": [],
      "source": [
        "path = './yelp.csv'\n",
        "yelp = pd.read_csv(path)\n",
        "# Create a new DataFrame that only contains the 5-star and 1-star reviews.\n",
        "yelp_best_worst = yelp[(yelp.stars==5) | (yelp.stars==1)]\n",
        "X = yelp_best_worst.text\n",
        "y = yelp_best_worst.stars.map({1:0, 5:1})\n"
      ]
    },
    {
      "cell_type": "markdown",
      "metadata": {
        "id": "TXLqIHnNWYMN"
      },
      "source": [
        "## Filtering and creating the corpus"
      ]
    },
    {
      "cell_type": "code",
      "execution_count": 10,
      "metadata": {
        "id": "MebwtE3DH0Qu"
      },
      "outputs": [],
      "source": [
        "corpus_with_ix = [(ix, ' '.join(textblob_tokenizer(sentence))) for ix, sentence in X.iteritems() if type(sentence) == str and len(textblob_tokenizer(sentence)) > 3]\n"
      ]
    },
    {
      "cell_type": "code",
      "execution_count": 11,
      "metadata": {
        "id": "1pjd3cYbI-ib",
        "colab": {
          "base_uri": "https://localhost:8080/"
        },
        "outputId": "9902929b-b2d6-4f89-f6fd-61874c9b3283"
      },
      "outputs": [
        {
          "output_type": "execute_result",
          "data": {
            "text/plain": [
              "(0,\n",
              " \"My wife took me here on my birthday for breakfast and it was excellent The weather was perfect which made sitting outside overlooking their grounds an absolute pleasure Our waitress was excellent and our food arrived quickly on the semi-busy Saturday morning It looked like the place fills up pretty quickly so the earlier you get here the better Do yourself a favor and get their Bloody Mary It was phenomenal and simply the best I 've ever had I 'm pretty sure they only use ingredients from their garden and blend them fresh when you order it It was amazing While EVERYTHING on the menu looks excellent I had the white truffle scrambled eggs vegetable skillet and it was tasty and delicious It came with 2 pieces of their griddled bread with was amazing and it absolutely made the meal complete It was the best toast I 've ever had Anyway I ca n't wait to go back\")"
            ]
          },
          "metadata": {},
          "execution_count": 11
        }
      ],
      "source": [
        "corpus_with_ix[0]"
      ]
    },
    {
      "cell_type": "code",
      "execution_count": 12,
      "metadata": {
        "id": "r2jN-duFXT7-"
      },
      "outputs": [],
      "source": [
        "corpus_df = pd.DataFrame(corpus_with_ix, columns=['index', 'text'])"
      ]
    },
    {
      "cell_type": "code",
      "execution_count": 13,
      "metadata": {
        "id": "bt5YXTj6Xft6",
        "colab": {
          "base_uri": "https://localhost:8080/",
          "height": 739
        },
        "outputId": "bf865541-995f-47c9-aabf-36f6ae6e5da4"
      },
      "outputs": [
        {
          "output_type": "execute_result",
          "data": {
            "text/plain": [
              "   index                                               text\n",
              "0      0  My wife took me here on my birthday for breakf...\n",
              "1      1  I have no idea why some people give bad review...\n",
              "2      3  Rosie Dakota and I LOVE Chaparral Dog Park It ...\n",
              "3      4  General Manager Scott Petello is a good egg No...\n",
              "4      6  Drop what you 're doing and drive here After I..."
            ],
            "text/html": [
              "\n",
              "  <div id=\"df-82a3af35-2e7d-4188-882c-c25d957ca927\">\n",
              "    <div class=\"colab-df-container\">\n",
              "      <div>\n",
              "<style scoped>\n",
              "    .dataframe tbody tr th:only-of-type {\n",
              "        vertical-align: middle;\n",
              "    }\n",
              "\n",
              "    .dataframe tbody tr th {\n",
              "        vertical-align: top;\n",
              "    }\n",
              "\n",
              "    .dataframe thead th {\n",
              "        text-align: right;\n",
              "    }\n",
              "</style>\n",
              "<table border=\"1\" class=\"dataframe\">\n",
              "  <thead>\n",
              "    <tr style=\"text-align: right;\">\n",
              "      <th></th>\n",
              "      <th>index</th>\n",
              "      <th>text</th>\n",
              "    </tr>\n",
              "  </thead>\n",
              "  <tbody>\n",
              "    <tr>\n",
              "      <th>0</th>\n",
              "      <td>0</td>\n",
              "      <td>My wife took me here on my birthday for breakf...</td>\n",
              "    </tr>\n",
              "    <tr>\n",
              "      <th>1</th>\n",
              "      <td>1</td>\n",
              "      <td>I have no idea why some people give bad review...</td>\n",
              "    </tr>\n",
              "    <tr>\n",
              "      <th>2</th>\n",
              "      <td>3</td>\n",
              "      <td>Rosie Dakota and I LOVE Chaparral Dog Park It ...</td>\n",
              "    </tr>\n",
              "    <tr>\n",
              "      <th>3</th>\n",
              "      <td>4</td>\n",
              "      <td>General Manager Scott Petello is a good egg No...</td>\n",
              "    </tr>\n",
              "    <tr>\n",
              "      <th>4</th>\n",
              "      <td>6</td>\n",
              "      <td>Drop what you 're doing and drive here After I...</td>\n",
              "    </tr>\n",
              "  </tbody>\n",
              "</table>\n",
              "</div>\n",
              "      <button class=\"colab-df-convert\" onclick=\"convertToInteractive('df-82a3af35-2e7d-4188-882c-c25d957ca927')\"\n",
              "              title=\"Convert this dataframe to an interactive table.\"\n",
              "              style=\"display:none;\">\n",
              "        \n",
              "  <svg xmlns=\"http://www.w3.org/2000/svg\" height=\"24px\"viewBox=\"0 0 24 24\"\n",
              "       width=\"24px\">\n",
              "    <path d=\"M0 0h24v24H0V0z\" fill=\"none\"/>\n",
              "    <path d=\"M18.56 5.44l.94 2.06.94-2.06 2.06-.94-2.06-.94-.94-2.06-.94 2.06-2.06.94zm-11 1L8.5 8.5l.94-2.06 2.06-.94-2.06-.94L8.5 2.5l-.94 2.06-2.06.94zm10 10l.94 2.06.94-2.06 2.06-.94-2.06-.94-.94-2.06-.94 2.06-2.06.94z\"/><path d=\"M17.41 7.96l-1.37-1.37c-.4-.4-.92-.59-1.43-.59-.52 0-1.04.2-1.43.59L10.3 9.45l-7.72 7.72c-.78.78-.78 2.05 0 2.83L4 21.41c.39.39.9.59 1.41.59.51 0 1.02-.2 1.41-.59l7.78-7.78 2.81-2.81c.8-.78.8-2.07 0-2.86zM5.41 20L4 18.59l7.72-7.72 1.47 1.35L5.41 20z\"/>\n",
              "  </svg>\n",
              "      </button>\n",
              "      \n",
              "  <style>\n",
              "    .colab-df-container {\n",
              "      display:flex;\n",
              "      flex-wrap:wrap;\n",
              "      gap: 12px;\n",
              "    }\n",
              "\n",
              "    .colab-df-convert {\n",
              "      background-color: #E8F0FE;\n",
              "      border: none;\n",
              "      border-radius: 50%;\n",
              "      cursor: pointer;\n",
              "      display: none;\n",
              "      fill: #1967D2;\n",
              "      height: 32px;\n",
              "      padding: 0 0 0 0;\n",
              "      width: 32px;\n",
              "    }\n",
              "\n",
              "    .colab-df-convert:hover {\n",
              "      background-color: #E2EBFA;\n",
              "      box-shadow: 0px 1px 2px rgba(60, 64, 67, 0.3), 0px 1px 3px 1px rgba(60, 64, 67, 0.15);\n",
              "      fill: #174EA6;\n",
              "    }\n",
              "\n",
              "    [theme=dark] .colab-df-convert {\n",
              "      background-color: #3B4455;\n",
              "      fill: #D2E3FC;\n",
              "    }\n",
              "\n",
              "    [theme=dark] .colab-df-convert:hover {\n",
              "      background-color: #434B5C;\n",
              "      box-shadow: 0px 1px 3px 1px rgba(0, 0, 0, 0.15);\n",
              "      filter: drop-shadow(0px 1px 2px rgba(0, 0, 0, 0.3));\n",
              "      fill: #FFFFFF;\n",
              "    }\n",
              "  </style>\n",
              "\n",
              "      <script>\n",
              "        const buttonEl =\n",
              "          document.querySelector('#df-82a3af35-2e7d-4188-882c-c25d957ca927 button.colab-df-convert');\n",
              "        buttonEl.style.display =\n",
              "          google.colab.kernel.accessAllowed ? 'block' : 'none';\n",
              "\n",
              "        async function convertToInteractive(key) {\n",
              "          const element = document.querySelector('#df-82a3af35-2e7d-4188-882c-c25d957ca927');\n",
              "          const dataTable =\n",
              "            await google.colab.kernel.invokeFunction('convertToInteractive',\n",
              "                                                     [key], {});\n",
              "          if (!dataTable) return;\n",
              "\n",
              "          const docLinkHtml = 'Like what you see? Visit the ' +\n",
              "            '<a target=\"_blank\" href=https://colab.research.google.com/notebooks/data_table.ipynb>data table notebook</a>'\n",
              "            + ' to learn more about interactive tables.';\n",
              "          element.innerHTML = '';\n",
              "          dataTable['output_type'] = 'display_data';\n",
              "          await google.colab.output.renderOutput(dataTable, element);\n",
              "          const docLink = document.createElement('div');\n",
              "          docLink.innerHTML = docLinkHtml;\n",
              "          element.appendChild(docLink);\n",
              "        }\n",
              "      </script>\n",
              "    </div>\n",
              "  </div>\n",
              "  "
            ]
          },
          "metadata": {},
          "execution_count": 13
        }
      ],
      "source": [
        "corpus_df.head()"
      ]
    },
    {
      "cell_type": "code",
      "execution_count": 14,
      "metadata": {
        "id": "YqaXOxCYnmqz",
        "colab": {
          "base_uri": "https://localhost:8080/"
        },
        "outputId": "a23ed5c0-2869-4243-aed2-6ddbecaf7bbc"
      },
      "outputs": [
        {
          "output_type": "execute_result",
          "data": {
            "text/plain": [
              "0       1\n",
              "1       1\n",
              "3       1\n",
              "4       1\n",
              "6       1\n",
              "       ..\n",
              "9990    1\n",
              "9991    1\n",
              "9992    1\n",
              "9994    1\n",
              "9999    1\n",
              "Name: stars, Length: 4086, dtype: int64"
            ]
          },
          "metadata": {},
          "execution_count": 14
        }
      ],
      "source": [
        "y"
      ]
    },
    {
      "cell_type": "code",
      "execution_count": 15,
      "metadata": {
        "id": "od6DxRRZJUMf"
      },
      "outputs": [],
      "source": [
        "y_filtered = y[corpus_df['index']].to_numpy()"
      ]
    },
    {
      "cell_type": "code",
      "execution_count": 16,
      "metadata": {
        "id": "bWV2wVBxJuaZ"
      },
      "outputs": [],
      "source": [
        "corpus = [preprocess_text(sentence, should_join=False) for ix, sentence in corpus_with_ix]"
      ]
    },
    {
      "cell_type": "code",
      "execution_count": 17,
      "metadata": {
        "id": "M3Y3TMG6L3aO",
        "colab": {
          "base_uri": "https://localhost:8080/"
        },
        "outputId": "34f2d35f-84b2-48af-cb07-d7f87f2f97c2"
      },
      "outputs": [
        {
          "output_type": "execute_result",
          "data": {
            "text/plain": [
              "['my', 'wife', 'took', 'me', 'here', 'on']"
            ]
          },
          "metadata": {},
          "execution_count": 17
        }
      ],
      "source": [
        "corpus[0][:6]"
      ]
    },
    {
      "cell_type": "markdown",
      "source": [
        "## Creating the Tensor"
      ],
      "metadata": {
        "id": "V3W8h_7SjO9u"
      }
    },
    {
      "cell_type": "code",
      "execution_count": 18,
      "metadata": {
        "id": "fAQ1wVIScTYK"
      },
      "outputs": [],
      "source": [
        "def get_maximum_review_length(tokenized_corpus):\n",
        "    maximum = 0\n",
        "    for sentence in tokenized_corpus:\n",
        "        candidate = len(sentence)\n",
        "        if candidate > maximum:\n",
        "            maximum = candidate\n",
        "    return maximum\n",
        "max_review_length = get_maximum_review_length(corpus)"
      ]
    },
    {
      "cell_type": "code",
      "execution_count": 19,
      "metadata": {
        "id": "Cm5M72SymSYd",
        "colab": {
          "base_uri": "https://localhost:8080/"
        },
        "outputId": "e3ce776c-2f3b-41e3-bb98-f656d14e58be"
      },
      "outputs": [
        {
          "output_type": "execute_result",
          "data": {
            "text/plain": [
              "[11, 397, 196, 32, 37, 18]"
            ]
          },
          "metadata": {},
          "execution_count": 19
        }
      ],
      "source": [
        "tokenizer = Tokenizer()\n",
        "tokenizer.fit_on_texts(corpus)\n",
        "tokenized_corpus = tokenizer.texts_to_sequences(corpus)\n",
        "tokenized_corpus[0][:6]\n"
      ]
    },
    {
      "cell_type": "code",
      "source": [
        "nb_samples = sum(len(s) for s in corpus)\n",
        "vocab_size = len(tokenizer.word_index) + 1"
      ],
      "metadata": {
        "id": "qaeHj0fOi-tQ"
      },
      "execution_count": 20,
      "outputs": []
    },
    {
      "cell_type": "code",
      "source": [
        "nb_samples, vocab_size"
      ],
      "metadata": {
        "colab": {
          "base_uri": "https://localhost:8080/"
        },
        "id": "JtmrXGPYjFym",
        "outputId": "64546d5c-31dd-4d2e-f088-3a5e46df2c0f"
      },
      "execution_count": 21,
      "outputs": [
        {
          "output_type": "execute_result",
          "data": {
            "text/plain": [
              "(467596, 18769)"
            ]
          },
          "metadata": {},
          "execution_count": 21
        }
      ]
    },
    {
      "cell_type": "code",
      "execution_count": 22,
      "metadata": {
        "id": "odthjkKXmTWI"
      },
      "outputs": [],
      "source": [
        "final_X = np.zeros((len(tokenized_corpus), max_review_length))\n",
        "for ix, tokenized_sentence in enumerate(tokenized_corpus):\n",
        "    tokenized_sentence.extend([0]*(max_review_length-len(tokenized_sentence)))\n",
        "    final_X[ix] = tokenized_sentence"
      ]
    },
    {
      "cell_type": "markdown",
      "metadata": {
        "id": "NnzCLuSZ07Qg"
      },
      "source": [
        "## Creating the embedding matrix"
      ]
    },
    {
      "cell_type": "markdown",
      "metadata": {
        "id": "UUAv_aDdr7VD"
      },
      "source": [
        "This is the different part, we will construct an embedding matrix that maps each word in the tokenizer (via the ID it gets in the dataset) to the GloVe 100 dimensional representation of that word. This will be the input to the Embedding layer."
      ]
    },
    {
      "cell_type": "code",
      "execution_count": 23,
      "metadata": {
        "id": "VWvoLMT_mONi",
        "colab": {
          "base_uri": "https://localhost:8080/"
        },
        "outputId": "048db6a9-d2e2-4ee7-8bdc-b990c3c544c8"
      },
      "outputs": [
        {
          "output_type": "stream",
          "name": "stdout",
          "text": [
            "Found 400001 word vectors.\n"
          ]
        }
      ],
      "source": [
        "path_to_glove_file = \"./glove.6B.100d.txt\"\n",
        "embeddings_index = {}\n",
        "with open(path_to_glove_file) as f:\n",
        "    for line in f:\n",
        "        word, coefs = line.split(maxsplit=1)\n",
        "        coefs = np.fromstring(coefs, \"f\", sep=\" \")\n",
        "        embeddings_index[word] = coefs\n",
        "\n",
        "print(\"Found %s word vectors.\" % len(embeddings_index))"
      ]
    },
    {
      "cell_type": "code",
      "execution_count": 24,
      "metadata": {
        "id": "y_cy91zwmOQH",
        "colab": {
          "base_uri": "https://localhost:8080/"
        },
        "outputId": "cd9b1218-1285-43f7-80dc-78c7b115f00a"
      },
      "outputs": [
        {
          "output_type": "stream",
          "name": "stdout",
          "text": [
            "Converted 17041 words (1727 misses)\n"
          ]
        }
      ],
      "source": [
        "embedding_dim = 100\n",
        "num_tokens = vocab_size + 1\n",
        "hits = 0\n",
        "misses = 0\n",
        "\n",
        "# Prepare embedding matrix\n",
        "embedding_matrix = np.zeros((num_tokens, embedding_dim))\n",
        "for word, i in tokenizer.word_index.items():\n",
        "    embedding_vector = embeddings_index.get(word)\n",
        "    if embedding_vector is not None:\n",
        "        # Words not found in embedding index will be all-zeros.\n",
        "        # This includes the representation for \"padding\" and \"OOV\"\n",
        "        embedding_matrix[i] = embedding_vector\n",
        "        hits += 1\n",
        "    else:\n",
        "        misses += 1\n",
        "print(\"Converted %d words (%d misses)\" % (hits, misses))"
      ]
    },
    {
      "cell_type": "markdown",
      "metadata": {
        "id": "quWimVZjbemw"
      },
      "source": [
        "## Doing the train_test split and defining model"
      ]
    },
    {
      "cell_type": "code",
      "execution_count": 24,
      "metadata": {
        "id": "dk3W2cP-WWUM"
      },
      "outputs": [],
      "source": []
    },
    {
      "cell_type": "code",
      "execution_count": 25,
      "metadata": {
        "id": "gPK5YmDMTbby"
      },
      "outputs": [],
      "source": [
        "from sklearn.model_selection import train_test_split\n",
        "X_train, X_test, y_train, y_test = train_test_split(final_X, y_filtered, test_size = 0.4, random_state=42)"
      ]
    },
    {
      "cell_type": "code",
      "execution_count": 26,
      "metadata": {
        "id": "SwdtffgTVRM0"
      },
      "outputs": [],
      "source": [
        "X_train_tensor = tf.constant(X_train)\n",
        "X_test_tensor = tf.constant(X_test)\n",
        "y_train_tensor = tf.constant(y_train)\n",
        "y_test_tensor = tf.constant(y_test)"
      ]
    },
    {
      "cell_type": "code",
      "execution_count": 27,
      "metadata": {
        "id": "zzQA9t3JdlGO",
        "colab": {
          "base_uri": "https://localhost:8080/"
        },
        "outputId": "de9ba3bc-265f-4e2b-b55b-0ae3ac814ca2"
      },
      "outputs": [
        {
          "output_type": "execute_result",
          "data": {
            "text/plain": [
              "(TensorShape([2433, 879]), TensorShape([1623, 879]))"
            ]
          },
          "metadata": {},
          "execution_count": 27
        }
      ],
      "source": [
        "X_train_tensor.shape, X_test_tensor.shape"
      ]
    },
    {
      "cell_type": "markdown",
      "metadata": {
        "id": "6ZRw6Ttrsp53"
      },
      "source": [
        "Now we have the key step, we will set the first layer as the Embedding layer that will have the embedding matrix as the weights. With that we will be able to map each word index to the word representation. In a technique called \"Fine tuning\" one can set these weights as trainable and train them, but now we will leave the fixed. It will be a translator into a better way to represent each word."
      ]
    },
    {
      "cell_type": "code",
      "execution_count": 28,
      "metadata": {
        "id": "9ySCH6VsVNTa"
      },
      "outputs": [],
      "source": [
        "model = Sequential()\n",
        "model.add(Embedding(input_dim=embedding_matrix.shape[0], output_dim=embedding_matrix.shape[1], input_length=max_review_length, embeddings_initializer=Constant(embedding_matrix), trainable=False))\n",
        "model.add(Dense(100, activation=leaky_relu))\n",
        "model.add(Dense(50, activation=leaky_relu))\n",
        "model.add(Lambda(lambda x: K.mean(x, axis=1), output_shape=(embedding_dim,)))\n",
        "model.add(Dense(1, activation='sigmoid'))"
      ]
    },
    {
      "cell_type": "code",
      "execution_count": 29,
      "metadata": {
        "id": "MDd6hnQhVnOR",
        "colab": {
          "base_uri": "https://localhost:8080/"
        },
        "outputId": "43b48ba2-8c6c-4ce3-c5d3-eeceb4eee2c8"
      },
      "outputs": [
        {
          "output_type": "stream",
          "name": "stdout",
          "text": [
            "Model: \"sequential\"\n",
            "_________________________________________________________________\n",
            " Layer (type)                Output Shape              Param #   \n",
            "=================================================================\n",
            " embedding (Embedding)       (None, 879, 100)          1877000   \n",
            "                                                                 \n",
            " dense (Dense)               (None, 879, 100)          10100     \n",
            "                                                                 \n",
            " dense_1 (Dense)             (None, 879, 50)           5050      \n",
            "                                                                 \n",
            " lambda (Lambda)             (None, 50)                0         \n",
            "                                                                 \n",
            " dense_2 (Dense)             (None, 1)                 51        \n",
            "                                                                 \n",
            "=================================================================\n",
            "Total params: 1,892,201\n",
            "Trainable params: 15,201\n",
            "Non-trainable params: 1,877,000\n",
            "_________________________________________________________________\n"
          ]
        }
      ],
      "source": [
        "model.compile(optimizer='adam', loss=tf.keras.losses.BinaryCrossentropy(), metrics=[\"accuracy\", tf.keras.metrics.Precision(name='precision'), tf.keras.metrics.Recall(name='recall')])\n",
        "model.summary()"
      ]
    },
    {
      "cell_type": "markdown",
      "metadata": {
        "id": "L5qOpTaAtK7V"
      },
      "source": [
        "Notice the non-trainable parameters"
      ]
    },
    {
      "cell_type": "code",
      "execution_count": 30,
      "metadata": {
        "id": "UcAZECDkf-2B",
        "colab": {
          "base_uri": "https://localhost:8080/"
        },
        "outputId": "f294c839-e305-441a-8cbb-dd46fc7aa094"
      },
      "outputs": [
        {
          "output_type": "stream",
          "name": "stdout",
          "text": [
            "Epoch 1/30\n",
            "61/61 [==============================] - 9s 117ms/step - loss: 0.5671 - accuracy: 0.7986 - precision: 0.8224 - recall: 0.9624 - val_loss: 0.5201 - val_accuracy: 0.8070 - val_precision: 0.8070 - val_recall: 1.0000\n",
            "Epoch 2/30\n",
            "61/61 [==============================] - 6s 106ms/step - loss: 0.4727 - accuracy: 0.8207 - precision: 0.8207 - recall: 1.0000 - val_loss: 0.4725 - val_accuracy: 0.8049 - val_precision: 0.8079 - val_recall: 0.9949\n",
            "Epoch 3/30\n",
            "61/61 [==============================] - 6s 106ms/step - loss: 0.4350 - accuracy: 0.8222 - precision: 0.8260 - recall: 0.9925 - val_loss: 0.4610 - val_accuracy: 0.8049 - val_precision: 0.8091 - val_recall: 0.9924\n",
            "Epoch 4/30\n",
            "61/61 [==============================] - 6s 105ms/step - loss: 0.4190 - accuracy: 0.8294 - precision: 0.8320 - recall: 0.9925 - val_loss: 0.4448 - val_accuracy: 0.8070 - val_precision: 0.8134 - val_recall: 0.9873\n",
            "Epoch 5/30\n",
            "61/61 [==============================] - 9s 141ms/step - loss: 0.3937 - accuracy: 0.8345 - precision: 0.8371 - recall: 0.9912 - val_loss: 0.4422 - val_accuracy: 0.8070 - val_precision: 0.8330 - val_recall: 0.9517\n",
            "Epoch 6/30\n",
            "61/61 [==============================] - 6s 106ms/step - loss: 0.3779 - accuracy: 0.8350 - precision: 0.8419 - recall: 0.9837 - val_loss: 0.4006 - val_accuracy: 0.8131 - val_precision: 0.8172 - val_recall: 0.9898\n",
            "Epoch 7/30\n",
            "61/61 [==============================] - 6s 105ms/step - loss: 0.3569 - accuracy: 0.8443 - precision: 0.8456 - recall: 0.9912 - val_loss: 0.3945 - val_accuracy: 0.8275 - val_precision: 0.8503 - val_recall: 0.9542\n",
            "Epoch 8/30\n",
            "61/61 [==============================] - 6s 105ms/step - loss: 0.3402 - accuracy: 0.8546 - precision: 0.8590 - recall: 0.9843 - val_loss: 0.3841 - val_accuracy: 0.8172 - val_precision: 0.8167 - val_recall: 0.9975\n",
            "Epoch 9/30\n",
            "61/61 [==============================] - 6s 106ms/step - loss: 0.3237 - accuracy: 0.8638 - precision: 0.8667 - recall: 0.9856 - val_loss: 0.3538 - val_accuracy: 0.8234 - val_precision: 0.8259 - val_recall: 0.9898\n",
            "Epoch 10/30\n",
            "61/61 [==============================] - 6s 103ms/step - loss: 0.3288 - accuracy: 0.8643 - precision: 0.8697 - recall: 0.9818 - val_loss: 0.3340 - val_accuracy: 0.8419 - val_precision: 0.8527 - val_recall: 0.9720\n",
            "Epoch 11/30\n",
            "61/61 [==============================] - 6s 105ms/step - loss: 0.2967 - accuracy: 0.8731 - precision: 0.8767 - recall: 0.9837 - val_loss: 0.3254 - val_accuracy: 0.8501 - val_precision: 0.8509 - val_recall: 0.9873\n",
            "Epoch 12/30\n",
            "61/61 [==============================] - 7s 120ms/step - loss: 0.2897 - accuracy: 0.8798 - precision: 0.8818 - recall: 0.9856 - val_loss: 0.3087 - val_accuracy: 0.8624 - val_precision: 0.8705 - val_recall: 0.9746\n",
            "Epoch 13/30\n",
            "61/61 [==============================] - 6s 102ms/step - loss: 0.2801 - accuracy: 0.8818 - precision: 0.8855 - recall: 0.9831 - val_loss: 0.3310 - val_accuracy: 0.8419 - val_precision: 0.8405 - val_recall: 0.9924\n",
            "Epoch 14/30\n",
            "61/61 [==============================] - 6s 104ms/step - loss: 0.2786 - accuracy: 0.8808 - precision: 0.8832 - recall: 0.9850 - val_loss: 0.2974 - val_accuracy: 0.8624 - val_precision: 0.8622 - val_recall: 0.9873\n",
            "Epoch 15/30\n",
            "61/61 [==============================] - 6s 103ms/step - loss: 0.2691 - accuracy: 0.8911 - precision: 0.8919 - recall: 0.9869 - val_loss: 0.2853 - val_accuracy: 0.8747 - val_precision: 0.8860 - val_recall: 0.9695\n",
            "Epoch 16/30\n",
            "61/61 [==============================] - 6s 101ms/step - loss: 0.2639 - accuracy: 0.8941 - precision: 0.9004 - recall: 0.9793 - val_loss: 0.2858 - val_accuracy: 0.8747 - val_precision: 0.8739 - val_recall: 0.9873\n",
            "Epoch 17/30\n",
            "61/61 [==============================] - 6s 102ms/step - loss: 0.2546 - accuracy: 0.8993 - precision: 0.9024 - recall: 0.9837 - val_loss: 0.2755 - val_accuracy: 0.8747 - val_precision: 0.8843 - val_recall: 0.9720\n",
            "Epoch 18/30\n",
            "61/61 [==============================] - 6s 102ms/step - loss: 0.2484 - accuracy: 0.9029 - precision: 0.9051 - recall: 0.9850 - val_loss: 0.2932 - val_accuracy: 0.8645 - val_precision: 0.8641 - val_recall: 0.9873\n",
            "Epoch 19/30\n",
            "61/61 [==============================] - 6s 105ms/step - loss: 0.2467 - accuracy: 0.9024 - precision: 0.9064 - recall: 0.9825 - val_loss: 0.2746 - val_accuracy: 0.8747 - val_precision: 0.8952 - val_recall: 0.9567\n",
            "Epoch 20/30\n",
            "61/61 [==============================] - 6s 107ms/step - loss: 0.2507 - accuracy: 0.8993 - precision: 0.9061 - recall: 0.9787 - val_loss: 0.2640 - val_accuracy: 0.8830 - val_precision: 0.8889 - val_recall: 0.9771\n",
            "Epoch 21/30\n",
            "61/61 [==============================] - 6s 106ms/step - loss: 0.2379 - accuracy: 0.9049 - precision: 0.9100 - recall: 0.9812 - val_loss: 0.2610 - val_accuracy: 0.8830 - val_precision: 0.8889 - val_recall: 0.9771\n",
            "Epoch 22/30\n",
            "61/61 [==============================] - 6s 104ms/step - loss: 0.2335 - accuracy: 0.9090 - precision: 0.9133 - recall: 0.9825 - val_loss: 0.2687 - val_accuracy: 0.8830 - val_precision: 0.8836 - val_recall: 0.9847\n",
            "Epoch 23/30\n",
            "61/61 [==============================] - 6s 104ms/step - loss: 0.2342 - accuracy: 0.9070 - precision: 0.9140 - recall: 0.9787 - val_loss: 0.2571 - val_accuracy: 0.8891 - val_precision: 0.9007 - val_recall: 0.9695\n",
            "Epoch 24/30\n",
            "61/61 [==============================] - 6s 104ms/step - loss: 0.2281 - accuracy: 0.9142 - precision: 0.9191 - recall: 0.9818 - val_loss: 0.2579 - val_accuracy: 0.8850 - val_precision: 0.8874 - val_recall: 0.9822\n",
            "Epoch 25/30\n",
            "61/61 [==============================] - 6s 103ms/step - loss: 0.2246 - accuracy: 0.9157 - precision: 0.9193 - recall: 0.9837 - val_loss: 0.2569 - val_accuracy: 0.8891 - val_precision: 0.8915 - val_recall: 0.9822\n",
            "Epoch 26/30\n",
            "61/61 [==============================] - 6s 104ms/step - loss: 0.2240 - accuracy: 0.9183 - precision: 0.9224 - recall: 0.9831 - val_loss: 0.2505 - val_accuracy: 0.8871 - val_precision: 0.8986 - val_recall: 0.9695\n",
            "Epoch 27/30\n",
            "61/61 [==============================] - 7s 115ms/step - loss: 0.2191 - accuracy: 0.9126 - precision: 0.9209 - recall: 0.9775 - val_loss: 0.2533 - val_accuracy: 0.8891 - val_precision: 0.8933 - val_recall: 0.9796\n",
            "Epoch 28/30\n",
            "61/61 [==============================] - 6s 103ms/step - loss: 0.2288 - accuracy: 0.9152 - precision: 0.9227 - recall: 0.9787 - val_loss: 0.2491 - val_accuracy: 0.8953 - val_precision: 0.9014 - val_recall: 0.9771\n",
            "Epoch 29/30\n",
            "61/61 [==============================] - 6s 102ms/step - loss: 0.2179 - accuracy: 0.9162 - precision: 0.9223 - recall: 0.9806 - val_loss: 0.2456 - val_accuracy: 0.8932 - val_precision: 0.9089 - val_recall: 0.9644\n",
            "Epoch 30/30\n",
            "61/61 [==============================] - 6s 104ms/step - loss: 0.2139 - accuracy: 0.9193 - precision: 0.9230 - recall: 0.9837 - val_loss: 0.2542 - val_accuracy: 0.8932 - val_precision: 0.9231 - val_recall: 0.9466\n"
          ]
        }
      ],
      "source": [
        "callback = tf.keras.callbacks.EarlyStopping(monitor='val_precision', patience=10, min_delta=0.01, mode=\"max\")\n",
        "history = model.fit(X_train_tensor, y_train_tensor, epochs = 30, validation_split=0.2, workers = 5, callbacks=[callback])"
      ]
    },
    {
      "cell_type": "markdown",
      "metadata": {
        "id": "ROXVUovhYRWG"
      },
      "source": [
        "## Some plots"
      ]
    },
    {
      "cell_type": "code",
      "execution_count": 31,
      "metadata": {
        "id": "gtIQvnUcg2T2",
        "colab": {
          "base_uri": "https://localhost:8080/",
          "height": 281
        },
        "outputId": "8a0265cf-5d8c-4e96-f98b-11eedd17ff4e"
      },
      "outputs": [
        {
          "output_type": "display_data",
          "data": {
            "text/plain": [
              "<Figure size 432x288 with 1 Axes>"
            ],
            "image/png": "[encoded data removed]"
          },
          "metadata": {
            "needs_background": "light"
          }
        }
      ],
      "source": [
        "import matplotlib.pyplot as plt\n",
        "# function for plotting loss\n",
        "def plot_metrics(train_metric, val_metric=None, metric_name=None, title=None, ylim=5):\n",
        "    plt.title(title)\n",
        "    plt.ylim(0,ylim)\n",
        "    plt.plot(train_metric,color='blue',label=metric_name)\n",
        "    if val_metric is not None: plt.plot(val_metric,color='green',label='val_' + metric_name)\n",
        "    plt.legend(loc=\"upper right\")\n",
        "\n",
        "# plot loss history\n",
        "plot_metrics(history.history['loss'], history.history['val_loss'], \"Loss\", \"Loss\", ylim=1.0)\n"
      ]
    },
    {
      "cell_type": "code",
      "execution_count": 32,
      "metadata": {
        "id": "q6pBSQSPg2V6",
        "colab": {
          "base_uri": "https://localhost:8080/",
          "height": 281
        },
        "outputId": "02350c79-75b4-4d2e-f72a-b9cc291b84c4"
      },
      "outputs": [
        {
          "output_type": "display_data",
          "data": {
            "text/plain": [
              "<Figure size 432x288 with 1 Axes>"
            ],
            "image/png": "[encoded data removed]"
          },
          "metadata": {
            "needs_background": "light"
          }
        }
      ],
      "source": [
        "plot_metrics(history.history['accuracy'], history.history['val_accuracy'], \"Accuracy\", \"Accuracy\", ylim=1.0)\n"
      ]
    },
    {
      "cell_type": "code",
      "execution_count": 32,
      "metadata": {
        "id": "RPe1ekWlg2Yi"
      },
      "outputs": [],
      "source": []
    },
    {
      "cell_type": "code",
      "execution_count": 32,
      "metadata": {
        "id": "TV0VeAxSg2a3"
      },
      "outputs": [],
      "source": []
    },
    {
      "cell_type": "markdown",
      "metadata": {
        "id": "tNqRJ0wCbXMv"
      },
      "source": [
        "# Some manual validation"
      ]
    },
    {
      "cell_type": "code",
      "execution_count": 33,
      "metadata": {
        "id": "eF2Trj0ul1a5"
      },
      "outputs": [],
      "source": [
        "x_val = np.zeros((2, max_review_length))\n",
        "for ix, tokenized_sentence in enumerate(tokenizer.texts_to_sequences(['Horrible internet service', 'best phone of all time'])):\n",
        "    tokenized_sentence.extend([0]*(max_review_length-len(tokenized_sentence)))\n",
        "    x_val[ix] = tokenized_sentence\n",
        "y_val = tf.constant([0.0,1.0])"
      ]
    },
    {
      "cell_type": "code",
      "execution_count": 34,
      "metadata": {
        "id": "7YTph1DKqQ3r",
        "colab": {
          "base_uri": "https://localhost:8080/"
        },
        "outputId": "b1bf3fbe-feb9-4828-d4d6-f2166de116f1"
      },
      "outputs": [
        {
          "output_type": "execute_result",
          "data": {
            "text/plain": [
              "array([[ 548., 1766.,   56., ...,    0.,    0.,    0.],\n",
              "       [  67.,  586.,    4., ...,    0.,    0.,    0.]])"
            ]
          },
          "metadata": {},
          "execution_count": 34
        }
      ],
      "source": [
        "x_val"
      ]
    },
    {
      "cell_type": "code",
      "execution_count": 35,
      "metadata": {
        "id": "odJ47XJ8SmtC",
        "colab": {
          "base_uri": "https://localhost:8080/"
        },
        "outputId": "6305a113-b212-404e-dc14-bcd64771955f"
      },
      "outputs": [
        {
          "output_type": "stream",
          "name": "stdout",
          "text": [
            "1/1 [==============================] - 0s 156ms/step\n"
          ]
        },
        {
          "output_type": "execute_result",
          "data": {
            "text/plain": [
              "array([[0.54627  ],\n",
              "       [0.7202366]], dtype=float32)"
            ]
          },
          "metadata": {},
          "execution_count": 35
        }
      ],
      "source": [
        "model.predict(x_val)"
      ]
    },
    {
      "cell_type": "code",
      "execution_count": 36,
      "metadata": {
        "id": "68dQDWkpSnIr",
        "colab": {
          "base_uri": "https://localhost:8080/"
        },
        "outputId": "5ec74d9a-c0ba-4196-d1d1-fb7ecd79ad0a"
      },
      "outputs": [
        {
          "output_type": "stream",
          "name": "stdout",
          "text": [
            "1/1 [==============================] - 0s 21ms/step\n"
          ]
        },
        {
          "output_type": "execute_result",
          "data": {
            "text/plain": [
              "<tf.Tensor: shape=(2, 1), dtype=float32, numpy=\n",
              "array([[1.],\n",
              "       [1.]], dtype=float32)>"
            ]
          },
          "metadata": {},
          "execution_count": 36
        }
      ],
      "source": [
        "tf.math.ceil(model.predict(x_val))"
      ]
    },
    {
      "cell_type": "code",
      "execution_count": 37,
      "metadata": {
        "id": "icVOjVFybsU-",
        "colab": {
          "base_uri": "https://localhost:8080/"
        },
        "outputId": "589c8c3c-354f-4309-e134-748a3246aaba"
      },
      "outputs": [
        {
          "output_type": "stream",
          "name": "stdout",
          "text": [
            "51/51 [==============================] - 2s 43ms/step - loss: 0.2501 - accuracy: 0.9162 - precision: 0.9387 - recall: 0.9599\n"
          ]
        },
        {
          "output_type": "execute_result",
          "data": {
            "text/plain": [
              "[0.2501232326030731, 0.916204571723938, 0.9386548399925232, 0.9599395394325256]"
            ]
          },
          "metadata": {},
          "execution_count": 37
        }
      ],
      "source": [
        "model.evaluate(X_test_tensor, y_test_tensor)"
      ]
    },
    {
      "cell_type": "markdown",
      "metadata": {
        "id": "VBSc6m2LcPfk"
      },
      "source": [
        "Therefore, the model predicted correctly an 86% of observations (16% better than before!) and we predicted all positives correctly."
      ]
    },
    {
      "cell_type": "code",
      "execution_count": 37,
      "metadata": {
        "id": "UGUTiuyLmIsg"
      },
      "outputs": [],
      "source": []
    }
  ],
  "metadata": {
    "colab": {
      "provenance": [],
      "collapsed_sections": [
        "r4euc-iHf4ev",
        "TXLqIHnNWYMN",
        "V3W8h_7SjO9u",
        "NnzCLuSZ07Qg",
        "quWimVZjbemw",
        "ROXVUovhYRWG",
        "tNqRJ0wCbXMv"
      ],
      "authorship_tag": "ABX9TyMTVf7p4eliDPpGYp+SooH5",
      "include_colab_link": true
    },
    "gpuClass": "standard",
    "kernelspec": {
      "display_name": "Python 3",
      "name": "python3"
    },
    "language_info": {
      "name": "python"
    }
  },
  "nbformat": 4,
  "nbformat_minor": 0
}