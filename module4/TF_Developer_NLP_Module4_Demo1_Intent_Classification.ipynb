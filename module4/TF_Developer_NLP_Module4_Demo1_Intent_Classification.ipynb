{
  "nbformat": 4,
  "nbformat_minor": 0,
  "metadata": {
    "colab": {
      "provenance": [],
      "collapsed_sections": [],
      "authorship_tag": "ABX9TyNiU/jxTef7ZRo+vyDbWqsX",
      "include_colab_link": true
    },
    "kernelspec": {
      "name": "python3",
      "display_name": "Python 3"
    },
    "language_info": {
      "name": "python"
    },
    "gpuClass": "standard",
    "accelerator": "GPU"
  },
  "cells": [
    {
      "cell_type": "markdown",
      "metadata": {
        "id": "view-in-github",
        "colab_type": "text"
      },
      "source": [
        "<a href=\"https://colab.research.google.com/github/axel-sirota/tf-dev-nlp/blob/main/module4/TF_Developer_NLP_Module4_Demo1_Intent_Classification.ipynb\" target=\"_parent\"><img src=\"https://colab.research.google.com/assets/colab-badge.svg\" alt=\"Open In Colab\"/></a>"
      ]
    },
    {
      "cell_type": "markdown",
      "source": [
        "# Categorizing intent\n"
      ],
      "metadata": {
        "id": "QlJeKdJfTPMp"
      }
    },
    {
      "cell_type": "markdown",
      "source": [
        "Let's first import everything and load the dataset"
      ],
      "metadata": {
        "id": "epE01e6NbbMg"
      }
    },
    {
      "cell_type": "code",
      "source": [
        "!pip install textblob 'gensim==4.2.0'"
      ],
      "metadata": {
        "id": "Vny3vC29NVZ8",
        "colab": {
          "base_uri": "https://localhost:8080/"
        },
        "outputId": "f66d7451-4423-4cd0-8598-d143f1850fe2"
      },
      "execution_count": 1,
      "outputs": [
        {
          "output_type": "stream",
          "name": "stdout",
          "text": [
            "Looking in indexes: https://pypi.org/simple, https://us-python.pkg.dev/colab-wheels/public/simple/\n",
            "Requirement already satisfied: textblob in /usr/local/lib/python3.7/dist-packages (0.15.3)\n",
            "Collecting gensim==4.2.0\n",
            "  Downloading gensim-4.2.0-cp37-cp37m-manylinux_2_12_x86_64.manylinux2010_x86_64.whl (24.1 MB)\n",
            "\u001b[K     |████████████████████████████████| 24.1 MB 1.5 MB/s \n",
            "\u001b[?25hRequirement already satisfied: scipy>=0.18.1 in /usr/local/lib/python3.7/dist-packages (from gensim==4.2.0) (1.7.3)\n",
            "Requirement already satisfied: smart-open>=1.8.1 in /usr/local/lib/python3.7/dist-packages (from gensim==4.2.0) (5.2.1)\n",
            "Requirement already satisfied: numpy>=1.17.0 in /usr/local/lib/python3.7/dist-packages (from gensim==4.2.0) (1.21.6)\n",
            "Requirement already satisfied: nltk>=3.1 in /usr/local/lib/python3.7/dist-packages (from textblob) (3.7)\n",
            "Requirement already satisfied: joblib in /usr/local/lib/python3.7/dist-packages (from nltk>=3.1->textblob) (1.2.0)\n",
            "Requirement already satisfied: click in /usr/local/lib/python3.7/dist-packages (from nltk>=3.1->textblob) (7.1.2)\n",
            "Requirement already satisfied: tqdm in /usr/local/lib/python3.7/dist-packages (from nltk>=3.1->textblob) (4.64.1)\n",
            "Requirement already satisfied: regex>=2021.8.3 in /usr/local/lib/python3.7/dist-packages (from nltk>=3.1->textblob) (2022.6.2)\n",
            "Installing collected packages: gensim\n",
            "  Attempting uninstall: gensim\n",
            "    Found existing installation: gensim 3.6.0\n",
            "    Uninstalling gensim-3.6.0:\n",
            "      Successfully uninstalled gensim-3.6.0\n",
            "Successfully installed gensim-4.2.0\n"
          ]
        }
      ]
    },
    {
      "cell_type": "code",
      "execution_count": 2,
      "metadata": {
        "colab": {
          "base_uri": "https://localhost:8080/"
        },
        "id": "ri00gAaqSzrq",
        "outputId": "a4d8175f-850f-4caa-d861-a64c1f643650"
      },
      "outputs": [
        {
          "output_type": "stream",
          "name": "stderr",
          "text": [
            "[nltk_data] Downloading package punkt to /root/nltk_data...\n",
            "[nltk_data]   Unzipping tokenizers/punkt.zip.\n"
          ]
        }
      ],
      "source": [
        "import multiprocessing\n",
        "import tensorflow as tf\n",
        "import sys\n",
        "import keras.backend as K\n",
        "from keras.models import Sequential\n",
        "from keras.layers import Dense, Embedding, Lambda, Input\n",
        "from keras.utils import np_utils\n",
        "from keras.preprocessing import sequence\n",
        "from keras.preprocessing.text import Tokenizer\n",
        "from textblob import TextBlob, Word\n",
        "from keras_preprocessing.sequence import pad_sequences\n",
        "from keras.initializers import Constant\n",
        "from sklearn.feature_extraction.text import CountVectorizer\n",
        "from tensorflow.nn import leaky_relu\n",
        "import numpy as np\n",
        "import re\n",
        "import random\n",
        "import os\n",
        "import pandas as pd\n",
        "import gensim\n",
        "import warnings\n",
        "import nltk\n",
        "\n",
        "epochs = 100\n",
        "embedding_dim = 100\n",
        "TRACE = False\n",
        "\n",
        "def set_seeds_and_trace():\n",
        "  os.environ['PYTHONHASHSEED'] = '0'\n",
        "  np.random.seed(42)\n",
        "  tf.random.set_seed(42)\n",
        "  random.seed(42)\n",
        "  if TRACE:\n",
        "    tf.debugging.set_log_device_placement(True)\n",
        "\n",
        "def set_session_with_gpus_and_cores():\n",
        "  cores = multiprocessing.cpu_count()\n",
        "  gpus = len(tf.config.list_physical_devices('GPU'))\n",
        "  config = tf.compat.v1.ConfigProto( device_count = {'GPU': gpus  , 'CPU': cores} , intra_op_parallelism_threads=1, inter_op_parallelism_threads=1)\n",
        "  sess = tf.compat.v1.Session(config=config) \n",
        "  K.set_session(sess)\n",
        "\n",
        "set_seeds_and_trace()\n",
        "set_session_with_gpus_and_cores()\n",
        "warnings.filterwarnings('ignore')\n",
        "nltk.download('punkt')\n",
        "tokenizer = lambda x: TextBlob(x).words"
      ]
    },
    {
      "cell_type": "markdown",
      "source": [
        "Now we will download the dataset and explore it"
      ],
      "metadata": {
        "id": "8L6HlScpFdd9"
      }
    },
    {
      "cell_type": "code",
      "source": [
        "%%writefile get_data.sh\n",
        "if [ ! -f intents.csv ]; then\n",
        "  wget -O intents.csv https://www.dropbox.com/s/smy3os4px8ionkx/atis_intents.csv?dl=0\n",
        "fi\n",
        "\n",
        "if [ ! -f glove.6B.100d.txt ]; then\n",
        "  wget -O glove.6B.100d.txt https://www.dropbox.com/s/dl1vswq2sz5f1ws/glove.6B.100d.txt?dl=0\n",
        "fi"
      ],
      "metadata": {
        "colab": {
          "base_uri": "https://localhost:8080/"
        },
        "id": "aHuUsDMlTXhM",
        "outputId": "50db2b63-21df-4a6a-dbcd-05c0f8c760ef"
      },
      "execution_count": 3,
      "outputs": [
        {
          "output_type": "stream",
          "name": "stdout",
          "text": [
            "Writing get_data.sh\n"
          ]
        }
      ]
    },
    {
      "cell_type": "code",
      "source": [
        "!bash get_data.sh\n"
      ],
      "metadata": {
        "id": "Uq4-oO3KTnbQ",
        "colab": {
          "base_uri": "https://localhost:8080/"
        },
        "outputId": "3303919d-8240-42cc-b65c-556d851fea04"
      },
      "execution_count": 4,
      "outputs": [
        {
          "output_type": "stream",
          "name": "stdout",
          "text": [
            "--2022-11-10 23:29:24--  https://www.dropbox.com/s/smy3os4px8ionkx/atis_intents.csv?dl=0\n",
            "Resolving www.dropbox.com (www.dropbox.com)... 162.125.7.18, 2620:100:601d:18::a27d:512\n",
            "Connecting to www.dropbox.com (www.dropbox.com)|162.125.7.18|:443... connected.\n",
            "HTTP request sent, awaiting response... 302 Found\n",
            "Location: /s/raw/smy3os4px8ionkx/atis_intents.csv [following]\n",
            "--2022-11-10 23:29:24--  https://www.dropbox.com/s/raw/smy3os4px8ionkx/atis_intents.csv\n",
            "Reusing existing connection to www.dropbox.com:443.\n",
            "HTTP request sent, awaiting response... 302 Found\n",
            "Location: https://ucfcba990c382143203e2b8a1b68.dl.dropboxusercontent.com/cd/0/inline/Bwikmq9ZZg0Z7tj4g69ZMv8OX_uczu1q4q-wOGg6odOFhSL6gYTfJlCFhLgRNnMrvExrVMwzcPO9RKYwwczWnzL0ANLhT9rlSv9QMqu71HSHHoNNj9U-Yl149Kvtc_y8OCPlZsABJpgEBww9vysCG0baZ3oNSXugkw5bVaJWRB7ZBA/file# [following]\n",
            "--2022-11-10 23:29:24--  https://ucfcba990c382143203e2b8a1b68.dl.dropboxusercontent.com/cd/0/inline/Bwikmq9ZZg0Z7tj4g69ZMv8OX_uczu1q4q-wOGg6odOFhSL6gYTfJlCFhLgRNnMrvExrVMwzcPO9RKYwwczWnzL0ANLhT9rlSv9QMqu71HSHHoNNj9U-Yl149Kvtc_y8OCPlZsABJpgEBww9vysCG0baZ3oNSXugkw5bVaJWRB7ZBA/file\n",
            "Resolving ucfcba990c382143203e2b8a1b68.dl.dropboxusercontent.com (ucfcba990c382143203e2b8a1b68.dl.dropboxusercontent.com)... 162.125.5.15, 2620:100:601d:15::a27d:50f\n",
            "Connecting to ucfcba990c382143203e2b8a1b68.dl.dropboxusercontent.com (ucfcba990c382143203e2b8a1b68.dl.dropboxusercontent.com)|162.125.5.15|:443... connected.\n",
            "HTTP request sent, awaiting response... 200 OK\n",
            "Length: 391936 (383K) [text/plain]\n",
            "Saving to: ‘intents.csv’\n",
            "\n",
            "intents.csv         100%[===================>] 382.75K  --.-KB/s    in 0.08s   \n",
            "\n",
            "2022-11-10 23:29:25 (4.72 MB/s) - ‘intents.csv’ saved [391936/391936]\n",
            "\n",
            "--2022-11-10 23:29:25--  https://www.dropbox.com/s/dl1vswq2sz5f1ws/glove.6B.100d.txt?dl=0\n",
            "Resolving www.dropbox.com (www.dropbox.com)... 162.125.7.18, 2620:100:601d:18::a27d:512\n",
            "Connecting to www.dropbox.com (www.dropbox.com)|162.125.7.18|:443... connected.\n",
            "HTTP request sent, awaiting response... 302 Found\n",
            "Location: /s/raw/dl1vswq2sz5f1ws/glove.6B.100d.txt [following]\n",
            "--2022-11-10 23:29:25--  https://www.dropbox.com/s/raw/dl1vswq2sz5f1ws/glove.6B.100d.txt\n",
            "Reusing existing connection to www.dropbox.com:443.\n",
            "HTTP request sent, awaiting response... 302 Found\n",
            "Location: https://ucbec3cd20d2bde703a88c61cfd1.dl.dropboxusercontent.com/cd/0/inline/BwiSb6k2mYBbQwpAHYZUq6cO0NWsno0x4EV4PBjRDxNoqMA75bp-xo2qMI0zuHLzOR7eZ-fPSURBdAOCvE8BgNe0rh7PEeu-nMZhtVUo1w-b4itDImeer2QHya8qy_J79xkWXbm95XiOje-6qyF4FbjfIjYo57fh3OlJRQC0LSp5iw/file# [following]\n",
            "--2022-11-10 23:29:26--  https://ucbec3cd20d2bde703a88c61cfd1.dl.dropboxusercontent.com/cd/0/inline/BwiSb6k2mYBbQwpAHYZUq6cO0NWsno0x4EV4PBjRDxNoqMA75bp-xo2qMI0zuHLzOR7eZ-fPSURBdAOCvE8BgNe0rh7PEeu-nMZhtVUo1w-b4itDImeer2QHya8qy_J79xkWXbm95XiOje-6qyF4FbjfIjYo57fh3OlJRQC0LSp5iw/file\n",
            "Resolving ucbec3cd20d2bde703a88c61cfd1.dl.dropboxusercontent.com (ucbec3cd20d2bde703a88c61cfd1.dl.dropboxusercontent.com)... 162.125.5.15, 2620:100:601d:15::a27d:50f\n",
            "Connecting to ucbec3cd20d2bde703a88c61cfd1.dl.dropboxusercontent.com (ucbec3cd20d2bde703a88c61cfd1.dl.dropboxusercontent.com)|162.125.5.15|:443... connected.\n",
            "HTTP request sent, awaiting response... 200 OK\n",
            "Length: 347117594 (331M) [text/plain]\n",
            "Saving to: ‘glove.6B.100d.txt’\n",
            "\n",
            "glove.6B.100d.txt   100%[===================>] 331.04M   101MB/s    in 3.4s    \n",
            "\n",
            "2022-11-10 23:29:30 (96.3 MB/s) - ‘glove.6B.100d.txt’ saved [347117594/347117594]\n",
            "\n"
          ]
        }
      ]
    },
    {
      "cell_type": "markdown",
      "source": [
        "Let's inspect how this intents csv looks like"
      ],
      "metadata": {
        "id": "9vzvhu6Irw_O"
      }
    },
    {
      "cell_type": "code",
      "source": [
        "! head intents.csv"
      ],
      "metadata": {
        "colab": {
          "base_uri": "https://localhost:8080/"
        },
        "id": "p4IB-iA50ZUc",
        "outputId": "6f6853ba-33bb-491a-a60c-1c3106819aed"
      },
      "execution_count": 5,
      "outputs": [
        {
          "output_type": "stream",
          "name": "stdout",
          "text": [
            "atis_flight, i want to fly from boston at 838 am and arrive in denver at 1110 in the morning\n",
            "atis_flight, what flights are available from pittsburgh to baltimore on thursday morning\n",
            "atis_flight_time, what is the arrival time in san francisco for the 755 am flight leaving washington\n",
            "atis_airfare, cheapest airfare from tacoma to orlando\n",
            "atis_airfare, round trip fares from pittsburgh to philadelphia under 1000 dollars\n",
            "atis_flight, i need a flight tomorrow from columbus to minneapolis\n",
            "atis_aircraft, what kind of aircraft is used on a flight from cleveland to dallas\n",
            "atis_flight, show me the flights from pittsburgh to los angeles on thursday\n",
            "atis_flight, all flights from boston to washington\n",
            "atis_ground_service, what kind of ground transportation is available in denver\n"
          ]
        }
      ]
    },
    {
      "cell_type": "code",
      "source": [
        "def preprocess_text(text, should_join=True):\n",
        "    text = ' '.join(word.lower() for word in text.split(\" \"))\n",
        "    text = re.sub(r\"([.,!?])\", r\" \\1 \", text)\n",
        "    text = re.sub(r\"[^a-zA-Z.,!?]+\", r\" \", text)\n",
        "    if should_join:\n",
        "      return ' '.join(gensim.utils.simple_preprocess(text))\n",
        "    else:\n",
        "      return gensim.utils.simple_preprocess(text)"
      ],
      "metadata": {
        "id": "CCXNQ8yT8AMn"
      },
      "execution_count": 6,
      "outputs": []
    },
    {
      "cell_type": "code",
      "source": [
        "path = './intents.csv'\n",
        "intents = pd.read_csv(path, header=None, names=[\"intent\", \"query\"])\n",
        "intents"
      ],
      "metadata": {
        "id": "i32aK_G6TZl9",
        "colab": {
          "base_uri": "https://localhost:8080/",
          "height": 424
        },
        "outputId": "0c510600-5904-4f70-eb98-23d93ab2bf61"
      },
      "execution_count": 7,
      "outputs": [
        {
          "output_type": "execute_result",
          "data": {
            "text/plain": [
              "                intent                                              query\n",
              "0          atis_flight   i want to fly from boston at 838 am and arriv...\n",
              "1          atis_flight   what flights are available from pittsburgh to...\n",
              "2     atis_flight_time   what is the arrival time in san francisco for...\n",
              "3         atis_airfare            cheapest airfare from tacoma to orlando\n",
              "4         atis_airfare   round trip fares from pittsburgh to philadelp...\n",
              "...                ...                                                ...\n",
              "4973      atis_airfare   what is the airfare for flights from denver t...\n",
              "4974       atis_flight   do you have any flights from denver to baltim...\n",
              "4975      atis_airline          which airlines fly into and out of denver\n",
              "4976       atis_flight   does continental fly from boston to san franc...\n",
              "4977       atis_flight   is there a delta flight from denver to san fr...\n",
              "\n",
              "[4978 rows x 2 columns]"
            ],
            "text/html": [
              "\n",
              "  <div id=\"df-9bf149bd-5311-4fa3-8efa-ea62aa980726\">\n",
              "    <div class=\"colab-df-container\">\n",
              "      <div>\n",
              "<style scoped>\n",
              "    .dataframe tbody tr th:only-of-type {\n",
              "        vertical-align: middle;\n",
              "    }\n",
              "\n",
              "    .dataframe tbody tr th {\n",
              "        vertical-align: top;\n",
              "    }\n",
              "\n",
              "    .dataframe thead th {\n",
              "        text-align: right;\n",
              "    }\n",
              "</style>\n",
              "<table border=\"1\" class=\"dataframe\">\n",
              "  <thead>\n",
              "    <tr style=\"text-align: right;\">\n",
              "      <th></th>\n",
              "      <th>intent</th>\n",
              "      <th>query</th>\n",
              "    </tr>\n",
              "  </thead>\n",
              "  <tbody>\n",
              "    <tr>\n",
              "      <th>0</th>\n",
              "      <td>atis_flight</td>\n",
              "      <td>i want to fly from boston at 838 am and arriv...</td>\n",
              "    </tr>\n",
              "    <tr>\n",
              "      <th>1</th>\n",
              "      <td>atis_flight</td>\n",
              "      <td>what flights are available from pittsburgh to...</td>\n",
              "    </tr>\n",
              "    <tr>\n",
              "      <th>2</th>\n",
              "      <td>atis_flight_time</td>\n",
              "      <td>what is the arrival time in san francisco for...</td>\n",
              "    </tr>\n",
              "    <tr>\n",
              "      <th>3</th>\n",
              "      <td>atis_airfare</td>\n",
              "      <td>cheapest airfare from tacoma to orlando</td>\n",
              "    </tr>\n",
              "    <tr>\n",
              "      <th>4</th>\n",
              "      <td>atis_airfare</td>\n",
              "      <td>round trip fares from pittsburgh to philadelp...</td>\n",
              "    </tr>\n",
              "    <tr>\n",
              "      <th>...</th>\n",
              "      <td>...</td>\n",
              "      <td>...</td>\n",
              "    </tr>\n",
              "    <tr>\n",
              "      <th>4973</th>\n",
              "      <td>atis_airfare</td>\n",
              "      <td>what is the airfare for flights from denver t...</td>\n",
              "    </tr>\n",
              "    <tr>\n",
              "      <th>4974</th>\n",
              "      <td>atis_flight</td>\n",
              "      <td>do you have any flights from denver to baltim...</td>\n",
              "    </tr>\n",
              "    <tr>\n",
              "      <th>4975</th>\n",
              "      <td>atis_airline</td>\n",
              "      <td>which airlines fly into and out of denver</td>\n",
              "    </tr>\n",
              "    <tr>\n",
              "      <th>4976</th>\n",
              "      <td>atis_flight</td>\n",
              "      <td>does continental fly from boston to san franc...</td>\n",
              "    </tr>\n",
              "    <tr>\n",
              "      <th>4977</th>\n",
              "      <td>atis_flight</td>\n",
              "      <td>is there a delta flight from denver to san fr...</td>\n",
              "    </tr>\n",
              "  </tbody>\n",
              "</table>\n",
              "<p>4978 rows × 2 columns</p>\n",
              "</div>\n",
              "      <button class=\"colab-df-convert\" onclick=\"convertToInteractive('df-9bf149bd-5311-4fa3-8efa-ea62aa980726')\"\n",
              "              title=\"Convert this dataframe to an interactive table.\"\n",
              "              style=\"display:none;\">\n",
              "        \n",
              "  <svg xmlns=\"http://www.w3.org/2000/svg\" height=\"24px\"viewBox=\"0 0 24 24\"\n",
              "       width=\"24px\">\n",
              "    <path d=\"M0 0h24v24H0V0z\" fill=\"none\"/>\n",
              "    <path d=\"M18.56 5.44l.94 2.06.94-2.06 2.06-.94-2.06-.94-.94-2.06-.94 2.06-2.06.94zm-11 1L8.5 8.5l.94-2.06 2.06-.94-2.06-.94L8.5 2.5l-.94 2.06-2.06.94zm10 10l.94 2.06.94-2.06 2.06-.94-2.06-.94-.94-2.06-.94 2.06-2.06.94z\"/><path d=\"M17.41 7.96l-1.37-1.37c-.4-.4-.92-.59-1.43-.59-.52 0-1.04.2-1.43.59L10.3 9.45l-7.72 7.72c-.78.78-.78 2.05 0 2.83L4 21.41c.39.39.9.59 1.41.59.51 0 1.02-.2 1.41-.59l7.78-7.78 2.81-2.81c.8-.78.8-2.07 0-2.86zM5.41 20L4 18.59l7.72-7.72 1.47 1.35L5.41 20z\"/>\n",
              "  </svg>\n",
              "      </button>\n",
              "      \n",
              "  <style>\n",
              "    .colab-df-container {\n",
              "      display:flex;\n",
              "      flex-wrap:wrap;\n",
              "      gap: 12px;\n",
              "    }\n",
              "\n",
              "    .colab-df-convert {\n",
              "      background-color: #E8F0FE;\n",
              "      border: none;\n",
              "      border-radius: 50%;\n",
              "      cursor: pointer;\n",
              "      display: none;\n",
              "      fill: #1967D2;\n",
              "      height: 32px;\n",
              "      padding: 0 0 0 0;\n",
              "      width: 32px;\n",
              "    }\n",
              "\n",
              "    .colab-df-convert:hover {\n",
              "      background-color: #E2EBFA;\n",
              "      box-shadow: 0px 1px 2px rgba(60, 64, 67, 0.3), 0px 1px 3px 1px rgba(60, 64, 67, 0.15);\n",
              "      fill: #174EA6;\n",
              "    }\n",
              "\n",
              "    [theme=dark] .colab-df-convert {\n",
              "      background-color: #3B4455;\n",
              "      fill: #D2E3FC;\n",
              "    }\n",
              "\n",
              "    [theme=dark] .colab-df-convert:hover {\n",
              "      background-color: #434B5C;\n",
              "      box-shadow: 0px 1px 3px 1px rgba(0, 0, 0, 0.15);\n",
              "      filter: drop-shadow(0px 1px 2px rgba(0, 0, 0, 0.3));\n",
              "      fill: #FFFFFF;\n",
              "    }\n",
              "  </style>\n",
              "\n",
              "      <script>\n",
              "        const buttonEl =\n",
              "          document.querySelector('#df-9bf149bd-5311-4fa3-8efa-ea62aa980726 button.colab-df-convert');\n",
              "        buttonEl.style.display =\n",
              "          google.colab.kernel.accessAllowed ? 'block' : 'none';\n",
              "\n",
              "        async function convertToInteractive(key) {\n",
              "          const element = document.querySelector('#df-9bf149bd-5311-4fa3-8efa-ea62aa980726');\n",
              "          const dataTable =\n",
              "            await google.colab.kernel.invokeFunction('convertToInteractive',\n",
              "                                                     [key], {});\n",
              "          if (!dataTable) return;\n",
              "\n",
              "          const docLinkHtml = 'Like what you see? Visit the ' +\n",
              "            '<a target=\"_blank\" href=https://colab.research.google.com/notebooks/data_table.ipynb>data table notebook</a>'\n",
              "            + ' to learn more about interactive tables.';\n",
              "          element.innerHTML = '';\n",
              "          dataTable['output_type'] = 'display_data';\n",
              "          await google.colab.output.renderOutput(dataTable, element);\n",
              "          const docLink = document.createElement('div');\n",
              "          docLink.innerHTML = docLinkHtml;\n",
              "          element.appendChild(docLink);\n",
              "        }\n",
              "      </script>\n",
              "    </div>\n",
              "  </div>\n",
              "  "
            ]
          },
          "metadata": {},
          "execution_count": 7
        }
      ]
    },
    {
      "cell_type": "markdown",
      "source": [
        "Let's inspect the intents"
      ],
      "metadata": {
        "id": "gqQQj32QxDYf"
      }
    },
    {
      "cell_type": "code",
      "source": [
        "intents.intent.value_counts()"
      ],
      "metadata": {
        "colab": {
          "base_uri": "https://localhost:8080/"
        },
        "id": "NGhouO2WvpqC",
        "outputId": "8f27e047-7805-4683-9872-f4f19c95eeaa"
      },
      "execution_count": 8,
      "outputs": [
        {
          "output_type": "execute_result",
          "data": {
            "text/plain": [
              "atis_flight                                 3666\n",
              "atis_airfare                                 423\n",
              "atis_ground_service                          255\n",
              "atis_airline                                 157\n",
              "atis_abbreviation                            147\n",
              "atis_aircraft                                 81\n",
              "atis_flight_time                              54\n",
              "atis_quantity                                 51\n",
              "atis_flight#atis_airfare                      21\n",
              "atis_airport                                  20\n",
              "atis_distance                                 20\n",
              "atis_city                                     19\n",
              "atis_ground_fare                              18\n",
              "atis_capacity                                 16\n",
              "atis_flight_no                                12\n",
              "atis_meal                                      6\n",
              "atis_restriction                               6\n",
              "atis_airline#atis_flight_no                    2\n",
              "atis_ground_service#atis_ground_fare           1\n",
              "atis_airfare#atis_flight_time                  1\n",
              "atis_cheapest                                  1\n",
              "atis_aircraft#atis_flight#atis_flight_no       1\n",
              "Name: intent, dtype: int64"
            ]
          },
          "metadata": {},
          "execution_count": 8
        }
      ]
    },
    {
      "cell_type": "markdown",
      "source": [
        "Let's filter the rows with a rare intent since we will not be able to predict it neverthenless"
      ],
      "metadata": {
        "id": "cP4_-3ezxFM6"
      }
    },
    {
      "cell_type": "code",
      "source": [
        "intents_filtered = intents.groupby('intent').filter(lambda x: len(x) >= 15).reset_index()"
      ],
      "metadata": {
        "id": "Nr58BnYEw0eH"
      },
      "execution_count": 9,
      "outputs": []
    },
    {
      "cell_type": "code",
      "source": [
        "X = intents_filtered['query']\n",
        "y = intents_filtered.intent\n"
      ],
      "metadata": {
        "id": "kLf4fI_qvnpb"
      },
      "execution_count": 10,
      "outputs": []
    },
    {
      "cell_type": "markdown",
      "source": [
        "If we inspect y, now we need to transform it into a one hot representation!"
      ],
      "metadata": {
        "id": "Xc7ZSCE4xZs0"
      }
    },
    {
      "cell_type": "code",
      "source": [
        "y"
      ],
      "metadata": {
        "colab": {
          "base_uri": "https://localhost:8080/"
        },
        "id": "LmWB0D5oxX10",
        "outputId": "f79d25a3-2f7d-441b-d30f-ca527c260204"
      },
      "execution_count": 11,
      "outputs": [
        {
          "output_type": "execute_result",
          "data": {
            "text/plain": [
              "0            atis_flight\n",
              "1            atis_flight\n",
              "2       atis_flight_time\n",
              "3           atis_airfare\n",
              "4           atis_airfare\n",
              "              ...       \n",
              "4943        atis_airfare\n",
              "4944         atis_flight\n",
              "4945        atis_airline\n",
              "4946         atis_flight\n",
              "4947         atis_flight\n",
              "Name: intent, Length: 4948, dtype: object"
            ]
          },
          "metadata": {},
          "execution_count": 11
        }
      ]
    },
    {
      "cell_type": "code",
      "source": [],
      "metadata": {
        "id": "ebXKmG_cxpOx"
      },
      "execution_count": 11,
      "outputs": []
    },
    {
      "cell_type": "code",
      "source": [],
      "metadata": {
        "id": "G96hiuLixkRb"
      },
      "execution_count": 11,
      "outputs": []
    },
    {
      "cell_type": "markdown",
      "source": [
        "## Creating the corpus and tokenizing"
      ],
      "metadata": {
        "id": "TXLqIHnNWYMN"
      }
    },
    {
      "cell_type": "code",
      "source": [
        "corpus_with_ix = [(ix, preprocess_text(sentence, should_join = True)) for ix, sentence in X.iteritems() if type(sentence) == str and len(TextBlob(sentence).words) > 3]"
      ],
      "metadata": {
        "id": "MebwtE3DH0Qu"
      },
      "execution_count": 12,
      "outputs": []
    },
    {
      "cell_type": "code",
      "source": [
        "corpus_with_ix[0]"
      ],
      "metadata": {
        "id": "1pjd3cYbI-ib",
        "colab": {
          "base_uri": "https://localhost:8080/"
        },
        "outputId": "aa1c71c3-5dde-4af3-f86f-bc66ff18ad9d"
      },
      "execution_count": 13,
      "outputs": [
        {
          "output_type": "execute_result",
          "data": {
            "text/plain": [
              "(0, 'want to fly from boston at am and arrive in denver at in the morning')"
            ]
          },
          "metadata": {},
          "execution_count": 13
        }
      ]
    },
    {
      "cell_type": "code",
      "source": [
        "corpus_df = pd.DataFrame(corpus_with_ix, columns=['index', 'text'])"
      ],
      "metadata": {
        "id": "r2jN-duFXT7-"
      },
      "execution_count": 14,
      "outputs": []
    },
    {
      "cell_type": "code",
      "source": [
        "corpus_df"
      ],
      "metadata": {
        "id": "bt5YXTj6Xft6",
        "colab": {
          "base_uri": "https://localhost:8080/",
          "height": 424
        },
        "outputId": "1eae4d29-ed2c-4db3-c8cf-472459bb41df"
      },
      "execution_count": 15,
      "outputs": [
        {
          "output_type": "execute_result",
          "data": {
            "text/plain": [
              "      index                                               text\n",
              "0         0  want to fly from boston at am and arrive in de...\n",
              "1         1  what flights are available from pittsburgh to ...\n",
              "2         2  what is the arrival time in san francisco for ...\n",
              "3         3            cheapest airfare from tacoma to orlando\n",
              "4         4  round trip fares from pittsburgh to philadelph...\n",
              "...     ...                                                ...\n",
              "4866   4943  what is the airfare for flights from denver to...\n",
              "4867   4944  do you have any flights from denver to baltimo...\n",
              "4868   4945          which airlines fly into and out of denver\n",
              "4869   4946  does continental fly from boston to san franci...\n",
              "4870   4947  is there delta flight from denver to san franc...\n",
              "\n",
              "[4871 rows x 2 columns]"
            ],
            "text/html": [
              "\n",
              "  <div id=\"df-c7585128-83aa-4697-8c0d-0ff92ce6b696\">\n",
              "    <div class=\"colab-df-container\">\n",
              "      <div>\n",
              "<style scoped>\n",
              "    .dataframe tbody tr th:only-of-type {\n",
              "        vertical-align: middle;\n",
              "    }\n",
              "\n",
              "    .dataframe tbody tr th {\n",
              "        vertical-align: top;\n",
              "    }\n",
              "\n",
              "    .dataframe thead th {\n",
              "        text-align: right;\n",
              "    }\n",
              "</style>\n",
              "<table border=\"1\" class=\"dataframe\">\n",
              "  <thead>\n",
              "    <tr style=\"text-align: right;\">\n",
              "      <th></th>\n",
              "      <th>index</th>\n",
              "      <th>text</th>\n",
              "    </tr>\n",
              "  </thead>\n",
              "  <tbody>\n",
              "    <tr>\n",
              "      <th>0</th>\n",
              "      <td>0</td>\n",
              "      <td>want to fly from boston at am and arrive in de...</td>\n",
              "    </tr>\n",
              "    <tr>\n",
              "      <th>1</th>\n",
              "      <td>1</td>\n",
              "      <td>what flights are available from pittsburgh to ...</td>\n",
              "    </tr>\n",
              "    <tr>\n",
              "      <th>2</th>\n",
              "      <td>2</td>\n",
              "      <td>what is the arrival time in san francisco for ...</td>\n",
              "    </tr>\n",
              "    <tr>\n",
              "      <th>3</th>\n",
              "      <td>3</td>\n",
              "      <td>cheapest airfare from tacoma to orlando</td>\n",
              "    </tr>\n",
              "    <tr>\n",
              "      <th>4</th>\n",
              "      <td>4</td>\n",
              "      <td>round trip fares from pittsburgh to philadelph...</td>\n",
              "    </tr>\n",
              "    <tr>\n",
              "      <th>...</th>\n",
              "      <td>...</td>\n",
              "      <td>...</td>\n",
              "    </tr>\n",
              "    <tr>\n",
              "      <th>4866</th>\n",
              "      <td>4943</td>\n",
              "      <td>what is the airfare for flights from denver to...</td>\n",
              "    </tr>\n",
              "    <tr>\n",
              "      <th>4867</th>\n",
              "      <td>4944</td>\n",
              "      <td>do you have any flights from denver to baltimo...</td>\n",
              "    </tr>\n",
              "    <tr>\n",
              "      <th>4868</th>\n",
              "      <td>4945</td>\n",
              "      <td>which airlines fly into and out of denver</td>\n",
              "    </tr>\n",
              "    <tr>\n",
              "      <th>4869</th>\n",
              "      <td>4946</td>\n",
              "      <td>does continental fly from boston to san franci...</td>\n",
              "    </tr>\n",
              "    <tr>\n",
              "      <th>4870</th>\n",
              "      <td>4947</td>\n",
              "      <td>is there delta flight from denver to san franc...</td>\n",
              "    </tr>\n",
              "  </tbody>\n",
              "</table>\n",
              "<p>4871 rows × 2 columns</p>\n",
              "</div>\n",
              "      <button class=\"colab-df-convert\" onclick=\"convertToInteractive('df-c7585128-83aa-4697-8c0d-0ff92ce6b696')\"\n",
              "              title=\"Convert this dataframe to an interactive table.\"\n",
              "              style=\"display:none;\">\n",
              "        \n",
              "  <svg xmlns=\"http://www.w3.org/2000/svg\" height=\"24px\"viewBox=\"0 0 24 24\"\n",
              "       width=\"24px\">\n",
              "    <path d=\"M0 0h24v24H0V0z\" fill=\"none\"/>\n",
              "    <path d=\"M18.56 5.44l.94 2.06.94-2.06 2.06-.94-2.06-.94-.94-2.06-.94 2.06-2.06.94zm-11 1L8.5 8.5l.94-2.06 2.06-.94-2.06-.94L8.5 2.5l-.94 2.06-2.06.94zm10 10l.94 2.06.94-2.06 2.06-.94-2.06-.94-.94-2.06-.94 2.06-2.06.94z\"/><path d=\"M17.41 7.96l-1.37-1.37c-.4-.4-.92-.59-1.43-.59-.52 0-1.04.2-1.43.59L10.3 9.45l-7.72 7.72c-.78.78-.78 2.05 0 2.83L4 21.41c.39.39.9.59 1.41.59.51 0 1.02-.2 1.41-.59l7.78-7.78 2.81-2.81c.8-.78.8-2.07 0-2.86zM5.41 20L4 18.59l7.72-7.72 1.47 1.35L5.41 20z\"/>\n",
              "  </svg>\n",
              "      </button>\n",
              "      \n",
              "  <style>\n",
              "    .colab-df-container {\n",
              "      display:flex;\n",
              "      flex-wrap:wrap;\n",
              "      gap: 12px;\n",
              "    }\n",
              "\n",
              "    .colab-df-convert {\n",
              "      background-color: #E8F0FE;\n",
              "      border: none;\n",
              "      border-radius: 50%;\n",
              "      cursor: pointer;\n",
              "      display: none;\n",
              "      fill: #1967D2;\n",
              "      height: 32px;\n",
              "      padding: 0 0 0 0;\n",
              "      width: 32px;\n",
              "    }\n",
              "\n",
              "    .colab-df-convert:hover {\n",
              "      background-color: #E2EBFA;\n",
              "      box-shadow: 0px 1px 2px rgba(60, 64, 67, 0.3), 0px 1px 3px 1px rgba(60, 64, 67, 0.15);\n",
              "      fill: #174EA6;\n",
              "    }\n",
              "\n",
              "    [theme=dark] .colab-df-convert {\n",
              "      background-color: #3B4455;\n",
              "      fill: #D2E3FC;\n",
              "    }\n",
              "\n",
              "    [theme=dark] .colab-df-convert:hover {\n",
              "      background-color: #434B5C;\n",
              "      box-shadow: 0px 1px 3px 1px rgba(0, 0, 0, 0.15);\n",
              "      filter: drop-shadow(0px 1px 2px rgba(0, 0, 0, 0.3));\n",
              "      fill: #FFFFFF;\n",
              "    }\n",
              "  </style>\n",
              "\n",
              "      <script>\n",
              "        const buttonEl =\n",
              "          document.querySelector('#df-c7585128-83aa-4697-8c0d-0ff92ce6b696 button.colab-df-convert');\n",
              "        buttonEl.style.display =\n",
              "          google.colab.kernel.accessAllowed ? 'block' : 'none';\n",
              "\n",
              "        async function convertToInteractive(key) {\n",
              "          const element = document.querySelector('#df-c7585128-83aa-4697-8c0d-0ff92ce6b696');\n",
              "          const dataTable =\n",
              "            await google.colab.kernel.invokeFunction('convertToInteractive',\n",
              "                                                     [key], {});\n",
              "          if (!dataTable) return;\n",
              "\n",
              "          const docLinkHtml = 'Like what you see? Visit the ' +\n",
              "            '<a target=\"_blank\" href=https://colab.research.google.com/notebooks/data_table.ipynb>data table notebook</a>'\n",
              "            + ' to learn more about interactive tables.';\n",
              "          element.innerHTML = '';\n",
              "          dataTable['output_type'] = 'display_data';\n",
              "          await google.colab.output.renderOutput(dataTable, element);\n",
              "          const docLink = document.createElement('div');\n",
              "          docLink.innerHTML = docLinkHtml;\n",
              "          element.appendChild(docLink);\n",
              "        }\n",
              "      </script>\n",
              "    </div>\n",
              "  </div>\n",
              "  "
            ]
          },
          "metadata": {},
          "execution_count": 15
        }
      ]
    },
    {
      "cell_type": "code",
      "source": [
        "y_filtered = y[corpus_df['index']]"
      ],
      "metadata": {
        "id": "od6DxRRZJUMf"
      },
      "execution_count": 16,
      "outputs": []
    },
    {
      "cell_type": "code",
      "source": [
        "y_filtered"
      ],
      "metadata": {
        "colab": {
          "base_uri": "https://localhost:8080/"
        },
        "id": "KplRPbffzF2Q",
        "outputId": "5310ab7c-ad25-40e9-8f6b-30927ce7f18e"
      },
      "execution_count": 17,
      "outputs": [
        {
          "output_type": "execute_result",
          "data": {
            "text/plain": [
              "0            atis_flight\n",
              "1            atis_flight\n",
              "2       atis_flight_time\n",
              "3           atis_airfare\n",
              "4           atis_airfare\n",
              "              ...       \n",
              "4943        atis_airfare\n",
              "4944         atis_flight\n",
              "4945        atis_airline\n",
              "4946         atis_flight\n",
              "4947         atis_flight\n",
              "Name: intent, Length: 4871, dtype: object"
            ]
          },
          "metadata": {},
          "execution_count": 17
        }
      ]
    },
    {
      "cell_type": "code",
      "source": [
        "y_factorized, level_intents = pd.factorize(y_filtered)"
      ],
      "metadata": {
        "id": "f3gVQNJSzDPT"
      },
      "execution_count": 18,
      "outputs": []
    },
    {
      "cell_type": "code",
      "source": [
        "corpus = [preprocess_text(sentence, should_join=False) for ix, sentence in corpus_with_ix]"
      ],
      "metadata": {
        "id": "bWV2wVBxJuaZ"
      },
      "execution_count": 19,
      "outputs": []
    },
    {
      "cell_type": "code",
      "source": [
        "def get_maximum_review_length(tokenized_corpus):\n",
        "    maximum = 0\n",
        "    for sentence in tokenized_corpus:\n",
        "        candidate = len(sentence)\n",
        "        if candidate > maximum:\n",
        "            maximum = candidate\n",
        "    return maximum\n",
        "max_review_length = get_maximum_review_length(corpus)"
      ],
      "metadata": {
        "id": "fAQ1wVIScTYK"
      },
      "execution_count": 20,
      "outputs": []
    },
    {
      "cell_type": "code",
      "source": [
        "len(corpus_df), len(corpus)"
      ],
      "metadata": {
        "colab": {
          "base_uri": "https://localhost:8080/"
        },
        "id": "288EV_ONUa_g",
        "outputId": "1371ca0c-ffa3-4251-9000-5df1bdb8b152"
      },
      "execution_count": 21,
      "outputs": [
        {
          "output_type": "execute_result",
          "data": {
            "text/plain": [
              "(4871, 4871)"
            ]
          },
          "metadata": {},
          "execution_count": 21
        }
      ]
    },
    {
      "cell_type": "code",
      "source": [
        "tokenizer = Tokenizer()\n",
        "tokenizer.fit_on_texts(corpus)\n",
        "tokenized_corpus = tokenizer.texts_to_sequences(corpus)\n",
        "nb_samples = sum(len(s) for s in corpus)\n",
        "vocab_size = len(tokenizer.word_index) + 1"
      ],
      "metadata": {
        "id": "Cm5M72SymSYd"
      },
      "execution_count": 22,
      "outputs": []
    },
    {
      "cell_type": "code",
      "source": [
        "final_X = np.zeros((len(tokenized_corpus), max_review_length))\n",
        "for ix, tokenized_sentence in enumerate(tokenized_corpus):\n",
        "    tokenized_sentence.extend([0]*(max_review_length-len(tokenized_sentence)))\n",
        "    final_X[ix] = tokenized_sentence"
      ],
      "metadata": {
        "id": "odthjkKXmTWI"
      },
      "execution_count": 23,
      "outputs": []
    },
    {
      "cell_type": "markdown",
      "source": [
        "## Creating the embedding matrix"
      ],
      "metadata": {
        "id": "NnzCLuSZ07Qg"
      }
    },
    {
      "cell_type": "markdown",
      "source": [
        "This is the different part, we will construct an embedding matrix that maps each word in the tokenizer (via the ID it gets in the dataset) to the GloVe 100 dimensional representation of that word. This will be the input to the Embedding layer."
      ],
      "metadata": {
        "id": "UUAv_aDdr7VD"
      }
    },
    {
      "cell_type": "code",
      "source": [
        "path_to_glove_file = \"./glove.6B.100d.txt\"\n",
        "embeddings_index = {}\n",
        "with open(path_to_glove_file) as f:\n",
        "    for line in f:\n",
        "        word, coefs = line.split(maxsplit=1)\n",
        "        coefs = np.fromstring(coefs, \"f\", sep=\" \")\n",
        "        embeddings_index[word] = coefs\n",
        "\n",
        "print(\"Found %s word vectors.\" % len(embeddings_index))"
      ],
      "metadata": {
        "colab": {
          "base_uri": "https://localhost:8080/"
        },
        "id": "VWvoLMT_mONi",
        "outputId": "86811a8c-c6a5-4c3d-f528-001355ae9839"
      },
      "execution_count": 24,
      "outputs": [
        {
          "output_type": "stream",
          "name": "stdout",
          "text": [
            "Found 400001 word vectors.\n"
          ]
        }
      ]
    },
    {
      "cell_type": "code",
      "source": [
        "embedding_dim = 100\n",
        "num_tokens = vocab_size + 1\n",
        "hits = 0\n",
        "misses = 0\n",
        "\n",
        "# Prepare embedding matrix\n",
        "embedding_matrix = np.zeros((num_tokens, embedding_dim))\n",
        "for word, i in tokenizer.word_index.items():\n",
        "    embedding_vector = embeddings_index.get(word)\n",
        "    if embedding_vector is not None:\n",
        "        # Words not found in embedding index will be all-zeros.\n",
        "        # This includes the representation for \"padding\" and \"OOV\"\n",
        "        embedding_matrix[i] = embedding_vector\n",
        "        hits += 1\n",
        "    else:\n",
        "        misses += 1\n",
        "print(\"Converted %d words (%d misses)\" % (hits, misses))"
      ],
      "metadata": {
        "colab": {
          "base_uri": "https://localhost:8080/"
        },
        "id": "y_cy91zwmOQH",
        "outputId": "85080ae6-4814-49a3-8262-b7f29275a560"
      },
      "execution_count": 25,
      "outputs": [
        {
          "output_type": "stream",
          "name": "stdout",
          "text": [
            "Converted 698 words (1 misses)\n"
          ]
        }
      ]
    },
    {
      "cell_type": "markdown",
      "source": [
        "## Doing the train_test split and defining model"
      ],
      "metadata": {
        "id": "quWimVZjbemw"
      }
    },
    {
      "cell_type": "code",
      "source": [
        "final_X.shape, y_factorized.shape"
      ],
      "metadata": {
        "id": "dk3W2cP-WWUM",
        "colab": {
          "base_uri": "https://localhost:8080/"
        },
        "outputId": "7bdf6ba4-759d-4c8f-8ee3-a3cbf1551310"
      },
      "execution_count": 26,
      "outputs": [
        {
          "output_type": "execute_result",
          "data": {
            "text/plain": [
              "((4871, 43), (4871,))"
            ]
          },
          "metadata": {},
          "execution_count": 26
        }
      ]
    },
    {
      "cell_type": "code",
      "source": [
        "from sklearn.model_selection import train_test_split\n",
        "X_train, X_test, y_train, y_test = train_test_split(final_X, y_factorized, test_size = 0.3, random_state=42)"
      ],
      "metadata": {
        "id": "gPK5YmDMTbby"
      },
      "execution_count": 27,
      "outputs": []
    },
    {
      "cell_type": "code",
      "source": [
        "X_train_tensor = tf.constant(X_train)\n",
        "X_test_tensor = tf.constant(X_test)\n",
        "y_train_tensor = tf.one_hot(tf.constant(y_train), len(level_intents))\n",
        "y_test_tensor = tf.one_hot(tf.constant(y_test), len(level_intents))"
      ],
      "metadata": {
        "id": "SwdtffgTVRM0"
      },
      "execution_count": 28,
      "outputs": []
    },
    {
      "cell_type": "code",
      "source": [
        "X_train_tensor.shape, X_test_tensor.shape, y_train_tensor.shape, y_test_tensor.shape"
      ],
      "metadata": {
        "id": "zzQA9t3JdlGO",
        "colab": {
          "base_uri": "https://localhost:8080/"
        },
        "outputId": "68869c80-44cd-4c98-ca88-effe70078a63"
      },
      "execution_count": 29,
      "outputs": [
        {
          "output_type": "execute_result",
          "data": {
            "text/plain": [
              "(TensorShape([3409, 43]),\n",
              " TensorShape([1462, 43]),\n",
              " TensorShape([3409, 14]),\n",
              " TensorShape([1462, 14]))"
            ]
          },
          "metadata": {},
          "execution_count": 29
        }
      ]
    },
    {
      "cell_type": "markdown",
      "source": [
        "Now we have the key step, we will set the first layer as the Embedding layer that will have the embedding matrix as the weights. With that we will be able to map each word index to the word representation. In a technique called \"Fine tuning\" one can set these weights as trainable and train them, but now we will leave the fixed. It will be a translator into a better way to represent each word."
      ],
      "metadata": {
        "id": "6ZRw6Ttrsp53"
      }
    },
    {
      "cell_type": "code",
      "source": [
        "model = Sequential()\n",
        "model.add(Embedding(input_dim=embedding_matrix.shape[0], output_dim=embedding_matrix.shape[1], input_length=max_review_length, embeddings_initializer=Constant(embedding_matrix), trainable=False))\n",
        "model.add(Dense(100, activation=leaky_relu))\n",
        "model.add(Dense(50, activation=leaky_relu))\n",
        "model.add(Lambda(lambda x: K.mean(x, axis=1), output_shape=(embedding_dim,)))\n",
        "model.add(Dense(50, activation=leaky_relu))\n",
        "model.add(Dense(len(level_intents), activation='softmax'))"
      ],
      "metadata": {
        "id": "9ySCH6VsVNTa"
      },
      "execution_count": 30,
      "outputs": []
    },
    {
      "cell_type": "code",
      "source": [
        "model.compile(optimizer='adam', loss=tf.keras.losses.CategoricalCrossentropy(), metrics=[\"accuracy\", tf.keras.metrics.Precision(name='precision'), tf.keras.metrics.Recall(name='recall')])\n",
        "model.summary()"
      ],
      "metadata": {
        "id": "MDd6hnQhVnOR",
        "colab": {
          "base_uri": "https://localhost:8080/"
        },
        "outputId": "f4a61229-1608-4c62-b2cf-ad096c62120e"
      },
      "execution_count": 31,
      "outputs": [
        {
          "output_type": "stream",
          "name": "stdout",
          "text": [
            "Model: \"sequential\"\n",
            "_________________________________________________________________\n",
            " Layer (type)                Output Shape              Param #   \n",
            "=================================================================\n",
            " embedding (Embedding)       (None, 43, 100)           70100     \n",
            "                                                                 \n",
            " dense (Dense)               (None, 43, 100)           10100     \n",
            "                                                                 \n",
            " dense_1 (Dense)             (None, 43, 50)            5050      \n",
            "                                                                 \n",
            " lambda (Lambda)             (None, 50)                0         \n",
            "                                                                 \n",
            " dense_2 (Dense)             (None, 50)                2550      \n",
            "                                                                 \n",
            " dense_3 (Dense)             (None, 14)                714       \n",
            "                                                                 \n",
            "=================================================================\n",
            "Total params: 88,514\n",
            "Trainable params: 18,414\n",
            "Non-trainable params: 70,100\n",
            "_________________________________________________________________\n"
          ]
        }
      ]
    },
    {
      "cell_type": "markdown",
      "source": [
        "Notice the non-trainable parameters"
      ],
      "metadata": {
        "id": "L5qOpTaAtK7V"
      }
    },
    {
      "cell_type": "code",
      "source": [
        "callback = tf.keras.callbacks.EarlyStopping(monitor='val_precision', patience=10, min_delta=0.01, mode=\"max\")\n",
        "history = model.fit(X_train_tensor, y_train_tensor, epochs = 30, validation_split=0.2, workers = 5, callbacks=[callback])"
      ],
      "metadata": {
        "id": "UcAZECDkf-2B",
        "colab": {
          "base_uri": "https://localhost:8080/"
        },
        "outputId": "651613a5-9891-43a6-f6a4-78bffd6cfef5"
      },
      "execution_count": 32,
      "outputs": [
        {
          "output_type": "stream",
          "name": "stdout",
          "text": [
            "Epoch 1/30\n",
            "86/86 [==============================] - 5s 11ms/step - loss: 1.3321 - accuracy: 0.7147 - precision: 0.7810 - recall: 0.5453 - val_loss: 0.9925 - val_accuracy: 0.7669 - val_precision: 0.8038 - val_recall: 0.7390\n",
            "Epoch 2/30\n",
            "86/86 [==============================] - 1s 6ms/step - loss: 0.9355 - accuracy: 0.7422 - precision: 0.8170 - recall: 0.7286 - val_loss: 0.7992 - val_accuracy: 0.7771 - val_precision: 0.8847 - val_recall: 0.7199\n",
            "Epoch 3/30\n",
            "86/86 [==============================] - 1s 6ms/step - loss: 0.7685 - accuracy: 0.7789 - precision: 0.8821 - recall: 0.7272 - val_loss: 0.6655 - val_accuracy: 0.8255 - val_precision: 0.9074 - val_recall: 0.7757\n",
            "Epoch 4/30\n",
            "86/86 [==============================] - 1s 6ms/step - loss: 0.6353 - accuracy: 0.8442 - precision: 0.9107 - recall: 0.7701 - val_loss: 0.5481 - val_accuracy: 0.8651 - val_precision: 0.9192 - val_recall: 0.8006\n",
            "Epoch 5/30\n",
            "86/86 [==============================] - 1s 7ms/step - loss: 0.5262 - accuracy: 0.8643 - precision: 0.9203 - recall: 0.8126 - val_loss: 0.5405 - val_accuracy: 0.8534 - val_precision: 0.9110 - val_recall: 0.8109\n",
            "Epoch 6/30\n",
            "86/86 [==============================] - 1s 7ms/step - loss: 0.4587 - accuracy: 0.8783 - precision: 0.9259 - recall: 0.8434 - val_loss: 0.4500 - val_accuracy: 0.8666 - val_precision: 0.9165 - val_recall: 0.8372\n",
            "Epoch 7/30\n",
            "86/86 [==============================] - 1s 7ms/step - loss: 0.4083 - accuracy: 0.8889 - precision: 0.9284 - recall: 0.8559 - val_loss: 0.4096 - val_accuracy: 0.8754 - val_precision: 0.9179 - val_recall: 0.8519\n",
            "Epoch 8/30\n",
            "86/86 [==============================] - 1s 6ms/step - loss: 0.3847 - accuracy: 0.8951 - precision: 0.9301 - recall: 0.8643 - val_loss: 0.3937 - val_accuracy: 0.8886 - val_precision: 0.9241 - val_recall: 0.8563\n",
            "Epoch 9/30\n",
            "86/86 [==============================] - 1s 6ms/step - loss: 0.3503 - accuracy: 0.9036 - precision: 0.9330 - recall: 0.8687 - val_loss: 0.3473 - val_accuracy: 0.8974 - val_precision: 0.9266 - val_recall: 0.8695\n",
            "Epoch 10/30\n",
            "86/86 [==============================] - 1s 7ms/step - loss: 0.3205 - accuracy: 0.9135 - precision: 0.9396 - recall: 0.8849 - val_loss: 0.3216 - val_accuracy: 0.8988 - val_precision: 0.9346 - val_recall: 0.8798\n",
            "Epoch 11/30\n",
            "86/86 [==============================] - 1s 6ms/step - loss: 0.2923 - accuracy: 0.9149 - precision: 0.9403 - recall: 0.8893 - val_loss: 0.3053 - val_accuracy: 0.9106 - val_precision: 0.9348 - val_recall: 0.8827\n",
            "Epoch 12/30\n",
            "86/86 [==============================] - 1s 7ms/step - loss: 0.2793 - accuracy: 0.9197 - precision: 0.9435 - recall: 0.9006 - val_loss: 0.2894 - val_accuracy: 0.9150 - val_precision: 0.9309 - val_recall: 0.8886\n",
            "Epoch 13/30\n",
            "86/86 [==============================] - 1s 6ms/step - loss: 0.2622 - accuracy: 0.9237 - precision: 0.9430 - recall: 0.9043 - val_loss: 0.2848 - val_accuracy: 0.9164 - val_precision: 0.9354 - val_recall: 0.8915\n",
            "Epoch 14/30\n",
            "86/86 [==============================] - 1s 7ms/step - loss: 0.2544 - accuracy: 0.9259 - precision: 0.9458 - recall: 0.9094 - val_loss: 0.2784 - val_accuracy: 0.9326 - val_precision: 0.9399 - val_recall: 0.9179\n",
            "Epoch 15/30\n",
            "86/86 [==============================] - 1s 6ms/step - loss: 0.2406 - accuracy: 0.9300 - precision: 0.9480 - recall: 0.9164 - val_loss: 0.2545 - val_accuracy: 0.9238 - val_precision: 0.9381 - val_recall: 0.9106\n",
            "Epoch 16/30\n",
            "86/86 [==============================] - 1s 6ms/step - loss: 0.2201 - accuracy: 0.9380 - precision: 0.9504 - recall: 0.9212 - val_loss: 0.2408 - val_accuracy: 0.9267 - val_precision: 0.9426 - val_recall: 0.9150\n",
            "Epoch 17/30\n",
            "86/86 [==============================] - 1s 6ms/step - loss: 0.2179 - accuracy: 0.9307 - precision: 0.9469 - recall: 0.9157 - val_loss: 0.2447 - val_accuracy: 0.9340 - val_precision: 0.9497 - val_recall: 0.9135\n",
            "Epoch 18/30\n",
            "86/86 [==============================] - 1s 7ms/step - loss: 0.1995 - accuracy: 0.9395 - precision: 0.9553 - recall: 0.9248 - val_loss: 0.2227 - val_accuracy: 0.9340 - val_precision: 0.9458 - val_recall: 0.9208\n",
            "Epoch 19/30\n",
            "86/86 [==============================] - 1s 7ms/step - loss: 0.1952 - accuracy: 0.9358 - precision: 0.9524 - recall: 0.9245 - val_loss: 0.2708 - val_accuracy: 0.9208 - val_precision: 0.9365 - val_recall: 0.9076\n",
            "Epoch 20/30\n",
            "86/86 [==============================] - 1s 6ms/step - loss: 0.1857 - accuracy: 0.9399 - precision: 0.9566 - recall: 0.9289 - val_loss: 0.2261 - val_accuracy: 0.9399 - val_precision: 0.9463 - val_recall: 0.9311\n",
            "Epoch 21/30\n",
            "86/86 [==============================] - 1s 6ms/step - loss: 0.1799 - accuracy: 0.9413 - precision: 0.9551 - recall: 0.9292 - val_loss: 0.2144 - val_accuracy: 0.9399 - val_precision: 0.9617 - val_recall: 0.9194\n",
            "Epoch 22/30\n",
            "86/86 [==============================] - 1s 7ms/step - loss: 0.1673 - accuracy: 0.9483 - precision: 0.9582 - recall: 0.9333 - val_loss: 0.2270 - val_accuracy: 0.9326 - val_precision: 0.9429 - val_recall: 0.9194\n",
            "Epoch 23/30\n",
            "86/86 [==============================] - 1s 7ms/step - loss: 0.1586 - accuracy: 0.9479 - precision: 0.9634 - recall: 0.9373 - val_loss: 0.2017 - val_accuracy: 0.9370 - val_precision: 0.9492 - val_recall: 0.9311\n",
            "Epoch 24/30\n",
            "86/86 [==============================] - 1s 6ms/step - loss: 0.1527 - accuracy: 0.9549 - precision: 0.9658 - recall: 0.9410 - val_loss: 0.1964 - val_accuracy: 0.9472 - val_precision: 0.9562 - val_recall: 0.9282\n",
            "Epoch 25/30\n",
            "86/86 [==============================] - 1s 7ms/step - loss: 0.1446 - accuracy: 0.9560 - precision: 0.9677 - recall: 0.9435 - val_loss: 0.1951 - val_accuracy: 0.9340 - val_precision: 0.9475 - val_recall: 0.9267\n",
            "Epoch 26/30\n",
            "86/86 [==============================] - 1s 7ms/step - loss: 0.1377 - accuracy: 0.9505 - precision: 0.9632 - recall: 0.9413 - val_loss: 0.1988 - val_accuracy: 0.9457 - val_precision: 0.9608 - val_recall: 0.9355\n",
            "Epoch 27/30\n",
            "86/86 [==============================] - 1s 6ms/step - loss: 0.1322 - accuracy: 0.9556 - precision: 0.9680 - recall: 0.9428 - val_loss: 0.2049 - val_accuracy: 0.9340 - val_precision: 0.9461 - val_recall: 0.9267\n",
            "Epoch 28/30\n",
            "86/86 [==============================] - 1s 6ms/step - loss: 0.1313 - accuracy: 0.9560 - precision: 0.9652 - recall: 0.9457 - val_loss: 0.1852 - val_accuracy: 0.9384 - val_precision: 0.9480 - val_recall: 0.9355\n",
            "Epoch 29/30\n",
            "86/86 [==============================] - 1s 7ms/step - loss: 0.1230 - accuracy: 0.9597 - precision: 0.9701 - recall: 0.9512 - val_loss: 0.1811 - val_accuracy: 0.9457 - val_precision: 0.9552 - val_recall: 0.9384\n",
            "Epoch 30/30\n",
            "86/86 [==============================] - 1s 7ms/step - loss: 0.1159 - accuracy: 0.9659 - precision: 0.9741 - recall: 0.9531 - val_loss: 0.1844 - val_accuracy: 0.9443 - val_precision: 0.9609 - val_recall: 0.9370\n"
          ]
        }
      ]
    },
    {
      "cell_type": "markdown",
      "source": [
        "## Some plots"
      ],
      "metadata": {
        "id": "ROXVUovhYRWG"
      }
    },
    {
      "cell_type": "code",
      "source": [
        "import matplotlib.pyplot as plt\n",
        "# function for plotting loss\n",
        "def plot_metrics(train_metric, val_metric=None, metric_name=None, title=None, ylim=5):\n",
        "    plt.title(title)\n",
        "    plt.ylim(0,ylim)\n",
        "    plt.plot(train_metric,color='blue',label=metric_name)\n",
        "    if val_metric is not None: plt.plot(val_metric,color='green',label='val_' + metric_name)\n",
        "    plt.legend(loc=\"upper right\")\n",
        "\n",
        "# plot loss history\n",
        "plot_metrics(history.history['loss'], history.history['val_loss'], \"Loss\", \"Loss\", ylim=1.0)\n"
      ],
      "metadata": {
        "id": "gtIQvnUcg2T2",
        "colab": {
          "base_uri": "https://localhost:8080/",
          "height": 281
        },
        "outputId": "2c867afb-5728-4f2a-8e63-2dd62206fbb2"
      },
      "execution_count": 33,
      "outputs": [
        {
          "output_type": "display_data",
          "data": {
            "text/plain": [
              "<Figure size 432x288 with 1 Axes>"
            ],
            "image/png": "[encoded data removed]"
          },
          "metadata": {
            "needs_background": "light"
          }
        }
      ]
    },
    {
      "cell_type": "code",
      "source": [
        "plot_metrics(history.history['accuracy'], history.history['val_accuracy'], \"Accuracy\", \"Accuracy\", ylim=1.0)\n"
      ],
      "metadata": {
        "id": "q6pBSQSPg2V6",
        "colab": {
          "base_uri": "https://localhost:8080/",
          "height": 281
        },
        "outputId": "6828c6ba-005d-4c51-da06-d0587229b894"
      },
      "execution_count": 34,
      "outputs": [
        {
          "output_type": "display_data",
          "data": {
            "text/plain": [
              "<Figure size 432x288 with 1 Axes>"
            ],
            "image/png": "[encoded data removed]"
          },
          "metadata": {
            "needs_background": "light"
          }
        }
      ]
    },
    {
      "cell_type": "code",
      "source": [],
      "metadata": {
        "id": "RPe1ekWlg2Yi"
      },
      "execution_count": 34,
      "outputs": []
    },
    {
      "cell_type": "code",
      "source": [],
      "metadata": {
        "id": "TV0VeAxSg2a3"
      },
      "execution_count": 34,
      "outputs": []
    },
    {
      "cell_type": "markdown",
      "source": [
        "# Some manual validation"
      ],
      "metadata": {
        "id": "tNqRJ0wCbXMv"
      }
    },
    {
      "cell_type": "code",
      "source": [
        "level_intents"
      ],
      "metadata": {
        "colab": {
          "base_uri": "https://localhost:8080/"
        },
        "id": "gy6fQExA2T1L",
        "outputId": "fd7b7e3a-1af0-42bc-f107-135b48ec2d9d"
      },
      "execution_count": 35,
      "outputs": [
        {
          "output_type": "execute_result",
          "data": {
            "text/plain": [
              "Index(['atis_flight', 'atis_flight_time', 'atis_airfare', 'atis_aircraft',\n",
              "       'atis_ground_service', 'atis_airport', 'atis_airline', 'atis_distance',\n",
              "       'atis_abbreviation', 'atis_ground_fare', 'atis_quantity', 'atis_city',\n",
              "       'atis_capacity', 'atis_flight#atis_airfare'],\n",
              "      dtype='object')"
            ]
          },
          "metadata": {},
          "execution_count": 35
        }
      ]
    },
    {
      "cell_type": "code",
      "source": [
        "\n",
        "x_val = np.zeros((4, max_review_length))\n",
        "queries = ['Which hour is the next flight', 'how many flights leave in the morning', 'i want to flight to new york at the morning', 'which flight fliies with an airbus A350']\n",
        "for ix, tokenized_sentence in enumerate(tokenizer.texts_to_sequences([preprocess_text(sentence, should_join=True) for sentence in queries])):\n",
        "    tokenized_sentence.extend([0]*(max_review_length-len(tokenized_sentence)))\n",
        "    x_val[ix] = tokenized_sentence\n",
        "y_val = tf.one_hot(tf.constant([1, 11, 0, 3 ]), 14)"
      ],
      "metadata": {
        "id": "eF2Trj0ul1a5"
      },
      "execution_count": 36,
      "outputs": []
    },
    {
      "cell_type": "code",
      "source": [
        "x_val"
      ],
      "metadata": {
        "colab": {
          "base_uri": "https://localhost:8080/"
        },
        "id": "7YTph1DKqQ3r",
        "outputId": "d2b64dec-f37e-4a22-fbff-0df866f08958"
      },
      "execution_count": 37,
      "outputs": [
        {
          "output_type": "execute_result",
          "data": {
            "text/plain": [
              "array([[ 62.,  19.,   4., 111.,   8.,   0.,   0.,   0.,   0.,   0.,   0.,\n",
              "          0.,   0.,   0.,   0.,   0.,   0.,   0.,   0.,   0.,   0.,   0.,\n",
              "          0.,   0.,   0.,   0.,   0.,   0.,   0.,   0.,   0.,   0.,   0.,\n",
              "          0.,   0.,   0.,   0.,   0.,   0.,   0.,   0.,   0.,   0.],\n",
              "       [ 78., 141.,   3.,  69.,  14.,   4.,  33.,   0.,   0.,   0.,   0.,\n",
              "          0.,   0.,   0.,   0.,   0.,   0.,   0.,   0.,   0.,   0.,   0.,\n",
              "          0.,   0.,   0.,   0.,   0.,   0.,   0.,   0.,   0.,   0.,   0.,\n",
              "          0.,   0.,   0.,   0.,   0.,   0.,   0.,   0.,   0.,   0.],\n",
              "       [ 67.,   1.,   8.,   1.,  66.,  70.,  65.,   4.,  33.,   0.,   0.,\n",
              "          0.,   0.,   0.,   0.,   0.,   0.,   0.,   0.,   0.,   0.,   0.,\n",
              "          0.,   0.,   0.,   0.,   0.,   0.,   0.,   0.,   0.,   0.,   0.,\n",
              "          0.,   0.,   0.,   0.,   0.,   0.,   0.,   0.,   0.,   0.],\n",
              "       [ 62.,   8.,  56., 140.,   0.,   0.,   0.,   0.,   0.,   0.,   0.,\n",
              "          0.,   0.,   0.,   0.,   0.,   0.,   0.,   0.,   0.,   0.,   0.,\n",
              "          0.,   0.,   0.,   0.,   0.,   0.,   0.,   0.,   0.,   0.,   0.,\n",
              "          0.,   0.,   0.,   0.,   0.,   0.,   0.,   0.,   0.,   0.]])"
            ]
          },
          "metadata": {},
          "execution_count": 37
        }
      ]
    },
    {
      "cell_type": "code",
      "source": [
        "model.predict(x_val)"
      ],
      "metadata": {
        "colab": {
          "base_uri": "https://localhost:8080/"
        },
        "id": "odJ47XJ8SmtC",
        "outputId": "4106c6ea-83ad-459d-b7d8-0ae3f69a633b"
      },
      "execution_count": 38,
      "outputs": [
        {
          "output_type": "stream",
          "name": "stdout",
          "text": [
            "1/1 [==============================] - 0s 138ms/step\n"
          ]
        },
        {
          "output_type": "execute_result",
          "data": {
            "text/plain": [
              "array([[9.86521482e-01, 4.71340586e-03, 1.47235151e-05, 1.58499941e-04,\n",
              "        7.75536682e-06, 3.43152601e-03, 2.57430831e-03, 1.79164999e-04,\n",
              "        5.46680385e-05, 1.21683149e-06, 8.48413038e-04, 1.44640962e-03,\n",
              "        2.85174647e-05, 1.99985207e-05],\n",
              "       [5.72829917e-02, 1.70487724e-02, 1.71776352e-04, 2.01453292e-03,\n",
              "        2.48812313e-07, 2.45796720e-04, 2.28390330e-03, 1.28616870e-04,\n",
              "        2.59732082e-03, 1.04622077e-05, 8.91805887e-01, 4.08518314e-03,\n",
              "        2.15913262e-02, 7.33031542e-04],\n",
              "       [9.99473751e-01, 2.12509898e-04, 1.20232744e-06, 4.81439884e-06,\n",
              "        5.19711648e-07, 1.59407427e-04, 9.57308293e-05, 1.34962775e-05,\n",
              "        2.40568028e-07, 3.11211750e-08, 2.93029643e-06, 3.48852373e-05,\n",
              "        8.03968945e-08, 4.91646460e-07],\n",
              "       [9.71531034e-01, 5.92105498e-04, 1.45136846e-06, 3.72835057e-04,\n",
              "        7.45141588e-05, 1.02305831e-02, 1.01323063e-02, 1.48429259e-04,\n",
              "        3.61838829e-06, 1.72242869e-06, 3.07029200e-04, 6.55618357e-03,\n",
              "        4.48132269e-05, 3.39378062e-06]], dtype=float32)"
            ]
          },
          "metadata": {},
          "execution_count": 38
        }
      ]
    },
    {
      "cell_type": "code",
      "source": [
        "tf.math.argmax(model.predict(x_val), axis=1) == tf.math.argmax(y_val, axis=1)"
      ],
      "metadata": {
        "colab": {
          "base_uri": "https://localhost:8080/"
        },
        "id": "68dQDWkpSnIr",
        "outputId": "5f909f31-f6b7-45f6-da62-2e9cd0adec11"
      },
      "execution_count": 39,
      "outputs": [
        {
          "output_type": "stream",
          "name": "stdout",
          "text": [
            "1/1 [==============================] - 0s 18ms/step\n"
          ]
        },
        {
          "output_type": "execute_result",
          "data": {
            "text/plain": [
              "<tf.Tensor: shape=(4,), dtype=bool, numpy=array([False, False,  True, False])>"
            ]
          },
          "metadata": {},
          "execution_count": 39
        }
      ]
    },
    {
      "cell_type": "code",
      "source": [
        "tf.math.argmax(y_val, axis=1)"
      ],
      "metadata": {
        "colab": {
          "base_uri": "https://localhost:8080/"
        },
        "id": "xEMXekdP2t14",
        "outputId": "ed64f37e-31ed-45a6-8f2d-c7cf2302cf91"
      },
      "execution_count": 40,
      "outputs": [
        {
          "output_type": "execute_result",
          "data": {
            "text/plain": [
              "<tf.Tensor: shape=(4,), dtype=int64, numpy=array([ 1, 11,  0,  3])>"
            ]
          },
          "metadata": {},
          "execution_count": 40
        }
      ]
    },
    {
      "cell_type": "code",
      "source": [
        "model.evaluate(X_test_tensor, y_test_tensor)"
      ],
      "metadata": {
        "id": "icVOjVFybsU-",
        "colab": {
          "base_uri": "https://localhost:8080/"
        },
        "outputId": "3302d3db-a400-4d45-92a7-eae49a7a9512"
      },
      "execution_count": 41,
      "outputs": [
        {
          "output_type": "stream",
          "name": "stdout",
          "text": [
            "46/46 [==============================] - 0s 5ms/step - loss: 0.1489 - accuracy: 0.9603 - precision: 0.9672 - recall: 0.9494\n"
          ]
        },
        {
          "output_type": "execute_result",
          "data": {
            "text/plain": [
              "[0.1489391028881073,\n",
              " 0.9603283405303955,\n",
              " 0.9672473669052124,\n",
              " 0.9493843913078308]"
            ]
          },
          "metadata": {},
          "execution_count": 41
        }
      ]
    },
    {
      "cell_type": "markdown",
      "source": [
        "Therefore, the model predicted correctly an 86% of observations (16% better than before!) and we predicted all positives correctly."
      ],
      "metadata": {
        "id": "VBSc6m2LcPfk"
      }
    },
    {
      "cell_type": "code",
      "source": [],
      "metadata": {
        "id": "UGUTiuyLmIsg"
      },
      "execution_count": 41,
      "outputs": []
    }
  ]
}