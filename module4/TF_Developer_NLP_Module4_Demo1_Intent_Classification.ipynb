{
  "nbformat": 4,
  "nbformat_minor": 0,
  "metadata": {
    "colab": {
      "provenance": [],
      "collapsed_sections": [
        "TXLqIHnNWYMN"
      ],
      "authorship_tag": "ABX9TyP9t2HlvlBF9+oAqRTKzVWJ",
      "include_colab_link": true
    },
    "kernelspec": {
      "name": "python3",
      "display_name": "Python 3"
    },
    "language_info": {
      "name": "python"
    },
    "gpuClass": "standard"
  },
  "cells": [
    {
      "cell_type": "markdown",
      "metadata": {
        "id": "view-in-github",
        "colab_type": "text"
      },
      "source": [
        "<a href=\"https://colab.research.google.com/github/axel-sirota/tf-dev-nlp/blob/main/module4/TF_Developer_NLP_Module4_Demo1_Intent_Classification.ipynb\" target=\"_parent\"><img src=\"https://colab.research.google.com/assets/colab-badge.svg\" alt=\"Open In Colab\"/></a>"
      ]
    },
    {
      "cell_type": "markdown",
      "source": [
        "# Categorizing intent\n"
      ],
      "metadata": {
        "id": "QlJeKdJfTPMp"
      }
    },
    {
      "cell_type": "markdown",
      "source": [
        "## Setup"
      ],
      "metadata": {
        "id": "0BPO3rsP5nAF"
      }
    },
    {
      "cell_type": "markdown",
      "source": [
        "Let's first import everything and load the dataset"
      ],
      "metadata": {
        "id": "epE01e6NbbMg"
      }
    },
    {
      "cell_type": "code",
      "source": [
        "!pip install textblob 'gensim==4.2.0'"
      ],
      "metadata": {
        "id": "Vny3vC29NVZ8",
        "colab": {
          "base_uri": "https://localhost:8080/"
        },
        "outputId": "6a425a08-1478-40b4-fc31-884529a84da4"
      },
      "execution_count": 1,
      "outputs": [
        {
          "output_type": "stream",
          "name": "stdout",
          "text": [
            "Looking in indexes: https://pypi.org/simple, https://us-python.pkg.dev/colab-wheels/public/simple/\n",
            "Requirement already satisfied: textblob in /usr/local/lib/python3.8/dist-packages (0.15.3)\n",
            "Requirement already satisfied: gensim==4.2.0 in /usr/local/lib/python3.8/dist-packages (4.2.0)\n",
            "Requirement already satisfied: scipy>=0.18.1 in /usr/local/lib/python3.8/dist-packages (from gensim==4.2.0) (1.7.3)\n",
            "Requirement already satisfied: numpy>=1.17.0 in /usr/local/lib/python3.8/dist-packages (from gensim==4.2.0) (1.21.6)\n",
            "Requirement already satisfied: smart-open>=1.8.1 in /usr/local/lib/python3.8/dist-packages (from gensim==4.2.0) (6.3.0)\n",
            "Requirement already satisfied: nltk>=3.1 in /usr/local/lib/python3.8/dist-packages (from textblob) (3.7)\n",
            "Requirement already satisfied: joblib in /usr/local/lib/python3.8/dist-packages (from nltk>=3.1->textblob) (1.2.0)\n",
            "Requirement already satisfied: tqdm in /usr/local/lib/python3.8/dist-packages (from nltk>=3.1->textblob) (4.64.1)\n",
            "Requirement already satisfied: regex>=2021.8.3 in /usr/local/lib/python3.8/dist-packages (from nltk>=3.1->textblob) (2022.6.2)\n",
            "Requirement already satisfied: click in /usr/local/lib/python3.8/dist-packages (from nltk>=3.1->textblob) (7.1.2)\n"
          ]
        }
      ]
    },
    {
      "cell_type": "code",
      "execution_count": 2,
      "metadata": {
        "colab": {
          "base_uri": "https://localhost:8080/"
        },
        "id": "ri00gAaqSzrq",
        "outputId": "81e99a02-2bf6-4848-a8dd-e3f228161b42"
      },
      "outputs": [
        {
          "output_type": "stream",
          "name": "stderr",
          "text": [
            "[nltk_data] Downloading package punkt to /root/nltk_data...\n",
            "[nltk_data]   Package punkt is already up-to-date!\n"
          ]
        }
      ],
      "source": [
        "import multiprocessing\n",
        "import tensorflow as tf\n",
        "import sys\n",
        "import keras.backend as K\n",
        "from keras.models import Sequential\n",
        "from keras.layers import Dense, Embedding, Lambda, Input\n",
        "from keras.utils import np_utils\n",
        "from keras.preprocessing import sequence\n",
        "from keras.preprocessing.text import Tokenizer\n",
        "from textblob import TextBlob, Word\n",
        "from keras_preprocessing.sequence import pad_sequences\n",
        "from keras.initializers import Constant\n",
        "from sklearn.feature_extraction.text import CountVectorizer\n",
        "from tensorflow.nn import leaky_relu\n",
        "import numpy as np\n",
        "import re\n",
        "import random\n",
        "import os\n",
        "import pandas as pd\n",
        "import gensim\n",
        "import warnings\n",
        "import nltk\n",
        "\n",
        "epochs = 100\n",
        "embedding_dim = 100\n",
        "TRACE = False\n",
        "\n",
        "def set_seeds_and_trace():\n",
        "  os.environ['PYTHONHASHSEED'] = '0'\n",
        "  np.random.seed(42)\n",
        "  tf.random.set_seed(42)\n",
        "  random.seed(42)\n",
        "  if TRACE:\n",
        "    tf.debugging.set_log_device_placement(True)\n",
        "\n",
        "def set_session_with_gpus_and_cores():\n",
        "  cores = multiprocessing.cpu_count()\n",
        "  gpus = len(tf.config.list_physical_devices('GPU'))\n",
        "  config = tf.compat.v1.ConfigProto( device_count = {'GPU': gpus  , 'CPU': cores} , intra_op_parallelism_threads=1, inter_op_parallelism_threads=1)\n",
        "  sess = tf.compat.v1.Session(config=config) \n",
        "  K.set_session(sess)\n",
        "\n",
        "set_seeds_and_trace()\n",
        "set_session_with_gpus_and_cores()\n",
        "warnings.filterwarnings('ignore')\n",
        "nltk.download('punkt')\n",
        "textblob_tokenizer = lambda x: TextBlob(x).words"
      ]
    },
    {
      "cell_type": "markdown",
      "source": [
        "Now we will download the dataset and explore it"
      ],
      "metadata": {
        "id": "8L6HlScpFdd9"
      }
    },
    {
      "cell_type": "code",
      "source": [
        "%%writefile get_data.sh\n",
        "if [ ! -f intents.csv ]; then\n",
        "  wget -O intents.csv https://www.dropbox.com/s/smy3os4px8ionkx/atis_intents.csv?dl=0\n",
        "fi\n",
        "\n",
        "if [ ! -f glove.6B.100d.txt ]; then\n",
        "  wget -O glove.6B.100d.txt https://www.dropbox.com/s/dl1vswq2sz5f1ws/glove.6B.100d.txt?dl=0\n",
        "fi"
      ],
      "metadata": {
        "colab": {
          "base_uri": "https://localhost:8080/"
        },
        "id": "aHuUsDMlTXhM",
        "outputId": "807d08b3-3a35-4736-f881-db31afc45445"
      },
      "execution_count": 3,
      "outputs": [
        {
          "output_type": "stream",
          "name": "stdout",
          "text": [
            "Overwriting get_data.sh\n"
          ]
        }
      ]
    },
    {
      "cell_type": "code",
      "source": [
        "!bash get_data.sh\n"
      ],
      "metadata": {
        "id": "Uq4-oO3KTnbQ"
      },
      "execution_count": 4,
      "outputs": []
    },
    {
      "cell_type": "markdown",
      "source": [
        "Let's inspect how this intents csv looks like"
      ],
      "metadata": {
        "id": "9vzvhu6Irw_O"
      }
    },
    {
      "cell_type": "code",
      "source": [
        "! head intents.csv"
      ],
      "metadata": {
        "colab": {
          "base_uri": "https://localhost:8080/"
        },
        "id": "p4IB-iA50ZUc",
        "outputId": "ac6d337f-3519-4e3a-cae5-3bcf5823698a"
      },
      "execution_count": 5,
      "outputs": [
        {
          "output_type": "stream",
          "name": "stdout",
          "text": [
            "atis_flight, i want to fly from boston at 838 am and arrive in denver at 1110 in the morning\n",
            "atis_flight, what flights are available from pittsburgh to baltimore on thursday morning\n",
            "atis_flight_time, what is the arrival time in san francisco for the 755 am flight leaving washington\n",
            "atis_airfare, cheapest airfare from tacoma to orlando\n",
            "atis_airfare, round trip fares from pittsburgh to philadelphia under 1000 dollars\n",
            "atis_flight, i need a flight tomorrow from columbus to minneapolis\n",
            "atis_aircraft, what kind of aircraft is used on a flight from cleveland to dallas\n",
            "atis_flight, show me the flights from pittsburgh to los angeles on thursday\n",
            "atis_flight, all flights from boston to washington\n",
            "atis_ground_service, what kind of ground transportation is available in denver\n"
          ]
        }
      ]
    },
    {
      "cell_type": "code",
      "source": [
        "def preprocess_text(text, should_join=True):\n",
        "    text = ' '.join(str(word) for word in textblob_tokenizer(text))\n",
        "    text = re.sub(r\"([.,!?])\", r\" \\1 \", text)\n",
        "    text = re.sub(r\"[^a-zA-Z.,!?]+\", r\" \", text)\n",
        "    if should_join:\n",
        "      return ' '.join(gensim.utils.simple_preprocess(text))\n",
        "    else:\n",
        "      return gensim.utils.simple_preprocess(text)"
      ],
      "metadata": {
        "id": "CCXNQ8yT8AMn"
      },
      "execution_count": 6,
      "outputs": []
    },
    {
      "cell_type": "code",
      "source": [
        "path = './intents.csv'\n",
        "intents = pd.read_csv(path, header=None, names=[\"intent\", \"query\"])\n",
        "intents"
      ],
      "metadata": {
        "id": "i32aK_G6TZl9",
        "colab": {
          "base_uri": "https://localhost:8080/",
          "height": 424
        },
        "outputId": "48c19525-95f6-46de-c68b-919bf0bd8073"
      },
      "execution_count": 7,
      "outputs": [
        {
          "output_type": "execute_result",
          "data": {
            "text/plain": [
              "                intent                                              query\n",
              "0          atis_flight   i want to fly from boston at 838 am and arriv...\n",
              "1          atis_flight   what flights are available from pittsburgh to...\n",
              "2     atis_flight_time   what is the arrival time in san francisco for...\n",
              "3         atis_airfare            cheapest airfare from tacoma to orlando\n",
              "4         atis_airfare   round trip fares from pittsburgh to philadelp...\n",
              "...                ...                                                ...\n",
              "4973      atis_airfare   what is the airfare for flights from denver t...\n",
              "4974       atis_flight   do you have any flights from denver to baltim...\n",
              "4975      atis_airline          which airlines fly into and out of denver\n",
              "4976       atis_flight   does continental fly from boston to san franc...\n",
              "4977       atis_flight   is there a delta flight from denver to san fr...\n",
              "\n",
              "[4978 rows x 2 columns]"
            ],
            "text/html": [
              "\n",
              "  <div id=\"df-c97ba904-abd0-465b-a621-01c20b208657\">\n",
              "    <div class=\"colab-df-container\">\n",
              "      <div>\n",
              "<style scoped>\n",
              "    .dataframe tbody tr th:only-of-type {\n",
              "        vertical-align: middle;\n",
              "    }\n",
              "\n",
              "    .dataframe tbody tr th {\n",
              "        vertical-align: top;\n",
              "    }\n",
              "\n",
              "    .dataframe thead th {\n",
              "        text-align: right;\n",
              "    }\n",
              "</style>\n",
              "<table border=\"1\" class=\"dataframe\">\n",
              "  <thead>\n",
              "    <tr style=\"text-align: right;\">\n",
              "      <th></th>\n",
              "      <th>intent</th>\n",
              "      <th>query</th>\n",
              "    </tr>\n",
              "  </thead>\n",
              "  <tbody>\n",
              "    <tr>\n",
              "      <th>0</th>\n",
              "      <td>atis_flight</td>\n",
              "      <td>i want to fly from boston at 838 am and arriv...</td>\n",
              "    </tr>\n",
              "    <tr>\n",
              "      <th>1</th>\n",
              "      <td>atis_flight</td>\n",
              "      <td>what flights are available from pittsburgh to...</td>\n",
              "    </tr>\n",
              "    <tr>\n",
              "      <th>2</th>\n",
              "      <td>atis_flight_time</td>\n",
              "      <td>what is the arrival time in san francisco for...</td>\n",
              "    </tr>\n",
              "    <tr>\n",
              "      <th>3</th>\n",
              "      <td>atis_airfare</td>\n",
              "      <td>cheapest airfare from tacoma to orlando</td>\n",
              "    </tr>\n",
              "    <tr>\n",
              "      <th>4</th>\n",
              "      <td>atis_airfare</td>\n",
              "      <td>round trip fares from pittsburgh to philadelp...</td>\n",
              "    </tr>\n",
              "    <tr>\n",
              "      <th>...</th>\n",
              "      <td>...</td>\n",
              "      <td>...</td>\n",
              "    </tr>\n",
              "    <tr>\n",
              "      <th>4973</th>\n",
              "      <td>atis_airfare</td>\n",
              "      <td>what is the airfare for flights from denver t...</td>\n",
              "    </tr>\n",
              "    <tr>\n",
              "      <th>4974</th>\n",
              "      <td>atis_flight</td>\n",
              "      <td>do you have any flights from denver to baltim...</td>\n",
              "    </tr>\n",
              "    <tr>\n",
              "      <th>4975</th>\n",
              "      <td>atis_airline</td>\n",
              "      <td>which airlines fly into and out of denver</td>\n",
              "    </tr>\n",
              "    <tr>\n",
              "      <th>4976</th>\n",
              "      <td>atis_flight</td>\n",
              "      <td>does continental fly from boston to san franc...</td>\n",
              "    </tr>\n",
              "    <tr>\n",
              "      <th>4977</th>\n",
              "      <td>atis_flight</td>\n",
              "      <td>is there a delta flight from denver to san fr...</td>\n",
              "    </tr>\n",
              "  </tbody>\n",
              "</table>\n",
              "<p>4978 rows × 2 columns</p>\n",
              "</div>\n",
              "      <button class=\"colab-df-convert\" onclick=\"convertToInteractive('df-c97ba904-abd0-465b-a621-01c20b208657')\"\n",
              "              title=\"Convert this dataframe to an interactive table.\"\n",
              "              style=\"display:none;\">\n",
              "        \n",
              "  <svg xmlns=\"http://www.w3.org/2000/svg\" height=\"24px\"viewBox=\"0 0 24 24\"\n",
              "       width=\"24px\">\n",
              "    <path d=\"M0 0h24v24H0V0z\" fill=\"none\"/>\n",
              "    <path d=\"M18.56 5.44l.94 2.06.94-2.06 2.06-.94-2.06-.94-.94-2.06-.94 2.06-2.06.94zm-11 1L8.5 8.5l.94-2.06 2.06-.94-2.06-.94L8.5 2.5l-.94 2.06-2.06.94zm10 10l.94 2.06.94-2.06 2.06-.94-2.06-.94-.94-2.06-.94 2.06-2.06.94z\"/><path d=\"M17.41 7.96l-1.37-1.37c-.4-.4-.92-.59-1.43-.59-.52 0-1.04.2-1.43.59L10.3 9.45l-7.72 7.72c-.78.78-.78 2.05 0 2.83L4 21.41c.39.39.9.59 1.41.59.51 0 1.02-.2 1.41-.59l7.78-7.78 2.81-2.81c.8-.78.8-2.07 0-2.86zM5.41 20L4 18.59l7.72-7.72 1.47 1.35L5.41 20z\"/>\n",
              "  </svg>\n",
              "      </button>\n",
              "      \n",
              "  <style>\n",
              "    .colab-df-container {\n",
              "      display:flex;\n",
              "      flex-wrap:wrap;\n",
              "      gap: 12px;\n",
              "    }\n",
              "\n",
              "    .colab-df-convert {\n",
              "      background-color: #E8F0FE;\n",
              "      border: none;\n",
              "      border-radius: 50%;\n",
              "      cursor: pointer;\n",
              "      display: none;\n",
              "      fill: #1967D2;\n",
              "      height: 32px;\n",
              "      padding: 0 0 0 0;\n",
              "      width: 32px;\n",
              "    }\n",
              "\n",
              "    .colab-df-convert:hover {\n",
              "      background-color: #E2EBFA;\n",
              "      box-shadow: 0px 1px 2px rgba(60, 64, 67, 0.3), 0px 1px 3px 1px rgba(60, 64, 67, 0.15);\n",
              "      fill: #174EA6;\n",
              "    }\n",
              "\n",
              "    [theme=dark] .colab-df-convert {\n",
              "      background-color: #3B4455;\n",
              "      fill: #D2E3FC;\n",
              "    }\n",
              "\n",
              "    [theme=dark] .colab-df-convert:hover {\n",
              "      background-color: #434B5C;\n",
              "      box-shadow: 0px 1px 3px 1px rgba(0, 0, 0, 0.15);\n",
              "      filter: drop-shadow(0px 1px 2px rgba(0, 0, 0, 0.3));\n",
              "      fill: #FFFFFF;\n",
              "    }\n",
              "  </style>\n",
              "\n",
              "      <script>\n",
              "        const buttonEl =\n",
              "          document.querySelector('#df-c97ba904-abd0-465b-a621-01c20b208657 button.colab-df-convert');\n",
              "        buttonEl.style.display =\n",
              "          google.colab.kernel.accessAllowed ? 'block' : 'none';\n",
              "\n",
              "        async function convertToInteractive(key) {\n",
              "          const element = document.querySelector('#df-c97ba904-abd0-465b-a621-01c20b208657');\n",
              "          const dataTable =\n",
              "            await google.colab.kernel.invokeFunction('convertToInteractive',\n",
              "                                                     [key], {});\n",
              "          if (!dataTable) return;\n",
              "\n",
              "          const docLinkHtml = 'Like what you see? Visit the ' +\n",
              "            '<a target=\"_blank\" href=https://colab.research.google.com/notebooks/data_table.ipynb>data table notebook</a>'\n",
              "            + ' to learn more about interactive tables.';\n",
              "          element.innerHTML = '';\n",
              "          dataTable['output_type'] = 'display_data';\n",
              "          await google.colab.output.renderOutput(dataTable, element);\n",
              "          const docLink = document.createElement('div');\n",
              "          docLink.innerHTML = docLinkHtml;\n",
              "          element.appendChild(docLink);\n",
              "        }\n",
              "      </script>\n",
              "    </div>\n",
              "  </div>\n",
              "  "
            ]
          },
          "metadata": {},
          "execution_count": 7
        }
      ]
    },
    {
      "cell_type": "markdown",
      "source": [
        "Let's inspect the intents"
      ],
      "metadata": {
        "id": "gqQQj32QxDYf"
      }
    },
    {
      "cell_type": "code",
      "source": [
        "intents.intent.value_counts()"
      ],
      "metadata": {
        "colab": {
          "base_uri": "https://localhost:8080/"
        },
        "id": "NGhouO2WvpqC",
        "outputId": "19dc0e2f-897f-4a84-925e-25b0a79ef4d9"
      },
      "execution_count": 8,
      "outputs": [
        {
          "output_type": "execute_result",
          "data": {
            "text/plain": [
              "atis_flight                                 3666\n",
              "atis_airfare                                 423\n",
              "atis_ground_service                          255\n",
              "atis_airline                                 157\n",
              "atis_abbreviation                            147\n",
              "atis_aircraft                                 81\n",
              "atis_flight_time                              54\n",
              "atis_quantity                                 51\n",
              "atis_flight#atis_airfare                      21\n",
              "atis_airport                                  20\n",
              "atis_distance                                 20\n",
              "atis_city                                     19\n",
              "atis_ground_fare                              18\n",
              "atis_capacity                                 16\n",
              "atis_flight_no                                12\n",
              "atis_meal                                      6\n",
              "atis_restriction                               6\n",
              "atis_airline#atis_flight_no                    2\n",
              "atis_ground_service#atis_ground_fare           1\n",
              "atis_airfare#atis_flight_time                  1\n",
              "atis_cheapest                                  1\n",
              "atis_aircraft#atis_flight#atis_flight_no       1\n",
              "Name: intent, dtype: int64"
            ]
          },
          "metadata": {},
          "execution_count": 8
        }
      ]
    },
    {
      "cell_type": "markdown",
      "source": [
        "Let's filter the rows with a rare intent since we will not be able to predict it neverthenless"
      ],
      "metadata": {
        "id": "cP4_-3ezxFM6"
      }
    },
    {
      "cell_type": "code",
      "source": [
        "intents_filtered = intents.groupby('intent').filter(lambda x: len(x) >= 15).reset_index()"
      ],
      "metadata": {
        "id": "Nr58BnYEw0eH"
      },
      "execution_count": 9,
      "outputs": []
    },
    {
      "cell_type": "code",
      "source": [
        "X = intents_filtered['query']\n",
        "y = intents_filtered.intent\n"
      ],
      "metadata": {
        "id": "kLf4fI_qvnpb"
      },
      "execution_count": 10,
      "outputs": []
    },
    {
      "cell_type": "markdown",
      "source": [
        "If we inspect y, now we need to transform it into a one hot representation!"
      ],
      "metadata": {
        "id": "Xc7ZSCE4xZs0"
      }
    },
    {
      "cell_type": "code",
      "source": [
        "y"
      ],
      "metadata": {
        "id": "ebXKmG_cxpOx",
        "colab": {
          "base_uri": "https://localhost:8080/"
        },
        "outputId": "d21901ad-8b14-4b99-95fa-be123baa41d3"
      },
      "execution_count": 11,
      "outputs": [
        {
          "output_type": "execute_result",
          "data": {
            "text/plain": [
              "0            atis_flight\n",
              "1            atis_flight\n",
              "2       atis_flight_time\n",
              "3           atis_airfare\n",
              "4           atis_airfare\n",
              "              ...       \n",
              "4943        atis_airfare\n",
              "4944         atis_flight\n",
              "4945        atis_airline\n",
              "4946         atis_flight\n",
              "4947         atis_flight\n",
              "Name: intent, Length: 4948, dtype: object"
            ]
          },
          "metadata": {},
          "execution_count": 11
        }
      ]
    },
    {
      "cell_type": "code",
      "source": [],
      "metadata": {
        "id": "G96hiuLixkRb"
      },
      "execution_count": 11,
      "outputs": []
    },
    {
      "cell_type": "markdown",
      "source": [
        "## Creating the corpus and tokenizing"
      ],
      "metadata": {
        "id": "TXLqIHnNWYMN"
      }
    },
    {
      "cell_type": "code",
      "source": [
        "corpus_with_ix = [(ix, preprocess_text(sentence, should_join = True)) for ix, sentence in X.iteritems() if type(sentence) == str and len(textblob_tokenizer(sentence)) > 3]\n"
      ],
      "metadata": {
        "id": "MebwtE3DH0Qu"
      },
      "execution_count": 12,
      "outputs": []
    },
    {
      "cell_type": "code",
      "source": [
        "corpus_with_ix[0]"
      ],
      "metadata": {
        "id": "1pjd3cYbI-ib",
        "colab": {
          "base_uri": "https://localhost:8080/"
        },
        "outputId": "2b32416c-0285-44db-ba0f-d2a3036a8b53"
      },
      "execution_count": 13,
      "outputs": [
        {
          "output_type": "execute_result",
          "data": {
            "text/plain": [
              "(0, 'want to fly from boston at am and arrive in denver at in the morning')"
            ]
          },
          "metadata": {},
          "execution_count": 13
        }
      ]
    },
    {
      "cell_type": "code",
      "source": [
        "corpus_df = pd.DataFrame(corpus_with_ix, columns=['index', 'text'])"
      ],
      "metadata": {
        "id": "r2jN-duFXT7-"
      },
      "execution_count": 14,
      "outputs": []
    },
    {
      "cell_type": "code",
      "source": [
        "corpus_df"
      ],
      "metadata": {
        "id": "bt5YXTj6Xft6",
        "colab": {
          "base_uri": "https://localhost:8080/",
          "height": 1000
        },
        "outputId": "143a5d92-4bea-49a7-cbb8-d39f69d4e8b3"
      },
      "execution_count": 15,
      "outputs": [
        {
          "output_type": "execute_result",
          "data": {
            "text/plain": [
              "      index                                               text\n",
              "0         0  want to fly from boston at am and arrive in de...\n",
              "1         1  what flights are available from pittsburgh to ...\n",
              "2         2  what is the arrival time in san francisco for ...\n",
              "3         3            cheapest airfare from tacoma to orlando\n",
              "4         4  round trip fares from pittsburgh to philadelph...\n",
              "...     ...                                                ...\n",
              "4866   4943  what is the airfare for flights from denver to...\n",
              "4867   4944  do you have any flights from denver to baltimo...\n",
              "4868   4945          which airlines fly into and out of denver\n",
              "4869   4946  does continental fly from boston to san franci...\n",
              "4870   4947  is there delta flight from denver to san franc...\n",
              "\n",
              "[4871 rows x 2 columns]"
            ],
            "text/html": [
              "\n",
              "  <div id=\"df-ea992f85-23c9-4a67-b578-cd497b5c0e4b\">\n",
              "    <div class=\"colab-df-container\">\n",
              "      <div>\n",
              "<style scoped>\n",
              "    .dataframe tbody tr th:only-of-type {\n",
              "        vertical-align: middle;\n",
              "    }\n",
              "\n",
              "    .dataframe tbody tr th {\n",
              "        vertical-align: top;\n",
              "    }\n",
              "\n",
              "    .dataframe thead th {\n",
              "        text-align: right;\n",
              "    }\n",
              "</style>\n",
              "<table border=\"1\" class=\"dataframe\">\n",
              "  <thead>\n",
              "    <tr style=\"text-align: right;\">\n",
              "      <th></th>\n",
              "      <th>index</th>\n",
              "      <th>text</th>\n",
              "    </tr>\n",
              "  </thead>\n",
              "  <tbody>\n",
              "    <tr>\n",
              "      <th>0</th>\n",
              "      <td>0</td>\n",
              "      <td>want to fly from boston at am and arrive in de...</td>\n",
              "    </tr>\n",
              "    <tr>\n",
              "      <th>1</th>\n",
              "      <td>1</td>\n",
              "      <td>what flights are available from pittsburgh to ...</td>\n",
              "    </tr>\n",
              "    <tr>\n",
              "      <th>2</th>\n",
              "      <td>2</td>\n",
              "      <td>what is the arrival time in san francisco for ...</td>\n",
              "    </tr>\n",
              "    <tr>\n",
              "      <th>3</th>\n",
              "      <td>3</td>\n",
              "      <td>cheapest airfare from tacoma to orlando</td>\n",
              "    </tr>\n",
              "    <tr>\n",
              "      <th>4</th>\n",
              "      <td>4</td>\n",
              "      <td>round trip fares from pittsburgh to philadelph...</td>\n",
              "    </tr>\n",
              "    <tr>\n",
              "      <th>...</th>\n",
              "      <td>...</td>\n",
              "      <td>...</td>\n",
              "    </tr>\n",
              "    <tr>\n",
              "      <th>4866</th>\n",
              "      <td>4943</td>\n",
              "      <td>what is the airfare for flights from denver to...</td>\n",
              "    </tr>\n",
              "    <tr>\n",
              "      <th>4867</th>\n",
              "      <td>4944</td>\n",
              "      <td>do you have any flights from denver to baltimo...</td>\n",
              "    </tr>\n",
              "    <tr>\n",
              "      <th>4868</th>\n",
              "      <td>4945</td>\n",
              "      <td>which airlines fly into and out of denver</td>\n",
              "    </tr>\n",
              "    <tr>\n",
              "      <th>4869</th>\n",
              "      <td>4946</td>\n",
              "      <td>does continental fly from boston to san franci...</td>\n",
              "    </tr>\n",
              "    <tr>\n",
              "      <th>4870</th>\n",
              "      <td>4947</td>\n",
              "      <td>is there delta flight from denver to san franc...</td>\n",
              "    </tr>\n",
              "  </tbody>\n",
              "</table>\n",
              "<p>4871 rows × 2 columns</p>\n",
              "</div>\n",
              "      <button class=\"colab-df-convert\" onclick=\"convertToInteractive('df-ea992f85-23c9-4a67-b578-cd497b5c0e4b')\"\n",
              "              title=\"Convert this dataframe to an interactive table.\"\n",
              "              style=\"display:none;\">\n",
              "        \n",
              "  <svg xmlns=\"http://www.w3.org/2000/svg\" height=\"24px\"viewBox=\"0 0 24 24\"\n",
              "       width=\"24px\">\n",
              "    <path d=\"M0 0h24v24H0V0z\" fill=\"none\"/>\n",
              "    <path d=\"M18.56 5.44l.94 2.06.94-2.06 2.06-.94-2.06-.94-.94-2.06-.94 2.06-2.06.94zm-11 1L8.5 8.5l.94-2.06 2.06-.94-2.06-.94L8.5 2.5l-.94 2.06-2.06.94zm10 10l.94 2.06.94-2.06 2.06-.94-2.06-.94-.94-2.06-.94 2.06-2.06.94z\"/><path d=\"M17.41 7.96l-1.37-1.37c-.4-.4-.92-.59-1.43-.59-.52 0-1.04.2-1.43.59L10.3 9.45l-7.72 7.72c-.78.78-.78 2.05 0 2.83L4 21.41c.39.39.9.59 1.41.59.51 0 1.02-.2 1.41-.59l7.78-7.78 2.81-2.81c.8-.78.8-2.07 0-2.86zM5.41 20L4 18.59l7.72-7.72 1.47 1.35L5.41 20z\"/>\n",
              "  </svg>\n",
              "      </button>\n",
              "      \n",
              "  <style>\n",
              "    .colab-df-container {\n",
              "      display:flex;\n",
              "      flex-wrap:wrap;\n",
              "      gap: 12px;\n",
              "    }\n",
              "\n",
              "    .colab-df-convert {\n",
              "      background-color: #E8F0FE;\n",
              "      border: none;\n",
              "      border-radius: 50%;\n",
              "      cursor: pointer;\n",
              "      display: none;\n",
              "      fill: #1967D2;\n",
              "      height: 32px;\n",
              "      padding: 0 0 0 0;\n",
              "      width: 32px;\n",
              "    }\n",
              "\n",
              "    .colab-df-convert:hover {\n",
              "      background-color: #E2EBFA;\n",
              "      box-shadow: 0px 1px 2px rgba(60, 64, 67, 0.3), 0px 1px 3px 1px rgba(60, 64, 67, 0.15);\n",
              "      fill: #174EA6;\n",
              "    }\n",
              "\n",
              "    [theme=dark] .colab-df-convert {\n",
              "      background-color: #3B4455;\n",
              "      fill: #D2E3FC;\n",
              "    }\n",
              "\n",
              "    [theme=dark] .colab-df-convert:hover {\n",
              "      background-color: #434B5C;\n",
              "      box-shadow: 0px 1px 3px 1px rgba(0, 0, 0, 0.15);\n",
              "      filter: drop-shadow(0px 1px 2px rgba(0, 0, 0, 0.3));\n",
              "      fill: #FFFFFF;\n",
              "    }\n",
              "  </style>\n",
              "\n",
              "      <script>\n",
              "        const buttonEl =\n",
              "          document.querySelector('#df-ea992f85-23c9-4a67-b578-cd497b5c0e4b button.colab-df-convert');\n",
              "        buttonEl.style.display =\n",
              "          google.colab.kernel.accessAllowed ? 'block' : 'none';\n",
              "\n",
              "        async function convertToInteractive(key) {\n",
              "          const element = document.querySelector('#df-ea992f85-23c9-4a67-b578-cd497b5c0e4b');\n",
              "          const dataTable =\n",
              "            await google.colab.kernel.invokeFunction('convertToInteractive',\n",
              "                                                     [key], {});\n",
              "          if (!dataTable) return;\n",
              "\n",
              "          const docLinkHtml = 'Like what you see? Visit the ' +\n",
              "            '<a target=\"_blank\" href=https://colab.research.google.com/notebooks/data_table.ipynb>data table notebook</a>'\n",
              "            + ' to learn more about interactive tables.';\n",
              "          element.innerHTML = '';\n",
              "          dataTable['output_type'] = 'display_data';\n",
              "          await google.colab.output.renderOutput(dataTable, element);\n",
              "          const docLink = document.createElement('div');\n",
              "          docLink.innerHTML = docLinkHtml;\n",
              "          element.appendChild(docLink);\n",
              "        }\n",
              "      </script>\n",
              "    </div>\n",
              "  </div>\n",
              "  "
            ]
          },
          "metadata": {},
          "execution_count": 15
        }
      ]
    },
    {
      "cell_type": "code",
      "source": [
        "y_filtered = y[corpus_df['index']]"
      ],
      "metadata": {
        "id": "od6DxRRZJUMf"
      },
      "execution_count": 16,
      "outputs": []
    },
    {
      "cell_type": "code",
      "source": [
        "y_filtered"
      ],
      "metadata": {
        "colab": {
          "base_uri": "https://localhost:8080/"
        },
        "id": "KplRPbffzF2Q",
        "outputId": "2d3c5890-edc0-4b9f-d7cc-931ad606803f"
      },
      "execution_count": 17,
      "outputs": [
        {
          "output_type": "execute_result",
          "data": {
            "text/plain": [
              "0            atis_flight\n",
              "1            atis_flight\n",
              "2       atis_flight_time\n",
              "3           atis_airfare\n",
              "4           atis_airfare\n",
              "              ...       \n",
              "4943        atis_airfare\n",
              "4944         atis_flight\n",
              "4945        atis_airline\n",
              "4946         atis_flight\n",
              "4947         atis_flight\n",
              "Name: intent, Length: 4871, dtype: object"
            ]
          },
          "metadata": {},
          "execution_count": 17
        }
      ]
    },
    {
      "cell_type": "code",
      "source": [
        "corpus = [preprocess_text(sentence, should_join=False) for ix, sentence in corpus_with_ix]"
      ],
      "metadata": {
        "id": "bWV2wVBxJuaZ"
      },
      "execution_count": 18,
      "outputs": []
    },
    {
      "cell_type": "code",
      "source": [
        "def get_maximum_review_length(tokenized_corpus):\n",
        "    maximum = 0\n",
        "    for sentence in tokenized_corpus:\n",
        "        candidate = len(sentence)\n",
        "        if candidate > maximum:\n",
        "            maximum = candidate\n",
        "    return maximum\n",
        "max_review_length = get_maximum_review_length(corpus)"
      ],
      "metadata": {
        "id": "fAQ1wVIScTYK"
      },
      "execution_count": 19,
      "outputs": []
    },
    {
      "cell_type": "code",
      "source": [
        "tokenizer = Tokenizer()\n",
        "tokenizer.fit_on_texts(corpus)\n",
        "tokenized_corpus = tokenizer.texts_to_sequences(corpus)\n",
        "nb_samples = sum(len(s) for s in corpus)\n",
        "vocab_size = len(tokenizer.word_index) + 1"
      ],
      "metadata": {
        "id": "Cm5M72SymSYd"
      },
      "execution_count": 20,
      "outputs": []
    },
    {
      "cell_type": "code",
      "source": [
        "final_X = np.zeros((len(tokenized_corpus), max_review_length))\n",
        "for ix, tokenized_sentence in enumerate(tokenized_corpus):\n",
        "    tokenized_sentence.extend([0]*(max_review_length-len(tokenized_sentence)))\n",
        "    final_X[ix] = tokenized_sentence"
      ],
      "metadata": {
        "id": "odthjkKXmTWI"
      },
      "execution_count": 21,
      "outputs": []
    },
    {
      "cell_type": "markdown",
      "source": [
        "Since y_filtered (and y) have many text values, we need to map each intent into a number. We will use the `pd.factorize` method for that. "
      ],
      "metadata": {
        "id": "EDQjLfLn9GPw"
      }
    },
    {
      "cell_type": "code",
      "source": [
        "y_factorized, level_intents = pd.factorize(y_filtered)"
      ],
      "metadata": {
        "id": "LFxJh8mG9EWc"
      },
      "execution_count": 22,
      "outputs": []
    },
    {
      "cell_type": "code",
      "source": [
        "y_factorized, level_intents"
      ],
      "metadata": {
        "colab": {
          "base_uri": "https://localhost:8080/"
        },
        "id": "qf-0tM7I9E5D",
        "outputId": "cff698a3-3f8d-4c15-fdea-245984ad8bf1"
      },
      "execution_count": 23,
      "outputs": [
        {
          "output_type": "execute_result",
          "data": {
            "text/plain": [
              "(array([0, 0, 1, ..., 6, 0, 0]),\n",
              " Index(['atis_flight', 'atis_flight_time', 'atis_airfare', 'atis_aircraft',\n",
              "        'atis_ground_service', 'atis_airport', 'atis_airline', 'atis_distance',\n",
              "        'atis_abbreviation', 'atis_ground_fare', 'atis_quantity', 'atis_city',\n",
              "        'atis_capacity', 'atis_flight#atis_airfare'],\n",
              "       dtype='object'))"
            ]
          },
          "metadata": {},
          "execution_count": 23
        }
      ]
    },
    {
      "cell_type": "markdown",
      "source": [
        "## Creating the embedding matrix"
      ],
      "metadata": {
        "id": "NnzCLuSZ07Qg"
      }
    },
    {
      "cell_type": "markdown",
      "source": [
        "This is the same part, we will construct an embedding matrix that maps each word in the tokenizer (via the ID it gets in the dataset) to the GloVe 100 dimensional representation of that word. This will be the input to the Embedding layer."
      ],
      "metadata": {
        "id": "UUAv_aDdr7VD"
      }
    },
    {
      "cell_type": "code",
      "source": [
        "path_to_glove_file = \"./glove.6B.100d.txt\"\n",
        "embeddings_index = {}\n",
        "with open(path_to_glove_file) as f:\n",
        "    for line in f:\n",
        "        word, coefs = line.split(maxsplit=1)\n",
        "        coefs = np.fromstring(coefs, \"f\", sep=\" \")\n",
        "        embeddings_index[word] = coefs\n",
        "\n",
        "print(\"Found %s word vectors.\" % len(embeddings_index))"
      ],
      "metadata": {
        "colab": {
          "base_uri": "https://localhost:8080/"
        },
        "id": "VWvoLMT_mONi",
        "outputId": "d15e016d-aaa7-4bd7-a3c8-3109326a846a"
      },
      "execution_count": 24,
      "outputs": [
        {
          "output_type": "stream",
          "name": "stdout",
          "text": [
            "Found 400001 word vectors.\n"
          ]
        }
      ]
    },
    {
      "cell_type": "code",
      "source": [
        "embedding_dim = 100\n",
        "num_tokens = vocab_size + 1\n",
        "hits = 0\n",
        "misses = 0\n",
        "\n",
        "# Prepare embedding matrix\n",
        "embedding_matrix = np.zeros((num_tokens, embedding_dim))\n",
        "for word, i in tokenizer.word_index.items():\n",
        "    embedding_vector = embeddings_index.get(word)\n",
        "    if embedding_vector is not None:\n",
        "        # Words not found in embedding index will be all-zeros.\n",
        "        # This includes the representation for \"padding\" and \"OOV\"\n",
        "        embedding_matrix[i] = embedding_vector\n",
        "        hits += 1\n",
        "    else:\n",
        "        misses += 1\n",
        "print(\"Converted %d words (%d misses)\" % (hits, misses))"
      ],
      "metadata": {
        "colab": {
          "base_uri": "https://localhost:8080/"
        },
        "id": "y_cy91zwmOQH",
        "outputId": "809fd48b-9f2e-4147-f47f-8c49df789b9b"
      },
      "execution_count": 25,
      "outputs": [
        {
          "output_type": "stream",
          "name": "stdout",
          "text": [
            "Converted 696 words (1 misses)\n"
          ]
        }
      ]
    },
    {
      "cell_type": "markdown",
      "source": [
        "## Doing the train_test split and defining model"
      ],
      "metadata": {
        "id": "quWimVZjbemw"
      }
    },
    {
      "cell_type": "code",
      "source": [
        "from sklearn.model_selection import train_test_split\n",
        "X_train, X_test, y_train, y_test = train_test_split(final_X, y_factorized, test_size = 0.3, random_state=42)"
      ],
      "metadata": {
        "id": "gPK5YmDMTbby"
      },
      "execution_count": 26,
      "outputs": []
    },
    {
      "cell_type": "code",
      "source": [
        "X_train_tensor = tf.constant(X_train)\n",
        "X_test_tensor = tf.constant(X_test)\n",
        "y_train_tensor = tf.one_hot(tf.constant(y_train), len(level_intents))\n",
        "y_test_tensor = tf.one_hot(tf.constant(y_test), len(level_intents))"
      ],
      "metadata": {
        "id": "SwdtffgTVRM0"
      },
      "execution_count": 27,
      "outputs": []
    },
    {
      "cell_type": "markdown",
      "source": [
        "Notice that our y has many values, we need to use `tf.one_hot` to convert it to the corresponding input to the loss function"
      ],
      "metadata": {
        "id": "3iSfi7vJDv3R"
      }
    },
    {
      "cell_type": "code",
      "source": [
        "X_train_tensor.shape, X_test_tensor.shape, y_train_tensor.shape, y_test_tensor.shape"
      ],
      "metadata": {
        "id": "zzQA9t3JdlGO",
        "colab": {
          "base_uri": "https://localhost:8080/"
        },
        "outputId": "61d39d27-735e-4871-93e7-7f976a27f58c"
      },
      "execution_count": 28,
      "outputs": [
        {
          "output_type": "execute_result",
          "data": {
            "text/plain": [
              "(TensorShape([3409, 43]),\n",
              " TensorShape([1462, 43]),\n",
              " TensorShape([3409, 14]),\n",
              " TensorShape([1462, 14]))"
            ]
          },
          "metadata": {},
          "execution_count": 28
        }
      ]
    },
    {
      "cell_type": "markdown",
      "source": [
        "Now we have the key step, we will set the output neurons to be the amount of intents, with softmax as activation. Therefore this model will predict probabilities that each input inquiry is of certain classes"
      ],
      "metadata": {
        "id": "6ZRw6Ttrsp53"
      }
    },
    {
      "cell_type": "code",
      "source": [
        "model = Sequential()\n",
        "model.add(Embedding(input_dim=embedding_matrix.shape[0], output_dim=embedding_matrix.shape[1], input_length=max_review_length, embeddings_initializer=Constant(embedding_matrix), trainable=False))\n",
        "model.add(Dense(100, activation=leaky_relu))\n",
        "model.add(Dense(50, activation=leaky_relu))\n",
        "model.add(Lambda(lambda x: K.mean(x, axis=1), output_shape=(embedding_dim,)))\n",
        "model.add(Dense(50, activation=leaky_relu))\n",
        "model.add(Dense(len(level_intents), activation='softmax'))"
      ],
      "metadata": {
        "id": "9ySCH6VsVNTa"
      },
      "execution_count": 29,
      "outputs": []
    },
    {
      "cell_type": "code",
      "source": [
        "model.compile(optimizer='adam', loss=tf.keras.losses.CategoricalCrossentropy(), metrics=[\"accuracy\", tf.keras.metrics.Precision(name='precision'), tf.keras.metrics.Recall(name='recall')])\n",
        "model.summary()"
      ],
      "metadata": {
        "id": "MDd6hnQhVnOR",
        "colab": {
          "base_uri": "https://localhost:8080/"
        },
        "outputId": "2a5ad726-4628-4be8-a7ce-029fca58e06f"
      },
      "execution_count": 30,
      "outputs": [
        {
          "output_type": "stream",
          "name": "stdout",
          "text": [
            "Model: \"sequential\"\n",
            "_________________________________________________________________\n",
            " Layer (type)                Output Shape              Param #   \n",
            "=================================================================\n",
            " embedding (Embedding)       (None, 43, 100)           69900     \n",
            "                                                                 \n",
            " dense (Dense)               (None, 43, 100)           10100     \n",
            "                                                                 \n",
            " dense_1 (Dense)             (None, 43, 50)            5050      \n",
            "                                                                 \n",
            " lambda (Lambda)             (None, 50)                0         \n",
            "                                                                 \n",
            " dense_2 (Dense)             (None, 50)                2550      \n",
            "                                                                 \n",
            " dense_3 (Dense)             (None, 14)                714       \n",
            "                                                                 \n",
            "=================================================================\n",
            "Total params: 88,314\n",
            "Trainable params: 18,414\n",
            "Non-trainable params: 69,900\n",
            "_________________________________________________________________\n"
          ]
        }
      ]
    },
    {
      "cell_type": "markdown",
      "source": [
        "Notice the non-trainable parameters"
      ],
      "metadata": {
        "id": "L5qOpTaAtK7V"
      }
    },
    {
      "cell_type": "code",
      "source": [
        "callback = tf.keras.callbacks.EarlyStopping(monitor='val_precision', patience=10, min_delta=0.01, mode=\"max\")\n",
        "history = model.fit(X_train_tensor, y_train_tensor, epochs = 30, validation_split=0.2, workers = 5, callbacks=[callback])"
      ],
      "metadata": {
        "id": "UcAZECDkf-2B",
        "colab": {
          "base_uri": "https://localhost:8080/"
        },
        "outputId": "9cf207fb-66a0-4e44-e73f-f04da6056541"
      },
      "execution_count": 31,
      "outputs": [
        {
          "output_type": "stream",
          "name": "stdout",
          "text": [
            "Epoch 1/30\n",
            "86/86 [==============================] - 4s 24ms/step - loss: 1.3321 - accuracy: 0.7147 - precision: 0.7810 - recall: 0.5453 - val_loss: 0.9926 - val_accuracy: 0.7669 - val_precision: 0.8038 - val_recall: 0.7390\n",
            "Epoch 2/30\n",
            "86/86 [==============================] - 1s 15ms/step - loss: 0.9356 - accuracy: 0.7422 - precision: 0.8170 - recall: 0.7286 - val_loss: 0.7994 - val_accuracy: 0.7771 - val_precision: 0.8847 - val_recall: 0.7199\n",
            "Epoch 3/30\n",
            "86/86 [==============================] - 1s 16ms/step - loss: 0.7684 - accuracy: 0.7789 - precision: 0.8821 - recall: 0.7268 - val_loss: 0.6657 - val_accuracy: 0.8255 - val_precision: 0.9089 - val_recall: 0.7757\n",
            "Epoch 4/30\n",
            "86/86 [==============================] - 2s 18ms/step - loss: 0.6349 - accuracy: 0.8442 - precision: 0.9109 - recall: 0.7690 - val_loss: 0.5480 - val_accuracy: 0.8651 - val_precision: 0.9192 - val_recall: 0.8006\n",
            "Epoch 5/30\n",
            "86/86 [==============================] - 1s 16ms/step - loss: 0.5258 - accuracy: 0.8643 - precision: 0.9208 - recall: 0.8144 - val_loss: 0.5418 - val_accuracy: 0.8519 - val_precision: 0.9124 - val_recall: 0.8094\n",
            "Epoch 6/30\n",
            "86/86 [==============================] - 2s 19ms/step - loss: 0.4581 - accuracy: 0.8786 - precision: 0.9259 - recall: 0.8431 - val_loss: 0.4506 - val_accuracy: 0.8666 - val_precision: 0.9163 - val_recall: 0.8343\n",
            "Epoch 7/30\n",
            "86/86 [==============================] - 2s 19ms/step - loss: 0.4075 - accuracy: 0.8885 - precision: 0.9281 - recall: 0.8563 - val_loss: 0.4090 - val_accuracy: 0.8739 - val_precision: 0.9164 - val_recall: 0.8519\n",
            "Epoch 8/30\n",
            "86/86 [==============================] - 1s 16ms/step - loss: 0.3844 - accuracy: 0.8951 - precision: 0.9305 - recall: 0.8643 - val_loss: 0.3940 - val_accuracy: 0.8871 - val_precision: 0.9256 - val_recall: 0.8578\n",
            "Epoch 9/30\n",
            "86/86 [==============================] - 1s 16ms/step - loss: 0.3501 - accuracy: 0.9036 - precision: 0.9338 - recall: 0.8687 - val_loss: 0.3494 - val_accuracy: 0.8974 - val_precision: 0.9237 - val_recall: 0.8695\n",
            "Epoch 10/30\n",
            "86/86 [==============================] - 1s 16ms/step - loss: 0.3210 - accuracy: 0.9138 - precision: 0.9392 - recall: 0.8838 - val_loss: 0.3237 - val_accuracy: 0.8988 - val_precision: 0.9316 - val_recall: 0.8783\n",
            "Epoch 11/30\n",
            "86/86 [==============================] - 1s 17ms/step - loss: 0.2931 - accuracy: 0.9146 - precision: 0.9400 - recall: 0.8904 - val_loss: 0.3064 - val_accuracy: 0.9106 - val_precision: 0.9348 - val_recall: 0.8827\n",
            "Epoch 12/30\n",
            "86/86 [==============================] - 2s 18ms/step - loss: 0.2796 - accuracy: 0.9212 - precision: 0.9449 - recall: 0.8992 - val_loss: 0.2908 - val_accuracy: 0.9150 - val_precision: 0.9309 - val_recall: 0.8886\n",
            "Epoch 13/30\n",
            "86/86 [==============================] - 1s 15ms/step - loss: 0.2636 - accuracy: 0.9237 - precision: 0.9441 - recall: 0.9039 - val_loss: 0.2839 - val_accuracy: 0.9150 - val_precision: 0.9396 - val_recall: 0.8900\n",
            "Epoch 14/30\n",
            "86/86 [==============================] - 1s 15ms/step - loss: 0.2539 - accuracy: 0.9274 - precision: 0.9463 - recall: 0.9109 - val_loss: 0.2777 - val_accuracy: 0.9326 - val_precision: 0.9402 - val_recall: 0.9223\n",
            "Epoch 15/30\n",
            "86/86 [==============================] - 1s 12ms/step - loss: 0.2412 - accuracy: 0.9289 - precision: 0.9483 - recall: 0.9149 - val_loss: 0.2560 - val_accuracy: 0.9238 - val_precision: 0.9350 - val_recall: 0.9076\n",
            "Epoch 16/30\n",
            "86/86 [==============================] - 1s 9ms/step - loss: 0.2204 - accuracy: 0.9373 - precision: 0.9494 - recall: 0.9212 - val_loss: 0.2419 - val_accuracy: 0.9267 - val_precision: 0.9439 - val_recall: 0.9135\n",
            "Epoch 17/30\n",
            "86/86 [==============================] - 1s 10ms/step - loss: 0.2177 - accuracy: 0.9318 - precision: 0.9473 - recall: 0.9164 - val_loss: 0.2447 - val_accuracy: 0.9326 - val_precision: 0.9497 - val_recall: 0.9135\n",
            "Epoch 18/30\n",
            "86/86 [==============================] - 1s 10ms/step - loss: 0.1997 - accuracy: 0.9399 - precision: 0.9545 - recall: 0.9234 - val_loss: 0.2236 - val_accuracy: 0.9311 - val_precision: 0.9473 - val_recall: 0.9223\n",
            "Epoch 19/30\n",
            "86/86 [==============================] - 1s 9ms/step - loss: 0.1951 - accuracy: 0.9355 - precision: 0.9535 - recall: 0.9241 - val_loss: 0.2713 - val_accuracy: 0.9238 - val_precision: 0.9378 - val_recall: 0.9062\n",
            "Epoch 20/30\n",
            "86/86 [==============================] - 1s 9ms/step - loss: 0.1864 - accuracy: 0.9384 - precision: 0.9562 - recall: 0.9278 - val_loss: 0.2265 - val_accuracy: 0.9384 - val_precision: 0.9465 - val_recall: 0.9340\n",
            "Epoch 21/30\n",
            "86/86 [==============================] - 1s 9ms/step - loss: 0.1795 - accuracy: 0.9410 - precision: 0.9563 - recall: 0.9303 - val_loss: 0.2153 - val_accuracy: 0.9370 - val_precision: 0.9630 - val_recall: 0.9164\n",
            "Epoch 22/30\n",
            "86/86 [==============================] - 1s 9ms/step - loss: 0.1671 - accuracy: 0.9468 - precision: 0.9585 - recall: 0.9325 - val_loss: 0.2265 - val_accuracy: 0.9326 - val_precision: 0.9444 - val_recall: 0.9208\n",
            "Epoch 23/30\n",
            "86/86 [==============================] - 1s 9ms/step - loss: 0.1580 - accuracy: 0.9487 - precision: 0.9646 - recall: 0.9380 - val_loss: 0.2026 - val_accuracy: 0.9370 - val_precision: 0.9461 - val_recall: 0.9267\n",
            "Epoch 24/30\n",
            "86/86 [==============================] - 1s 9ms/step - loss: 0.1524 - accuracy: 0.9553 - precision: 0.9651 - recall: 0.9417 - val_loss: 0.1971 - val_accuracy: 0.9443 - val_precision: 0.9548 - val_recall: 0.9296\n",
            "Epoch 25/30\n",
            "86/86 [==============================] - 1s 9ms/step - loss: 0.1441 - accuracy: 0.9553 - precision: 0.9669 - recall: 0.9428 - val_loss: 0.1952 - val_accuracy: 0.9340 - val_precision: 0.9489 - val_recall: 0.9252\n",
            "Epoch 26/30\n",
            "86/86 [==============================] - 1s 9ms/step - loss: 0.1381 - accuracy: 0.9509 - precision: 0.9632 - recall: 0.9406 - val_loss: 0.1995 - val_accuracy: 0.9472 - val_precision: 0.9594 - val_recall: 0.9355\n",
            "Epoch 27/30\n",
            "86/86 [==============================] - 1s 9ms/step - loss: 0.1309 - accuracy: 0.9567 - precision: 0.9681 - recall: 0.9454 - val_loss: 0.2016 - val_accuracy: 0.9355 - val_precision: 0.9446 - val_recall: 0.9252\n",
            "Epoch 28/30\n",
            "86/86 [==============================] - 1s 10ms/step - loss: 0.1310 - accuracy: 0.9560 - precision: 0.9648 - recall: 0.9461 - val_loss: 0.1861 - val_accuracy: 0.9384 - val_precision: 0.9463 - val_recall: 0.9311\n",
            "Epoch 29/30\n",
            "86/86 [==============================] - 1s 9ms/step - loss: 0.1231 - accuracy: 0.9600 - precision: 0.9697 - recall: 0.9512 - val_loss: 0.1822 - val_accuracy: 0.9457 - val_precision: 0.9552 - val_recall: 0.9384\n",
            "Epoch 30/30\n",
            "86/86 [==============================] - 1s 9ms/step - loss: 0.1162 - accuracy: 0.9644 - precision: 0.9741 - recall: 0.9520 - val_loss: 0.1849 - val_accuracy: 0.9501 - val_precision: 0.9608 - val_recall: 0.9355\n"
          ]
        }
      ]
    },
    {
      "cell_type": "markdown",
      "source": [
        "## Some plots"
      ],
      "metadata": {
        "id": "ROXVUovhYRWG"
      }
    },
    {
      "cell_type": "code",
      "source": [
        "import matplotlib.pyplot as plt\n",
        "# function for plotting loss\n",
        "def plot_metrics(train_metric, val_metric=None, metric_name=None, title=None, ylim=5):\n",
        "    plt.title(title)\n",
        "    plt.ylim(0,ylim)\n",
        "    plt.plot(train_metric,color='blue',label=metric_name)\n",
        "    if val_metric is not None: plt.plot(val_metric,color='green',label='val_' + metric_name)\n",
        "    plt.legend(loc=\"upper right\")\n",
        "\n",
        "# plot loss history\n",
        "plot_metrics(history.history['loss'], history.history['val_loss'], \"Loss\", \"Loss\", ylim=1.0)\n"
      ],
      "metadata": {
        "id": "gtIQvnUcg2T2",
        "colab": {
          "base_uri": "https://localhost:8080/",
          "height": 281
        },
        "outputId": "630f1279-e3d8-46bb-cfa1-d824e48f5494"
      },
      "execution_count": 32,
      "outputs": [
        {
          "output_type": "display_data",
          "data": {
            "text/plain": [
              "<Figure size 432x288 with 1 Axes>"
            ],
            "image/png": "[encoded data removed]"
          },
          "metadata": {
            "needs_background": "light"
          }
        }
      ]
    },
    {
      "cell_type": "code",
      "source": [
        "plot_metrics(history.history['accuracy'], history.history['val_accuracy'], \"Accuracy\", \"Accuracy\", ylim=1.0)\n"
      ],
      "metadata": {
        "id": "q6pBSQSPg2V6",
        "colab": {
          "base_uri": "https://localhost:8080/",
          "height": 281
        },
        "outputId": "bc595de4-326d-42ca-c0f3-78235a49c68e"
      },
      "execution_count": 33,
      "outputs": [
        {
          "output_type": "display_data",
          "data": {
            "text/plain": [
              "<Figure size 432x288 with 1 Axes>"
            ],
            "image/png": "[encoded data removed]"
          },
          "metadata": {
            "needs_background": "light"
          }
        }
      ]
    },
    {
      "cell_type": "code",
      "source": [
        "plot_metrics(history.history['precision'], history.history['val_precision'], \"Precision\", \"Precision\", ylim=1.0)\n"
      ],
      "metadata": {
        "id": "RPe1ekWlg2Yi",
        "colab": {
          "base_uri": "https://localhost:8080/",
          "height": 281
        },
        "outputId": "b1ea6ae0-1e10-4268-efb2-1f5cc37117b1"
      },
      "execution_count": 34,
      "outputs": [
        {
          "output_type": "display_data",
          "data": {
            "text/plain": [
              "<Figure size 432x288 with 1 Axes>"
            ],
            "image/png": "[encoded data removed]"
          },
          "metadata": {
            "needs_background": "light"
          }
        }
      ]
    },
    {
      "cell_type": "code",
      "source": [],
      "metadata": {
        "id": "TV0VeAxSg2a3"
      },
      "execution_count": 34,
      "outputs": []
    },
    {
      "cell_type": "markdown",
      "source": [
        "# Some manual validation"
      ],
      "metadata": {
        "id": "tNqRJ0wCbXMv"
      }
    },
    {
      "cell_type": "code",
      "source": [
        "level_intents"
      ],
      "metadata": {
        "colab": {
          "base_uri": "https://localhost:8080/"
        },
        "id": "gy6fQExA2T1L",
        "outputId": "c8cd5ac6-12ae-4f31-c5ad-66d885c72cab"
      },
      "execution_count": 35,
      "outputs": [
        {
          "output_type": "execute_result",
          "data": {
            "text/plain": [
              "Index(['atis_flight', 'atis_flight_time', 'atis_airfare', 'atis_aircraft',\n",
              "       'atis_ground_service', 'atis_airport', 'atis_airline', 'atis_distance',\n",
              "       'atis_abbreviation', 'atis_ground_fare', 'atis_quantity', 'atis_city',\n",
              "       'atis_capacity', 'atis_flight#atis_airfare'],\n",
              "      dtype='object')"
            ]
          },
          "metadata": {},
          "execution_count": 35
        }
      ]
    },
    {
      "cell_type": "code",
      "source": [
        "\n",
        "x_val = np.zeros((4, max_review_length))\n",
        "queries = ['Which hour is the next flight', 'how many flights leave in the morning', 'i want to flight to new york at the morning', 'which flight flies with an airbus A350']\n",
        "for ix, tokenized_sentence in enumerate(tokenizer.texts_to_sequences([preprocess_text(sentence, should_join=True) for sentence in queries])):\n",
        "    tokenized_sentence.extend([0]*(max_review_length-len(tokenized_sentence)))\n",
        "    x_val[ix] = tokenized_sentence\n",
        "y_val = tf.one_hot(tf.constant([1, 10, 0, 3 ]), 14)"
      ],
      "metadata": {
        "id": "eF2Trj0ul1a5"
      },
      "execution_count": 36,
      "outputs": []
    },
    {
      "cell_type": "code",
      "source": [
        "x_val"
      ],
      "metadata": {
        "colab": {
          "base_uri": "https://localhost:8080/"
        },
        "id": "7YTph1DKqQ3r",
        "outputId": "24d1d60c-d6b3-4075-9be7-e74846321b0a"
      },
      "execution_count": 37,
      "outputs": [
        {
          "output_type": "execute_result",
          "data": {
            "text/plain": [
              "array([[ 62.,  19.,   4., 111.,   8.,   0.,   0.,   0.,   0.,   0.,   0.,\n",
              "          0.,   0.,   0.,   0.,   0.,   0.,   0.,   0.,   0.,   0.,   0.,\n",
              "          0.,   0.,   0.,   0.,   0.,   0.,   0.,   0.,   0.,   0.,   0.,\n",
              "          0.,   0.,   0.,   0.,   0.,   0.,   0.,   0.,   0.,   0.],\n",
              "       [ 78., 141.,   3.,  69.,  14.,   4.,  33.,   0.,   0.,   0.,   0.,\n",
              "          0.,   0.,   0.,   0.,   0.,   0.,   0.,   0.,   0.,   0.,   0.,\n",
              "          0.,   0.,   0.,   0.,   0.,   0.,   0.,   0.,   0.,   0.,   0.,\n",
              "          0.,   0.,   0.,   0.,   0.,   0.,   0.,   0.,   0.,   0.],\n",
              "       [ 67.,   1.,   8.,   1.,  66.,  70.,  65.,   4.,  33.,   0.,   0.,\n",
              "          0.,   0.,   0.,   0.,   0.,   0.,   0.,   0.,   0.,   0.,   0.,\n",
              "          0.,   0.,   0.,   0.,   0.,   0.,   0.,   0.,   0.,   0.,   0.,\n",
              "          0.,   0.,   0.,   0.,   0.,   0.,   0.,   0.,   0.,   0.],\n",
              "       [ 62.,   8., 278.,  56., 140.,   0.,   0.,   0.,   0.,   0.,   0.,\n",
              "          0.,   0.,   0.,   0.,   0.,   0.,   0.,   0.,   0.,   0.,   0.,\n",
              "          0.,   0.,   0.,   0.,   0.,   0.,   0.,   0.,   0.,   0.,   0.,\n",
              "          0.,   0.,   0.,   0.,   0.,   0.,   0.,   0.,   0.,   0.]])"
            ]
          },
          "metadata": {},
          "execution_count": 37
        }
      ]
    },
    {
      "cell_type": "code",
      "source": [
        "model.predict(x_val)"
      ],
      "metadata": {
        "colab": {
          "base_uri": "https://localhost:8080/"
        },
        "id": "odJ47XJ8SmtC",
        "outputId": "3eecf4f9-c8af-4ed4-f4da-5733342b72bf"
      },
      "execution_count": 38,
      "outputs": [
        {
          "output_type": "stream",
          "name": "stdout",
          "text": [
            "1/1 [==============================] - 0s 151ms/step\n"
          ]
        },
        {
          "output_type": "execute_result",
          "data": {
            "text/plain": [
              "array([[9.87922609e-01, 4.83939238e-03, 1.23033797e-05, 1.14638948e-04,\n",
              "        5.38179120e-06, 2.76700710e-03, 2.11087591e-03, 1.34268557e-04,\n",
              "        5.22008013e-05, 9.86671125e-07, 7.82972143e-04, 1.21533289e-03,\n",
              "        2.06917539e-05, 2.12740324e-05],\n",
              "       [5.67750186e-02, 1.89499147e-02, 1.89591054e-04, 1.67286408e-03,\n",
              "        2.09380858e-07, 2.72134843e-04, 2.19631963e-03, 1.15288385e-04,\n",
              "        2.85549345e-03, 1.08795293e-05, 8.94409180e-01, 3.63733550e-03,\n",
              "        1.81336049e-02, 7.82170973e-04],\n",
              "       [9.99499798e-01, 2.25996191e-04, 9.46959915e-07, 3.53670725e-06,\n",
              "        3.66155348e-07, 1.44660444e-04, 8.03058501e-05, 1.11767931e-05,\n",
              "        2.36375186e-07, 2.58016204e-08, 2.62982235e-06, 2.98261621e-05,\n",
              "        5.60844136e-08, 4.63504222e-07],\n",
              "       [9.65652168e-01, 3.64327658e-04, 1.82500614e-07, 3.89954686e-04,\n",
              "        2.27665478e-05, 8.58227629e-03, 1.23124216e-02, 5.08750818e-05,\n",
              "        6.19870718e-07, 4.35138475e-07, 5.39100030e-04, 1.20226871e-02,\n",
              "        6.07392867e-05, 1.41354030e-06]], dtype=float32)"
            ]
          },
          "metadata": {},
          "execution_count": 38
        }
      ]
    },
    {
      "cell_type": "code",
      "source": [
        "tf.math.argmax(model.predict(x_val), axis=1)"
      ],
      "metadata": {
        "colab": {
          "base_uri": "https://localhost:8080/"
        },
        "id": "_gpxpoysBimf",
        "outputId": "20d18d20-ac43-4685-83af-9223c5e82896"
      },
      "execution_count": 39,
      "outputs": [
        {
          "output_type": "stream",
          "name": "stdout",
          "text": [
            "1/1 [==============================] - 0s 17ms/step\n"
          ]
        },
        {
          "output_type": "execute_result",
          "data": {
            "text/plain": [
              "<tf.Tensor: shape=(4,), dtype=int64, numpy=array([ 0, 10,  0,  0])>"
            ]
          },
          "metadata": {},
          "execution_count": 39
        }
      ]
    },
    {
      "cell_type": "code",
      "source": [
        "tf.math.argmax(model.predict(x_val), axis=1) == tf.math.argmax(y_val, axis=1)"
      ],
      "metadata": {
        "colab": {
          "base_uri": "https://localhost:8080/"
        },
        "id": "68dQDWkpSnIr",
        "outputId": "cc9303b4-1d64-4648-f503-5e69fc67964f"
      },
      "execution_count": 40,
      "outputs": [
        {
          "output_type": "stream",
          "name": "stdout",
          "text": [
            "1/1 [==============================] - 0s 18ms/step\n"
          ]
        },
        {
          "output_type": "execute_result",
          "data": {
            "text/plain": [
              "<tf.Tensor: shape=(4,), dtype=bool, numpy=array([False,  True,  True, False])>"
            ]
          },
          "metadata": {},
          "execution_count": 40
        }
      ]
    },
    {
      "cell_type": "code",
      "source": [
        "tf.math.argmax(y_val, axis=1)"
      ],
      "metadata": {
        "colab": {
          "base_uri": "https://localhost:8080/"
        },
        "id": "xEMXekdP2t14",
        "outputId": "7c4763f0-2b63-48c1-97bf-2e49d0beeb32"
      },
      "execution_count": 41,
      "outputs": [
        {
          "output_type": "execute_result",
          "data": {
            "text/plain": [
              "<tf.Tensor: shape=(4,), dtype=int64, numpy=array([ 1, 10,  0,  3])>"
            ]
          },
          "metadata": {},
          "execution_count": 41
        }
      ]
    },
    {
      "cell_type": "code",
      "source": [
        "model.evaluate(X_test_tensor, y_test_tensor)"
      ],
      "metadata": {
        "id": "icVOjVFybsU-",
        "colab": {
          "base_uri": "https://localhost:8080/"
        },
        "outputId": "29938bfc-ebaa-4ad5-eb12-19d5fbc3951f"
      },
      "execution_count": 42,
      "outputs": [
        {
          "output_type": "stream",
          "name": "stdout",
          "text": [
            "46/46 [==============================] - 0s 5ms/step - loss: 0.1501 - accuracy: 0.9596 - precision: 0.9666 - recall: 0.9494\n"
          ]
        },
        {
          "output_type": "execute_result",
          "data": {
            "text/plain": [
              "[0.15012985467910767,\n",
              " 0.9596443176269531,\n",
              " 0.9665738344192505,\n",
              " 0.9493843913078308]"
            ]
          },
          "metadata": {},
          "execution_count": 42
        }
      ]
    },
    {
      "cell_type": "markdown",
      "source": [
        "Therefore, the model is amazing, reaching 95% accuracy and F1 score"
      ],
      "metadata": {
        "id": "VBSc6m2LcPfk"
      }
    },
    {
      "cell_type": "code",
      "source": [],
      "metadata": {
        "id": "UGUTiuyLmIsg"
      },
      "execution_count": 42,
      "outputs": []
    }
  ]
}